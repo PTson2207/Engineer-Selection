{
 "metadata": {
  "language_info": {
   "codemirror_mode": {
    "name": "ipython",
    "version": 3
   },
   "file_extension": ".py",
   "mimetype": "text/x-python",
   "name": "python",
   "nbconvert_exporter": "python",
   "pygments_lexer": "ipython3",
   "version": "3.7.6"
  },
  "orig_nbformat": 2,
  "kernelspec": {
   "name": "python376jvsc74a57bd0812c04e35dc2017d178d326aa5395980bc18abc67fe5fd6ae6b58e824e490792",
   "display_name": "Python 3.7.6 64-bit ('base': conda)"
  }
 },
 "nbformat": 4,
 "nbformat_minor": 2,
 "cells": [
  {
   "source": [
    "# Project predict power in HackerEarth"
   ],
   "cell_type": "markdown",
   "metadata": {}
  },
  {
   "cell_type": "code",
   "execution_count": 1,
   "metadata": {},
   "outputs": [
    {
     "output_type": "stream",
     "name": "stderr",
     "text": [
      "C:\\Users\\Ut Luom\\anaconda3\\lib\\importlib\\_bootstrap.py:219: RuntimeWarning: numpy.ufunc size changed, may indicate binary incompatibility. Expected 192 from C header, got 216 from PyObject\n  return f(*args, **kwds)\n"
     ]
    }
   ],
   "source": [
    "import pandas as pd \n",
    "import numpy as np \n",
    "import matplotlib.pyplot as plt "
   ]
  },
  {
   "cell_type": "code",
   "execution_count": 15,
   "metadata": {},
   "outputs": [],
   "source": [
    "train = pd.read_csv(\"dataset/train.csv\", delimiter=';')\n",
    "test = pd.read_csv(\"dataset/test.csv\")"
   ]
  },
  {
   "cell_type": "code",
   "execution_count": 17,
   "metadata": {},
   "outputs": [
    {
     "output_type": "stream",
     "name": "stdout",
     "text": [
      "(28200, 22)\n(12086, 21)\n"
     ]
    }
   ],
   "source": [
    "print(train.shape)\n",
    "print(test.shape)"
   ]
  },
  {
   "cell_type": "code",
   "execution_count": 16,
   "metadata": {},
   "outputs": [
    {
     "output_type": "execute_result",
     "data": {
      "text/plain": [
       "  tracking_id          datetime         wind_speed(m/s)  \\\n",
       "0    WM_33725  04/08/2019 14:33     948.200.233.720.515   \n",
       "1      WM_698  05/11/2018 10:13   2.418.327.342.433.290   \n",
       "2    WM_39146  14/09/2019 14:03     954.847.243.168.022   \n",
       "3     WM_6757  25/12/2018 15:33     238.819.424.189.392   \n",
       "4    WM_21521   04/05/2019 3:13  10.722.890.034.533.600   \n",
       "\n",
       "  atmospheric_temperature(°C)   shaft_temperature(°C)         blades_angle(°)  \\\n",
       "0                       -99.0   4.172.301.901.002.240     -0.9034229029964116   \n",
       "1       2.776.478.479.112.670                   -99.0                   -99.0   \n",
       "2                         NaN   4.185.547.318.972.740  12.652.763.475.555.500   \n",
       "3                       -99.0  45.443.914.225.591.400  15.115.322.824.033.300   \n",
       "4                         NaN  41.981.183.413.619.800     171.569.609.953.903   \n",
       "\n",
       "   gearbox_temperature(°C)  engine_temperature(°C)       motor_torque(N-m)  \\\n",
       "0      824.105.731.886.329   4.252.301.541.748.170   2.563.124.522.271.660   \n",
       "1    4.410.491.890.863.700  46.258.870.003.796.300     237.238.411.894.776   \n",
       "2    4.232.209.842.785.770   4.287.855.166.354.410   1.657.169.646.195.760   \n",
       "3      447.596.425.098.985   4.728.210.075.871.680  28.881.340.790.298.900   \n",
       "4  -17.616.458.500.566.900   4.346.985.211.107.320   7.816.954.191.808.070   \n",
       "\n",
       "  generator_temperature(°C)  ... windmill_body_temperature(°C)  \\\n",
       "0     7.666.555.995.046.420  ...                           NaN   \n",
       "1       781.298.027.428.093  ...                           NaN   \n",
       "2       676.544.685.304.314  ...           450.331.967.484.824   \n",
       "3     9.538.997.435.471.020  ...         4.482.715.436.890.120   \n",
       "4     3.742.306.542.856.190  ...                         -99.0   \n",
       "\n",
       "       wind_direction(°)         resistance(ohm)       rotor_torque(N-m)  \\\n",
       "0  2.398.363.875.052.190  27.303.106.046.321.100   4.208.466.579.565.800   \n",
       "1  3.379.447.227.332.420  17.802.071.995.998.800   1.078.886.430.085.540   \n",
       "2  2.278.502.939.210.060  16.660.498.999.785.400  -4.293.145.891.998.500   \n",
       "3  4.920.815.204.039.820   1.964.502.894.909.400   4.274.459.574.387.460   \n",
       "4  2.592.746.005.570.490  11.775.161.521.986.600  13.387.288.791.628.100   \n",
       "\n",
       "  turbine_status cloud_level         blade_length(m) blade_breadth(m)  \\\n",
       "0             BA      Medium  22.175.416.426.903.600         0.314065   \n",
       "1             A2      Medium   4.210.346.301.256.760         0.448494   \n",
       "2            ABC      Medium   2.719.474.975.316.880         0.302321   \n",
       "3            ABC         NaN   4.857.385.190.162.680         0.367140   \n",
       "4            AAA      Medium                     NaN         0.453374   \n",
       "\n",
       "       windmill_height(m)  windmill_generated_power(kW/h)  \n",
       "0  24.281.688.936.170.100           6.766.520.694.736.840  \n",
       "1  27.262.138.695.327.100                     596.627.481  \n",
       "2   2.736.612.717.682.670          28.743.419.684.210.500  \n",
       "3   2.428.776.674.785.540                  14.851.089.325  \n",
       "4   2.797.165.033.838.180          35.190.735.473.684.200  \n",
       "\n",
       "[5 rows x 22 columns]"
      ],
      "text/html": "<div>\n<style scoped>\n    .dataframe tbody tr th:only-of-type {\n        vertical-align: middle;\n    }\n\n    .dataframe tbody tr th {\n        vertical-align: top;\n    }\n\n    .dataframe thead th {\n        text-align: right;\n    }\n</style>\n<table border=\"1\" class=\"dataframe\">\n  <thead>\n    <tr style=\"text-align: right;\">\n      <th></th>\n      <th>tracking_id</th>\n      <th>datetime</th>\n      <th>wind_speed(m/s)</th>\n      <th>atmospheric_temperature(°C)</th>\n      <th>shaft_temperature(°C)</th>\n      <th>blades_angle(°)</th>\n      <th>gearbox_temperature(°C)</th>\n      <th>engine_temperature(°C)</th>\n      <th>motor_torque(N-m)</th>\n      <th>generator_temperature(°C)</th>\n      <th>...</th>\n      <th>windmill_body_temperature(°C)</th>\n      <th>wind_direction(°)</th>\n      <th>resistance(ohm)</th>\n      <th>rotor_torque(N-m)</th>\n      <th>turbine_status</th>\n      <th>cloud_level</th>\n      <th>blade_length(m)</th>\n      <th>blade_breadth(m)</th>\n      <th>windmill_height(m)</th>\n      <th>windmill_generated_power(kW/h)</th>\n    </tr>\n  </thead>\n  <tbody>\n    <tr>\n      <th>0</th>\n      <td>WM_33725</td>\n      <td>04/08/2019 14:33</td>\n      <td>948.200.233.720.515</td>\n      <td>-99.0</td>\n      <td>4.172.301.901.002.240</td>\n      <td>-0.9034229029964116</td>\n      <td>824.105.731.886.329</td>\n      <td>4.252.301.541.748.170</td>\n      <td>2.563.124.522.271.660</td>\n      <td>7.666.555.995.046.420</td>\n      <td>...</td>\n      <td>NaN</td>\n      <td>2.398.363.875.052.190</td>\n      <td>27.303.106.046.321.100</td>\n      <td>4.208.466.579.565.800</td>\n      <td>BA</td>\n      <td>Medium</td>\n      <td>22.175.416.426.903.600</td>\n      <td>0.314065</td>\n      <td>24.281.688.936.170.100</td>\n      <td>6.766.520.694.736.840</td>\n    </tr>\n    <tr>\n      <th>1</th>\n      <td>WM_698</td>\n      <td>05/11/2018 10:13</td>\n      <td>2.418.327.342.433.290</td>\n      <td>2.776.478.479.112.670</td>\n      <td>-99.0</td>\n      <td>-99.0</td>\n      <td>4.410.491.890.863.700</td>\n      <td>46.258.870.003.796.300</td>\n      <td>237.238.411.894.776</td>\n      <td>781.298.027.428.093</td>\n      <td>...</td>\n      <td>NaN</td>\n      <td>3.379.447.227.332.420</td>\n      <td>17.802.071.995.998.800</td>\n      <td>1.078.886.430.085.540</td>\n      <td>A2</td>\n      <td>Medium</td>\n      <td>4.210.346.301.256.760</td>\n      <td>0.448494</td>\n      <td>27.262.138.695.327.100</td>\n      <td>596.627.481</td>\n    </tr>\n    <tr>\n      <th>2</th>\n      <td>WM_39146</td>\n      <td>14/09/2019 14:03</td>\n      <td>954.847.243.168.022</td>\n      <td>NaN</td>\n      <td>4.185.547.318.972.740</td>\n      <td>12.652.763.475.555.500</td>\n      <td>4.232.209.842.785.770</td>\n      <td>4.287.855.166.354.410</td>\n      <td>1.657.169.646.195.760</td>\n      <td>676.544.685.304.314</td>\n      <td>...</td>\n      <td>450.331.967.484.824</td>\n      <td>2.278.502.939.210.060</td>\n      <td>16.660.498.999.785.400</td>\n      <td>-4.293.145.891.998.500</td>\n      <td>ABC</td>\n      <td>Medium</td>\n      <td>2.719.474.975.316.880</td>\n      <td>0.302321</td>\n      <td>2.736.612.717.682.670</td>\n      <td>28.743.419.684.210.500</td>\n    </tr>\n    <tr>\n      <th>3</th>\n      <td>WM_6757</td>\n      <td>25/12/2018 15:33</td>\n      <td>238.819.424.189.392</td>\n      <td>-99.0</td>\n      <td>45.443.914.225.591.400</td>\n      <td>15.115.322.824.033.300</td>\n      <td>447.596.425.098.985</td>\n      <td>4.728.210.075.871.680</td>\n      <td>28.881.340.790.298.900</td>\n      <td>9.538.997.435.471.020</td>\n      <td>...</td>\n      <td>4.482.715.436.890.120</td>\n      <td>4.920.815.204.039.820</td>\n      <td>1.964.502.894.909.400</td>\n      <td>4.274.459.574.387.460</td>\n      <td>ABC</td>\n      <td>NaN</td>\n      <td>4.857.385.190.162.680</td>\n      <td>0.367140</td>\n      <td>2.428.776.674.785.540</td>\n      <td>14.851.089.325</td>\n    </tr>\n    <tr>\n      <th>4</th>\n      <td>WM_21521</td>\n      <td>04/05/2019 3:13</td>\n      <td>10.722.890.034.533.600</td>\n      <td>NaN</td>\n      <td>41.981.183.413.619.800</td>\n      <td>171.569.609.953.903</td>\n      <td>-17.616.458.500.566.900</td>\n      <td>4.346.985.211.107.320</td>\n      <td>7.816.954.191.808.070</td>\n      <td>3.742.306.542.856.190</td>\n      <td>...</td>\n      <td>-99.0</td>\n      <td>2.592.746.005.570.490</td>\n      <td>11.775.161.521.986.600</td>\n      <td>13.387.288.791.628.100</td>\n      <td>AAA</td>\n      <td>Medium</td>\n      <td>NaN</td>\n      <td>0.453374</td>\n      <td>2.797.165.033.838.180</td>\n      <td>35.190.735.473.684.200</td>\n    </tr>\n  </tbody>\n</table>\n<p>5 rows × 22 columns</p>\n</div>"
     },
     "metadata": {},
     "execution_count": 16
    }
   ],
   "source": [
    "train.head()"
   ]
  },
  {
   "cell_type": "code",
   "execution_count": 18,
   "metadata": {},
   "outputs": [
    {
     "output_type": "execute_result",
     "data": {
      "text/plain": [
       "  tracking_id             datetime  wind_speed(m/s)  \\\n",
       "0    WM_19817  2019-04-17 08:53:20        94.324266   \n",
       "1    WM_18723  2019-03-30 07:43:20        10.088870   \n",
       "2    WM_34552  2019-08-10 11:33:20       347.152090   \n",
       "3    WM_28570  2019-06-26 03:53:20        24.471997   \n",
       "4    WM_36934  2019-08-27 16:43:20        96.997026   \n",
       "\n",
       "   atmospheric_temperature(°C)  shaft_temperature(°C)  blades_angle(°)  \\\n",
       "0                    17.641186              89.714193        51.146788   \n",
       "1                    13.978119              43.272846        46.516394   \n",
       "2                    31.423035              41.076640        26.931602   \n",
       "3                   -99.000000              14.375078        66.513953   \n",
       "4                    33.281836              41.405192         1.843112   \n",
       "\n",
       "   gearbox_temperature(°C)  engine_temperature(°C)  motor_torque(N-m)  \\\n",
       "0                40.460560               39.594734        1073.202715   \n",
       "1                40.027788               41.176860         517.436430   \n",
       "2                43.109122               43.439556        1480.716492   \n",
       "3                13.741253               15.577472         887.979475   \n",
       "4               121.572907               43.934587        2053.916354   \n",
       "\n",
       "   generator_temperature(°C)  ...  area_temperature(°C)  \\\n",
       "0                  66.830037  ...             24.004812   \n",
       "1                  37.284163  ...             29.431813   \n",
       "2                  70.010762  ...             29.924235   \n",
       "3                  41.445258  ...             23.886434   \n",
       "4                  68.007787  ...             35.906889   \n",
       "\n",
       "   windmill_body_temperature(°C)  wind_direction(°)  resistance(ohm)  \\\n",
       "0                      43.756693         445.976992      1664.222023   \n",
       "1                      42.728174         499.595287      1165.111992   \n",
       "2                      43.256122         245.432231      1667.720491   \n",
       "3                      13.501595                NaN      1329.744740   \n",
       "4                     -99.000000         442.425744       691.408996   \n",
       "\n",
       "   rotor_torque(N-m)  turbine_status cloud_level blade_length(m)  \\\n",
       "0          21.912243              BA      Medium        3.185837   \n",
       "1         -35.050093               A      Medium        3.016603   \n",
       "2          27.195302              B2      Medium        2.611941   \n",
       "3          15.245757             BBB         Low        2.866805   \n",
       "4          34.257024               A         Low        3.549672   \n",
       "\n",
       "   blade_breadth(m)  windmill_height(m)  \n",
       "0          0.403965           25.572431  \n",
       "1          0.444755           24.371823  \n",
       "2          0.387368           27.654677  \n",
       "3          0.450478           24.189426  \n",
       "4          0.368355            4.885440  \n",
       "\n",
       "[5 rows x 21 columns]"
      ],
      "text/html": "<div>\n<style scoped>\n    .dataframe tbody tr th:only-of-type {\n        vertical-align: middle;\n    }\n\n    .dataframe tbody tr th {\n        vertical-align: top;\n    }\n\n    .dataframe thead th {\n        text-align: right;\n    }\n</style>\n<table border=\"1\" class=\"dataframe\">\n  <thead>\n    <tr style=\"text-align: right;\">\n      <th></th>\n      <th>tracking_id</th>\n      <th>datetime</th>\n      <th>wind_speed(m/s)</th>\n      <th>atmospheric_temperature(°C)</th>\n      <th>shaft_temperature(°C)</th>\n      <th>blades_angle(°)</th>\n      <th>gearbox_temperature(°C)</th>\n      <th>engine_temperature(°C)</th>\n      <th>motor_torque(N-m)</th>\n      <th>generator_temperature(°C)</th>\n      <th>...</th>\n      <th>area_temperature(°C)</th>\n      <th>windmill_body_temperature(°C)</th>\n      <th>wind_direction(°)</th>\n      <th>resistance(ohm)</th>\n      <th>rotor_torque(N-m)</th>\n      <th>turbine_status</th>\n      <th>cloud_level</th>\n      <th>blade_length(m)</th>\n      <th>blade_breadth(m)</th>\n      <th>windmill_height(m)</th>\n    </tr>\n  </thead>\n  <tbody>\n    <tr>\n      <th>0</th>\n      <td>WM_19817</td>\n      <td>2019-04-17 08:53:20</td>\n      <td>94.324266</td>\n      <td>17.641186</td>\n      <td>89.714193</td>\n      <td>51.146788</td>\n      <td>40.460560</td>\n      <td>39.594734</td>\n      <td>1073.202715</td>\n      <td>66.830037</td>\n      <td>...</td>\n      <td>24.004812</td>\n      <td>43.756693</td>\n      <td>445.976992</td>\n      <td>1664.222023</td>\n      <td>21.912243</td>\n      <td>BA</td>\n      <td>Medium</td>\n      <td>3.185837</td>\n      <td>0.403965</td>\n      <td>25.572431</td>\n    </tr>\n    <tr>\n      <th>1</th>\n      <td>WM_18723</td>\n      <td>2019-03-30 07:43:20</td>\n      <td>10.088870</td>\n      <td>13.978119</td>\n      <td>43.272846</td>\n      <td>46.516394</td>\n      <td>40.027788</td>\n      <td>41.176860</td>\n      <td>517.436430</td>\n      <td>37.284163</td>\n      <td>...</td>\n      <td>29.431813</td>\n      <td>42.728174</td>\n      <td>499.595287</td>\n      <td>1165.111992</td>\n      <td>-35.050093</td>\n      <td>A</td>\n      <td>Medium</td>\n      <td>3.016603</td>\n      <td>0.444755</td>\n      <td>24.371823</td>\n    </tr>\n    <tr>\n      <th>2</th>\n      <td>WM_34552</td>\n      <td>2019-08-10 11:33:20</td>\n      <td>347.152090</td>\n      <td>31.423035</td>\n      <td>41.076640</td>\n      <td>26.931602</td>\n      <td>43.109122</td>\n      <td>43.439556</td>\n      <td>1480.716492</td>\n      <td>70.010762</td>\n      <td>...</td>\n      <td>29.924235</td>\n      <td>43.256122</td>\n      <td>245.432231</td>\n      <td>1667.720491</td>\n      <td>27.195302</td>\n      <td>B2</td>\n      <td>Medium</td>\n      <td>2.611941</td>\n      <td>0.387368</td>\n      <td>27.654677</td>\n    </tr>\n    <tr>\n      <th>3</th>\n      <td>WM_28570</td>\n      <td>2019-06-26 03:53:20</td>\n      <td>24.471997</td>\n      <td>-99.000000</td>\n      <td>14.375078</td>\n      <td>66.513953</td>\n      <td>13.741253</td>\n      <td>15.577472</td>\n      <td>887.979475</td>\n      <td>41.445258</td>\n      <td>...</td>\n      <td>23.886434</td>\n      <td>13.501595</td>\n      <td>NaN</td>\n      <td>1329.744740</td>\n      <td>15.245757</td>\n      <td>BBB</td>\n      <td>Low</td>\n      <td>2.866805</td>\n      <td>0.450478</td>\n      <td>24.189426</td>\n    </tr>\n    <tr>\n      <th>4</th>\n      <td>WM_36934</td>\n      <td>2019-08-27 16:43:20</td>\n      <td>96.997026</td>\n      <td>33.281836</td>\n      <td>41.405192</td>\n      <td>1.843112</td>\n      <td>121.572907</td>\n      <td>43.934587</td>\n      <td>2053.916354</td>\n      <td>68.007787</td>\n      <td>...</td>\n      <td>35.906889</td>\n      <td>-99.000000</td>\n      <td>442.425744</td>\n      <td>691.408996</td>\n      <td>34.257024</td>\n      <td>A</td>\n      <td>Low</td>\n      <td>3.549672</td>\n      <td>0.368355</td>\n      <td>4.885440</td>\n    </tr>\n  </tbody>\n</table>\n<p>5 rows × 21 columns</p>\n</div>"
     },
     "metadata": {},
     "execution_count": 18
    }
   ],
   "source": [
    "test.head()"
   ]
  }
 ]
}