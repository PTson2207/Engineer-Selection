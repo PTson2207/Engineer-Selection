{
 "metadata": {
  "language_info": {
   "codemirror_mode": {
    "name": "ipython",
    "version": 3
   },
   "file_extension": ".py",
   "mimetype": "text/x-python",
   "name": "python",
   "nbconvert_exporter": "python",
   "pygments_lexer": "ipython3",
   "version": "3.7.6"
  },
  "orig_nbformat": 2,
  "kernelspec": {
   "name": "python376jvsc74a57bd0812c04e35dc2017d178d326aa5395980bc18abc67fe5fd6ae6b58e824e490792",
   "display_name": "Python 3.7.6 64-bit ('base': conda)"
  }
 },
 "nbformat": 4,
 "nbformat_minor": 2,
 "cells": [
  {
   "cell_type": "code",
   "execution_count": 1,
   "metadata": {},
   "outputs": [],
   "source": [
    "import pandas as pd \n",
    "import numpy as np\n",
    "import matplotlib.pyplot as plt \n",
    "import seaborn as sns\n",
    "from sklearn.model_selection import train_test_split\n",
    "from sklearn.ensemble import RandomForestClassifier, RandomForestRegressor\n",
    "from sklearn.metrics import roc_auc_score\n",
    "from mlxtend.feature_selection import SequentialFeatureSelector as SFS"
   ]
  },
  {
   "cell_type": "code",
   "execution_count": 2,
   "metadata": {},
   "outputs": [],
   "source": [
    "df = pd.read_csv(\"Data/power-data/save_data/train_process.csv\")\n",
    "df = df.drop([\"Unnamed: 0\"], axis=1)"
   ]
  },
  {
   "cell_type": "code",
   "execution_count": 3,
   "metadata": {},
   "outputs": [
    {
     "output_type": "execute_result",
     "data": {
      "text/plain": [
       "   turbine_status_impute_mode  cloud_level_impute_mode  wind_speed(m/s)  \\\n",
       "0                           2                        2        94.820023   \n",
       "1                           3                        2       241.832734   \n",
       "2                           1                        2        95.484724   \n",
       "3                           1                        1       238.819424   \n",
       "4                           6                        2        10.722890   \n",
       "\n",
       "   atmospheric_temperature(°C)  shaft_temperature(°C)  blades_angle(°)  \\\n",
       "0                     0.371184              41.723019        -0.903423   \n",
       "1                    27.764785             -99.000000        -9.656611   \n",
       "2                     0.371184              41.855473        12.652763   \n",
       "3                     0.371184              45.443914        15.115323   \n",
       "4                     0.371184              41.981183         1.715696   \n",
       "\n",
       "   gearbox_temperature(°C)  engine_temperature(°C)  motor_torque(N-m)  \\\n",
       "0                82.410573               42.523015        2563.124522   \n",
       "1                44.104919               46.258870        2372.384119   \n",
       "2                42.322098               42.878552        1657.169646   \n",
       "3                44.759643               47.282101        2888.134079   \n",
       "4               -17.616459               43.469852         781.695419   \n",
       "\n",
       "   generator_temperature(°C)  ...  windmill_body_temperature(°C)  \\\n",
       "0                  76.665560  ...                      20.767246   \n",
       "1                  78.129803  ...                      20.767246   \n",
       "2                  67.654469  ...                      45.033197   \n",
       "3                  95.389974  ...                      44.827154   \n",
       "4                  37.423065  ...                      20.865737   \n",
       "\n",
       "   wind_direction(°)  resistance(ohm)  rotor_torque(N-m)  blade_length(m)  \\\n",
       "0         239.836388      2730.310605          42.084666         2.217542   \n",
       "1         337.944723      1780.207200         107.888643         4.210346   \n",
       "2         227.850294      1666.049900         -42.931459         2.719475   \n",
       "3         492.081520      1964.502895          42.744596         4.857385   \n",
       "4         259.274601      1177.516152          13.387289         2.248762   \n",
       "\n",
       "   blade_breadth(m)  windmill_height(m)  windmill_generated_power(kW/h)  \\\n",
       "0          0.314065           24.281689                        6.766521   \n",
       "1          0.448494           27.262139                        5.966275   \n",
       "2          0.302321           27.366127                        2.874342   \n",
       "3          0.367140           24.287767                       14.851089   \n",
       "4          0.453374           27.971650                        3.519074   \n",
       "\n",
       "   atmospheric_temperature(°K)  mat_do_khi_quyen  \n",
       "0                   174.000000          2.070208  \n",
       "1                   300.764785          0.197261  \n",
       "2                   273.371184          0.205495  \n",
       "3                   174.000000          0.374183  \n",
       "4                   273.371184          1.458688  \n",
       "\n",
       "[5 rows x 22 columns]"
      ],
      "text/html": "<div>\n<style scoped>\n    .dataframe tbody tr th:only-of-type {\n        vertical-align: middle;\n    }\n\n    .dataframe tbody tr th {\n        vertical-align: top;\n    }\n\n    .dataframe thead th {\n        text-align: right;\n    }\n</style>\n<table border=\"1\" class=\"dataframe\">\n  <thead>\n    <tr style=\"text-align: right;\">\n      <th></th>\n      <th>turbine_status_impute_mode</th>\n      <th>cloud_level_impute_mode</th>\n      <th>wind_speed(m/s)</th>\n      <th>atmospheric_temperature(°C)</th>\n      <th>shaft_temperature(°C)</th>\n      <th>blades_angle(°)</th>\n      <th>gearbox_temperature(°C)</th>\n      <th>engine_temperature(°C)</th>\n      <th>motor_torque(N-m)</th>\n      <th>generator_temperature(°C)</th>\n      <th>...</th>\n      <th>windmill_body_temperature(°C)</th>\n      <th>wind_direction(°)</th>\n      <th>resistance(ohm)</th>\n      <th>rotor_torque(N-m)</th>\n      <th>blade_length(m)</th>\n      <th>blade_breadth(m)</th>\n      <th>windmill_height(m)</th>\n      <th>windmill_generated_power(kW/h)</th>\n      <th>atmospheric_temperature(°K)</th>\n      <th>mat_do_khi_quyen</th>\n    </tr>\n  </thead>\n  <tbody>\n    <tr>\n      <th>0</th>\n      <td>2</td>\n      <td>2</td>\n      <td>94.820023</td>\n      <td>0.371184</td>\n      <td>41.723019</td>\n      <td>-0.903423</td>\n      <td>82.410573</td>\n      <td>42.523015</td>\n      <td>2563.124522</td>\n      <td>76.665560</td>\n      <td>...</td>\n      <td>20.767246</td>\n      <td>239.836388</td>\n      <td>2730.310605</td>\n      <td>42.084666</td>\n      <td>2.217542</td>\n      <td>0.314065</td>\n      <td>24.281689</td>\n      <td>6.766521</td>\n      <td>174.000000</td>\n      <td>2.070208</td>\n    </tr>\n    <tr>\n      <th>1</th>\n      <td>3</td>\n      <td>2</td>\n      <td>241.832734</td>\n      <td>27.764785</td>\n      <td>-99.000000</td>\n      <td>-9.656611</td>\n      <td>44.104919</td>\n      <td>46.258870</td>\n      <td>2372.384119</td>\n      <td>78.129803</td>\n      <td>...</td>\n      <td>20.767246</td>\n      <td>337.944723</td>\n      <td>1780.207200</td>\n      <td>107.888643</td>\n      <td>4.210346</td>\n      <td>0.448494</td>\n      <td>27.262139</td>\n      <td>5.966275</td>\n      <td>300.764785</td>\n      <td>0.197261</td>\n    </tr>\n    <tr>\n      <th>2</th>\n      <td>1</td>\n      <td>2</td>\n      <td>95.484724</td>\n      <td>0.371184</td>\n      <td>41.855473</td>\n      <td>12.652763</td>\n      <td>42.322098</td>\n      <td>42.878552</td>\n      <td>1657.169646</td>\n      <td>67.654469</td>\n      <td>...</td>\n      <td>45.033197</td>\n      <td>227.850294</td>\n      <td>1666.049900</td>\n      <td>-42.931459</td>\n      <td>2.719475</td>\n      <td>0.302321</td>\n      <td>27.366127</td>\n      <td>2.874342</td>\n      <td>273.371184</td>\n      <td>0.205495</td>\n    </tr>\n    <tr>\n      <th>3</th>\n      <td>1</td>\n      <td>1</td>\n      <td>238.819424</td>\n      <td>0.371184</td>\n      <td>45.443914</td>\n      <td>15.115323</td>\n      <td>44.759643</td>\n      <td>47.282101</td>\n      <td>2888.134079</td>\n      <td>95.389974</td>\n      <td>...</td>\n      <td>44.827154</td>\n      <td>492.081520</td>\n      <td>1964.502895</td>\n      <td>42.744596</td>\n      <td>4.857385</td>\n      <td>0.367140</td>\n      <td>24.287767</td>\n      <td>14.851089</td>\n      <td>174.000000</td>\n      <td>0.374183</td>\n    </tr>\n    <tr>\n      <th>4</th>\n      <td>6</td>\n      <td>2</td>\n      <td>10.722890</td>\n      <td>0.371184</td>\n      <td>41.981183</td>\n      <td>1.715696</td>\n      <td>-17.616459</td>\n      <td>43.469852</td>\n      <td>781.695419</td>\n      <td>37.423065</td>\n      <td>...</td>\n      <td>20.865737</td>\n      <td>259.274601</td>\n      <td>1177.516152</td>\n      <td>13.387289</td>\n      <td>2.248762</td>\n      <td>0.453374</td>\n      <td>27.971650</td>\n      <td>3.519074</td>\n      <td>273.371184</td>\n      <td>1.458688</td>\n    </tr>\n  </tbody>\n</table>\n<p>5 rows × 22 columns</p>\n</div>"
     },
     "metadata": {},
     "execution_count": 3
    }
   ],
   "source": [
    "df.head()"
   ]
  },
  {
   "cell_type": "code",
   "execution_count": 4,
   "metadata": {},
   "outputs": [],
   "source": [
    "X = df.drop(['windmill_generated_power(kW/h)'], axis=1)\n",
    "y = df['windmill_generated_power(kW/h)']"
   ]
  },
  {
   "cell_type": "code",
   "execution_count": 5,
   "metadata": {},
   "outputs": [],
   "source": [
    "X_train, X_test, y_train, y_test = train_test_split(X, y, test_size=0.2, random_state=42)"
   ]
  },
  {
   "source": [
    " Remove the hight correlation"
   ],
   "cell_type": "markdown",
   "metadata": {}
  },
  {
   "cell_type": "code",
   "execution_count": 6,
   "metadata": {},
   "outputs": [],
   "source": [
    "# lam cho thuat toan nhanh hon\n",
    "# tao khoang trong bit cho cac feature\n",
    "# tranh overfitting\n",
    "def correlation(dataset, threshold):\n",
    "    col_corr = set()\n",
    "    corr_matrix = dataset.corr()\n",
    "    for i in range(len(corr_matrix.columns)):\n",
    "        for j in range(i):\n",
    "            if abs(corr_matrix.iloc[i, j]) > threshold:\n",
    "                colname = corr_matrix.columns[i]\n",
    "                col_corr.add(colname)\n",
    "    return col_corr"
   ]
  },
  {
   "cell_type": "code",
   "execution_count": 7,
   "metadata": {},
   "outputs": [
    {
     "output_type": "stream",
     "name": "stdout",
     "text": [
      "Correlation Feature: 2\n"
     ]
    }
   ],
   "source": [
    "corr_feature = correlation(X_train, 0.8)\n",
    "print(\"Correlation Feature:\", len(corr_feature))"
   ]
  },
  {
   "cell_type": "code",
   "execution_count": 8,
   "metadata": {},
   "outputs": [
    {
     "output_type": "execute_result",
     "data": {
      "text/plain": [
       "{'generator_temperature(°C)', 'mat_do_khi_quyen'}"
      ]
     },
     "metadata": {},
     "execution_count": 8
    }
   ],
   "source": [
    "corr_feature"
   ]
  },
  {
   "cell_type": "code",
   "execution_count": 9,
   "metadata": {},
   "outputs": [
    {
     "output_type": "execute_result",
     "data": {
      "text/plain": [
       "       turbine_status_impute_mode  cloud_level_impute_mode  wind_speed(m/s)  \\\n",
       "18419                          13                        1      -121.256687   \n",
       "15909                           9                        1        32.494780   \n",
       "18318                          11                        2        20.594481   \n",
       "23647                          13                        1        94.101591   \n",
       "7241                            9                        1        92.024674   \n",
       "...                           ...                      ...              ...   \n",
       "3953                           13                        2        92.897743   \n",
       "21863                           1                        1        93.986542   \n",
       "2085                           13                        1        35.412255   \n",
       "17835                          14                        1        25.734781   \n",
       "26414                           7                        2        69.032217   \n",
       "\n",
       "       atmospheric_temperature(°C)  shaft_temperature(°C)  blades_angle(°)  \\\n",
       "18419                    22.784201              43.266757        -9.656611   \n",
       "15909                    11.798903              -5.300211        -1.069185   \n",
       "18318                    11.599239              43.677175        -9.656611   \n",
       "23647                    18.721167              46.337774        -1.131772   \n",
       "7241                     20.406279              41.449477        -9.656611   \n",
       "...                            ...                    ...              ...   \n",
       "3953                     20.610433              43.480141        -1.056697   \n",
       "21863                    19.321092              90.590594        -1.087198   \n",
       "2085                     10.289493              45.204084        -9.656611   \n",
       "17835                     0.371184              66.047879        -1.087183   \n",
       "26414                     0.371184              41.492647        -9.656611   \n",
       "\n",
       "       gearbox_temperature(°C)  engine_temperature(°C)  motor_torque(N-m)  \\\n",
       "18419                11.433379               41.582521        2109.217213   \n",
       "15909                44.917840               41.493475         895.652692   \n",
       "18318                44.879601               43.692938         821.279342   \n",
       "23647                48.049781               43.619410        2752.232203   \n",
       "7241                 40.692350               40.585019        1083.579721   \n",
       "...                        ...                     ...                ...   \n",
       "3953                 -7.160819               43.495173        2718.173741   \n",
       "21863                83.256219               44.635393        2322.134505   \n",
       "2085                 45.863665               43.991071         918.792265   \n",
       "17835              -130.012016               45.184916         872.085859   \n",
       "26414                40.917932               42.269866         531.636039   \n",
       "\n",
       "       atmospheric_pressure(Pascal)  area_temperature(°C)  \\\n",
       "18419                  53048.942126             36.990955   \n",
       "15909                 123588.707929             26.594508   \n",
       "18318                 -27428.496469             30.871969   \n",
       "23647                  18361.778724             45.712962   \n",
       "7241                   16441.393334             21.469727   \n",
       "...                             ...                   ...   \n",
       "3953                   53048.942126             40.568612   \n",
       "21863                  16832.782181             37.026331   \n",
       "2085                  134750.863833             44.809644   \n",
       "17835                 408247.481963             33.217468   \n",
       "26414                 110347.559373             35.093039   \n",
       "\n",
       "       windmill_body_temperature(°C)  wind_direction(°)  resistance(ohm)  \\\n",
       "18419                      44.268855         257.780195      1699.601221   \n",
       "15909                      41.486682         223.421703      1345.337612   \n",
       "18318                      20.865737         239.243219      1281.737701   \n",
       "23647                      43.511750           0.000000      1869.951080   \n",
       "7241                       41.227142          44.802554      1665.383448   \n",
       "...                              ...                ...              ...   \n",
       "3953                       42.187517         242.304491      1880.030128   \n",
       "21863                      43.385197         242.210823      1762.120252   \n",
       "2085                       45.799243         474.754001      1362.826380   \n",
       "17835                      42.840418         205.049940      1314.577927   \n",
       "26414                      42.865800         180.870608       -99.000000   \n",
       "\n",
       "       rotor_torque(N-m)  blade_length(m)  blade_breadth(m)  \\\n",
       "18419          38.045256         2.960598          0.459823   \n",
       "15909         -56.231571         3.641664          0.480725   \n",
       "18318          14.246644         3.104885          0.415148   \n",
       "23647          43.427423         4.370876          0.367207   \n",
       "7241           22.031056         4.686664          0.366413   \n",
       "...                  ...              ...               ...   \n",
       "3953           42.285202         4.133384          0.480939   \n",
       "21863          37.817020         0.838611          0.433496   \n",
       "2085          -36.683819         2.248762          0.371655   \n",
       "17835          15.777533         4.923513          0.393053   \n",
       "26414           5.833935         4.534396          0.448843   \n",
       "\n",
       "       windmill_height(m)  atmospheric_temperature(°K)  \n",
       "18419           34.679266                   295.784201  \n",
       "15909           17.968470                   284.798903  \n",
       "18318           27.219702                   284.599239  \n",
       "23647           27.023873                   291.721167  \n",
       "7241            25.372842                   293.406279  \n",
       "...                   ...                          ...  \n",
       "3953            26.452663                   293.610433  \n",
       "21863           26.972639                   292.321092  \n",
       "2085            48.228843                   283.289493  \n",
       "17835           26.536670                   174.000000  \n",
       "26414           27.128760                   174.000000  \n",
       "\n",
       "[5599 rows x 19 columns]"
      ],
      "text/html": "<div>\n<style scoped>\n    .dataframe tbody tr th:only-of-type {\n        vertical-align: middle;\n    }\n\n    .dataframe tbody tr th {\n        vertical-align: top;\n    }\n\n    .dataframe thead th {\n        text-align: right;\n    }\n</style>\n<table border=\"1\" class=\"dataframe\">\n  <thead>\n    <tr style=\"text-align: right;\">\n      <th></th>\n      <th>turbine_status_impute_mode</th>\n      <th>cloud_level_impute_mode</th>\n      <th>wind_speed(m/s)</th>\n      <th>atmospheric_temperature(°C)</th>\n      <th>shaft_temperature(°C)</th>\n      <th>blades_angle(°)</th>\n      <th>gearbox_temperature(°C)</th>\n      <th>engine_temperature(°C)</th>\n      <th>motor_torque(N-m)</th>\n      <th>atmospheric_pressure(Pascal)</th>\n      <th>area_temperature(°C)</th>\n      <th>windmill_body_temperature(°C)</th>\n      <th>wind_direction(°)</th>\n      <th>resistance(ohm)</th>\n      <th>rotor_torque(N-m)</th>\n      <th>blade_length(m)</th>\n      <th>blade_breadth(m)</th>\n      <th>windmill_height(m)</th>\n      <th>atmospheric_temperature(°K)</th>\n    </tr>\n  </thead>\n  <tbody>\n    <tr>\n      <th>18419</th>\n      <td>13</td>\n      <td>1</td>\n      <td>-121.256687</td>\n      <td>22.784201</td>\n      <td>43.266757</td>\n      <td>-9.656611</td>\n      <td>11.433379</td>\n      <td>41.582521</td>\n      <td>2109.217213</td>\n      <td>53048.942126</td>\n      <td>36.990955</td>\n      <td>44.268855</td>\n      <td>257.780195</td>\n      <td>1699.601221</td>\n      <td>38.045256</td>\n      <td>2.960598</td>\n      <td>0.459823</td>\n      <td>34.679266</td>\n      <td>295.784201</td>\n    </tr>\n    <tr>\n      <th>15909</th>\n      <td>9</td>\n      <td>1</td>\n      <td>32.494780</td>\n      <td>11.798903</td>\n      <td>-5.300211</td>\n      <td>-1.069185</td>\n      <td>44.917840</td>\n      <td>41.493475</td>\n      <td>895.652692</td>\n      <td>123588.707929</td>\n      <td>26.594508</td>\n      <td>41.486682</td>\n      <td>223.421703</td>\n      <td>1345.337612</td>\n      <td>-56.231571</td>\n      <td>3.641664</td>\n      <td>0.480725</td>\n      <td>17.968470</td>\n      <td>284.798903</td>\n    </tr>\n    <tr>\n      <th>18318</th>\n      <td>11</td>\n      <td>2</td>\n      <td>20.594481</td>\n      <td>11.599239</td>\n      <td>43.677175</td>\n      <td>-9.656611</td>\n      <td>44.879601</td>\n      <td>43.692938</td>\n      <td>821.279342</td>\n      <td>-27428.496469</td>\n      <td>30.871969</td>\n      <td>20.865737</td>\n      <td>239.243219</td>\n      <td>1281.737701</td>\n      <td>14.246644</td>\n      <td>3.104885</td>\n      <td>0.415148</td>\n      <td>27.219702</td>\n      <td>284.599239</td>\n    </tr>\n    <tr>\n      <th>23647</th>\n      <td>13</td>\n      <td>1</td>\n      <td>94.101591</td>\n      <td>18.721167</td>\n      <td>46.337774</td>\n      <td>-1.131772</td>\n      <td>48.049781</td>\n      <td>43.619410</td>\n      <td>2752.232203</td>\n      <td>18361.778724</td>\n      <td>45.712962</td>\n      <td>43.511750</td>\n      <td>0.000000</td>\n      <td>1869.951080</td>\n      <td>43.427423</td>\n      <td>4.370876</td>\n      <td>0.367207</td>\n      <td>27.023873</td>\n      <td>291.721167</td>\n    </tr>\n    <tr>\n      <th>7241</th>\n      <td>9</td>\n      <td>1</td>\n      <td>92.024674</td>\n      <td>20.406279</td>\n      <td>41.449477</td>\n      <td>-9.656611</td>\n      <td>40.692350</td>\n      <td>40.585019</td>\n      <td>1083.579721</td>\n      <td>16441.393334</td>\n      <td>21.469727</td>\n      <td>41.227142</td>\n      <td>44.802554</td>\n      <td>1665.383448</td>\n      <td>22.031056</td>\n      <td>4.686664</td>\n      <td>0.366413</td>\n      <td>25.372842</td>\n      <td>293.406279</td>\n    </tr>\n    <tr>\n      <th>...</th>\n      <td>...</td>\n      <td>...</td>\n      <td>...</td>\n      <td>...</td>\n      <td>...</td>\n      <td>...</td>\n      <td>...</td>\n      <td>...</td>\n      <td>...</td>\n      <td>...</td>\n      <td>...</td>\n      <td>...</td>\n      <td>...</td>\n      <td>...</td>\n      <td>...</td>\n      <td>...</td>\n      <td>...</td>\n      <td>...</td>\n      <td>...</td>\n    </tr>\n    <tr>\n      <th>3953</th>\n      <td>13</td>\n      <td>2</td>\n      <td>92.897743</td>\n      <td>20.610433</td>\n      <td>43.480141</td>\n      <td>-1.056697</td>\n      <td>-7.160819</td>\n      <td>43.495173</td>\n      <td>2718.173741</td>\n      <td>53048.942126</td>\n      <td>40.568612</td>\n      <td>42.187517</td>\n      <td>242.304491</td>\n      <td>1880.030128</td>\n      <td>42.285202</td>\n      <td>4.133384</td>\n      <td>0.480939</td>\n      <td>26.452663</td>\n      <td>293.610433</td>\n    </tr>\n    <tr>\n      <th>21863</th>\n      <td>1</td>\n      <td>1</td>\n      <td>93.986542</td>\n      <td>19.321092</td>\n      <td>90.590594</td>\n      <td>-1.087198</td>\n      <td>83.256219</td>\n      <td>44.635393</td>\n      <td>2322.134505</td>\n      <td>16832.782181</td>\n      <td>37.026331</td>\n      <td>43.385197</td>\n      <td>242.210823</td>\n      <td>1762.120252</td>\n      <td>37.817020</td>\n      <td>0.838611</td>\n      <td>0.433496</td>\n      <td>26.972639</td>\n      <td>292.321092</td>\n    </tr>\n    <tr>\n      <th>2085</th>\n      <td>13</td>\n      <td>1</td>\n      <td>35.412255</td>\n      <td>10.289493</td>\n      <td>45.204084</td>\n      <td>-9.656611</td>\n      <td>45.863665</td>\n      <td>43.991071</td>\n      <td>918.792265</td>\n      <td>134750.863833</td>\n      <td>44.809644</td>\n      <td>45.799243</td>\n      <td>474.754001</td>\n      <td>1362.826380</td>\n      <td>-36.683819</td>\n      <td>2.248762</td>\n      <td>0.371655</td>\n      <td>48.228843</td>\n      <td>283.289493</td>\n    </tr>\n    <tr>\n      <th>17835</th>\n      <td>14</td>\n      <td>1</td>\n      <td>25.734781</td>\n      <td>0.371184</td>\n      <td>66.047879</td>\n      <td>-1.087183</td>\n      <td>-130.012016</td>\n      <td>45.184916</td>\n      <td>872.085859</td>\n      <td>408247.481963</td>\n      <td>33.217468</td>\n      <td>42.840418</td>\n      <td>205.049940</td>\n      <td>1314.577927</td>\n      <td>15.777533</td>\n      <td>4.923513</td>\n      <td>0.393053</td>\n      <td>26.536670</td>\n      <td>174.000000</td>\n    </tr>\n    <tr>\n      <th>26414</th>\n      <td>7</td>\n      <td>2</td>\n      <td>69.032217</td>\n      <td>0.371184</td>\n      <td>41.492647</td>\n      <td>-9.656611</td>\n      <td>40.917932</td>\n      <td>42.269866</td>\n      <td>531.636039</td>\n      <td>110347.559373</td>\n      <td>35.093039</td>\n      <td>42.865800</td>\n      <td>180.870608</td>\n      <td>-99.000000</td>\n      <td>5.833935</td>\n      <td>4.534396</td>\n      <td>0.448843</td>\n      <td>27.128760</td>\n      <td>174.000000</td>\n    </tr>\n  </tbody>\n</table>\n<p>5599 rows × 19 columns</p>\n</div>"
     },
     "metadata": {},
     "execution_count": 9
    }
   ],
   "source": [
    "X_train.drop(labels=corr_feature, axis=1)\n",
    "X_test.drop(labels=corr_feature, axis=1)"
   ]
  },
  {
   "cell_type": "code",
   "execution_count": 24,
   "metadata": {},
   "outputs": [],
   "source": [
    "sfs1 = SFS(RandomForestRegressor(), k_features=10, forward=True, floating=False, verbose=2, scoring='r2', cv=3)\n",
    "sfs1 = sfs1.fit(np.array(X_train), y_train)"
   ]
  }
 ]
}