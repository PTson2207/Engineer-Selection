{
  "nbformat": 4,
  "nbformat_minor": 0,
  "metadata": {
    "colab": {
      "name": "Exhaustive feature selection.ipynb",
      "provenance": [],
      "mount_file_id": "1c9rG3KvpcJLs0ObOqCO6WEWXVFgYXPeb",
      "authorship_tag": "ABX9TyOfCCfbUezmBM9msMVyeknG",
      "include_colab_link": true
    },
    "kernelspec": {
      "name": "python3",
      "display_name": "Python 3"
    },
    "language_info": {
      "name": "python"
    }
  },
  "cells": [
    {
      "cell_type": "markdown",
      "metadata": {
        "id": "view-in-github",
        "colab_type": "text"
      },
      "source": [
        "<a href=\"https://colab.research.google.com/github/PTson2207/Engineer-Selection/blob/main/Exhaustive_feature_selection.ipynb\" target=\"_parent\"><img src=\"https://colab.research.google.com/assets/colab-badge.svg\" alt=\"Open In Colab\"/></a>"
      ]
    },
    {
      "cell_type": "code",
      "metadata": {
        "id": "xnH5nnSEydUr",
        "colab": {
          "base_uri": "https://localhost:8080/"
        },
        "outputId": "9b961394-ca48-4cde-ffe4-c1147c7eaea0"
      },
      "source": [
        "import pandas as pd\n",
        "import numpy as np\n",
        "from sklearn.model_selection import train_test_split\n",
        "from mlxtend.feature_selection import ExhaustiveFeatureSelector as EFS\n",
        "from sklearn.ensemble import RandomForestRegressor\n",
        "from sklearn.metrics import roc_auc_score"
      ],
      "execution_count": 1,
      "outputs": [
        {
          "output_type": "stream",
          "text": [
            "/usr/local/lib/python3.7/dist-packages/sklearn/externals/joblib/__init__.py:15: FutureWarning: sklearn.externals.joblib is deprecated in 0.21 and will be removed in 0.23. Please import this functionality directly from joblib, which can be installed with: pip install joblib. If this warning is raised when loading pickled models, you may need to re-serialize those models with scikit-learn 0.21+.\n",
            "  warnings.warn(msg, category=FutureWarning)\n"
          ],
          "name": "stderr"
        }
      ]
    },
    {
      "cell_type": "code",
      "metadata": {
        "id": "bGAmNeFlzzIB"
      },
      "source": [
        "train = pd.read_csv(\"/content/drive/MyDrive/HackerEarth/predict the power(KW h) product/dataset/train_process.csv\")\n",
        "test = pd.read_csv(\"/content/drive/MyDrive/HackerEarth/predict the power(KW h) product/dataset/test_process.csv\")\n",
        "train = train.drop(['Unnamed: 0', 'atmospheric_temperature(°C)'], axis=1)\n",
        "test = test.drop(['Unnamed: 0', 'atmospheric_temperature(°C)'], axis=1)"
      ],
      "execution_count": 2,
      "outputs": []
    },
    {
      "cell_type": "code",
      "metadata": {
        "id": "w30SecVZ0UT_"
      },
      "source": [
        "X = train.drop(['windmill_generated_power(kW/h)', ], axis=1)\n",
        "y = train['windmill_generated_power(kW/h)']"
      ],
      "execution_count": 3,
      "outputs": []
    },
    {
      "cell_type": "code",
      "metadata": {
        "id": "e_11To1E0fy_"
      },
      "source": [
        "X_train, X_test, y_train, y_test = train_test_split(X, y, test_size=0.2, random_state=42)"
      ],
      "execution_count": 4,
      "outputs": []
    },
    {
      "cell_type": "code",
      "metadata": {
        "id": "L6KV4b7q0jaa"
      },
      "source": [
        "# find and remove correlated feature\n",
        "def correlation(dataset, threshold):\n",
        "    col_corr = set()\n",
        "    corr_matrix = dataset.corr()\n",
        "    for i in range(len(corr_matrix.columns)):\n",
        "        for j in range(i):\n",
        "            if abs(corr_matrix.iloc[i, j]) > threshold:\n",
        "                colname = corr_matrix.columns[i]\n",
        "                col_corr.add(colname)\n",
        "    return col_corr"
      ],
      "execution_count": 5,
      "outputs": []
    },
    {
      "cell_type": "code",
      "metadata": {
        "colab": {
          "base_uri": "https://localhost:8080/"
        },
        "id": "-_hPP0Ck1o3e",
        "outputId": "bb08ba68-7919-4978-ee72-2779f8e1d333"
      },
      "source": [
        "corr_features = correlation(X_train, 0.8)\n",
        "print(\"correlated features:\", len(set(corr_features)))"
      ],
      "execution_count": 6,
      "outputs": [
        {
          "output_type": "stream",
          "text": [
            "correlated features: 2\n"
          ],
          "name": "stdout"
        }
      ]
    },
    {
      "cell_type": "code",
      "metadata": {
        "colab": {
          "base_uri": "https://localhost:8080/"
        },
        "id": "fCk14PP03xfz",
        "outputId": "f57c7599-0d86-4d0a-c96d-9d521007e7fd"
      },
      "source": [
        "X_train.drop(labels=corr_features, axis=1, inplace=True)\n",
        "X_test.drop(labels=corr_features, axis=1, inplace=True)\n",
        "X_train.shape"
      ],
      "execution_count": 7,
      "outputs": [
        {
          "output_type": "stream",
          "text": [
            "/usr/local/lib/python3.7/dist-packages/pandas/core/frame.py:4174: SettingWithCopyWarning: \n",
            "A value is trying to be set on a copy of a slice from a DataFrame\n",
            "\n",
            "See the caveats in the documentation: https://pandas.pydata.org/pandas-docs/stable/user_guide/indexing.html#returning-a-view-versus-a-copy\n",
            "  errors=errors,\n"
          ],
          "name": "stderr"
        },
        {
          "output_type": "execute_result",
          "data": {
            "text/plain": [
              "(22394, 18)"
            ]
          },
          "metadata": {
            "tags": []
          },
          "execution_count": 7
        }
      ]
    },
    {
      "cell_type": "code",
      "metadata": {
        "id": "2yMnyUx64CUe"
      },
      "source": [
        "efs1 = EFS(RandomForestRegressor(n_jobs=4),\n",
        "           min_features=1,\n",
        "           max_features=4,\n",
        "           scoring='r2',\n",
        "           print_progress=True,\n",
        "           cv=2)\n",
        "efs1 = efs1.fit(X_train, y_train)"
      ],
      "execution_count": null,
      "outputs": []
    },
    {
      "cell_type": "code",
      "metadata": {
        "id": "PChgHKLZ592-"
      },
      "source": [
        "efs1.best_idx_"
      ],
      "execution_count": null,
      "outputs": []
    },
    {
      "cell_type": "code",
      "metadata": {
        "id": "VZOK2iG96BW6"
      },
      "source": [
        "X_train.columns[list(efs1.best_idx_)]"
      ],
      "execution_count": null,
      "outputs": []
    }
  ]
}