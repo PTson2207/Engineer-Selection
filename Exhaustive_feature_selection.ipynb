{
  "nbformat": 4,
  "nbformat_minor": 0,
  "metadata": {
    "colab": {
      "name": "Exhaustive feature selection.ipynb",
      "provenance": [],
      "mount_file_id": "1c9rG3KvpcJLs0ObOqCO6WEWXVFgYXPeb",
      "authorship_tag": "ABX9TyOfCCfbUezmBM9msMVyeknG",
      "include_colab_link": true
    },
    "kernelspec": {
      "name": "python3",
      "display_name": "Python 3"
    },
    "language_info": {
      "name": "python"
    }
  },
  "cells": [
    {
      "cell_type": "markdown",
      "metadata": {
        "id": "view-in-github",
        "colab_type": "text"
      },
      "source": [
        "<a href=\"https://colab.research.google.com/github/PTson2207/Engineer-Selection/blob/main/Exhaustive_feature_selection.ipynb\" target=\"_parent\"><img src=\"https://colab.research.google.com/assets/colab-badge.svg\" alt=\"Open In Colab\"/></a>"
      ]
    },
    {
      "cell_type": "code",
      "metadata": {
        "id": "xnH5nnSEydUr",
        "colab": {
          "base_uri": "https://localhost:8080/"
        },
        "outputId": "a030f300-4a57-42be-8cc7-d5c93b7bdf84"
      },
      "source": [
        "import pandas as pd\n",
        "import numpy as np\n",
        "from sklearn.model_selection import train_test_split\n",
        "from mlxtend.feature_selection import ExhaustiveFeatureSelector as EFS\n",
        "from sklearn.ensemble import RandomForestRegressor\n",
        "from sklearn.metrics import roc_auc_score"
      ],
      "execution_count": 1,
      "outputs": [
        {
          "output_type": "stream",
          "text": [
            "/usr/local/lib/python3.7/dist-packages/sklearn/externals/joblib/__init__.py:15: FutureWarning: sklearn.externals.joblib is deprecated in 0.21 and will be removed in 0.23. Please import this functionality directly from joblib, which can be installed with: pip install joblib. If this warning is raised when loading pickled models, you may need to re-serialize those models with scikit-learn 0.21+.\n",
            "  warnings.warn(msg, category=FutureWarning)\n"
          ],
          "name": "stderr"
        }
      ]
    },
    {
      "cell_type": "code",
      "metadata": {
        "id": "bGAmNeFlzzIB"
      },
      "source": [
        "train = pd.read_csv(\"/content/drive/MyDrive/HackerEarth/predict the power(KW h) product/dataset/train_process.csv\")\n",
        "test = pd.read_csv(\"/content/drive/MyDrive/HackerEarth/predict the power(KW h) product/dataset/test_process.csv\")\n",
        "train = train.drop(['Unnamed: 0', 'atmospheric_temperature(°C)'], axis=1)\n",
        "test = test.drop(['Unnamed: 0', 'atmospheric_temperature(°C)'], axis=1)"
      ],
      "execution_count": 2,
      "outputs": []
    },
    {
      "cell_type": "code",
      "metadata": {
        "id": "w30SecVZ0UT_"
      },
      "source": [
        "X = train.drop(['windmill_generated_power(kW/h)', ], axis=1)\n",
        "y = train['windmill_generated_power(kW/h)']"
      ],
      "execution_count": 3,
      "outputs": []
    },
    {
      "cell_type": "code",
      "metadata": {
        "id": "e_11To1E0fy_"
      },
      "source": [
        "X_train, X_test, y_train, y_test = train_test_split(X, y, test_size=0.2, random_state=42)"
      ],
      "execution_count": 4,
      "outputs": []
    },
    {
      "cell_type": "code",
      "metadata": {
        "id": "L6KV4b7q0jaa"
      },
      "source": [
        "# find and remove correlated feature\n",
        "def correlation(dataset, threshold):\n",
        "    col_corr = set()\n",
        "    corr_matrix = dataset.corr()\n",
        "    for i in range(len(corr_matrix.columns)):\n",
        "        for j in range(i):\n",
        "            if abs(corr_matrix.iloc[i, j]) > threshold:\n",
        "                colname = corr_matrix.columns[i]\n",
        "                col_corr.add(colname)\n",
        "    return col_corr"
      ],
      "execution_count": 5,
      "outputs": []
    },
    {
      "cell_type": "code",
      "metadata": {
        "colab": {
          "base_uri": "https://localhost:8080/"
        },
        "id": "-_hPP0Ck1o3e",
        "outputId": "60e7d98e-a7ad-471e-da5d-ab02e8d07a7f"
      },
      "source": [
        "corr_features = correlation(X_train, 0.8)\n",
        "print(\"correlated features:\", len(set(corr_features)))"
      ],
      "execution_count": 6,
      "outputs": [
        {
          "output_type": "stream",
          "text": [
            "correlated features: 2\n"
          ],
          "name": "stdout"
        }
      ]
    },
    {
      "cell_type": "code",
      "metadata": {
        "colab": {
          "base_uri": "https://localhost:8080/"
        },
        "id": "fCk14PP03xfz",
        "outputId": "8febb1b9-66c8-4ec0-ebe5-3612a75e09fa"
      },
      "source": [
        "X_train.drop(labels=corr_features, axis=1, inplace=True)\n",
        "X_test.drop(labels=corr_features, axis=1, inplace=True)\n",
        "X_train.shape"
      ],
      "execution_count": 7,
      "outputs": [
        {
          "output_type": "stream",
          "text": [
            "/usr/local/lib/python3.7/dist-packages/pandas/core/frame.py:4174: SettingWithCopyWarning: \n",
            "A value is trying to be set on a copy of a slice from a DataFrame\n",
            "\n",
            "See the caveats in the documentation: https://pandas.pydata.org/pandas-docs/stable/user_guide/indexing.html#returning-a-view-versus-a-copy\n",
            "  errors=errors,\n"
          ],
          "name": "stderr"
        },
        {
          "output_type": "execute_result",
          "data": {
            "text/plain": [
              "(22394, 18)"
            ]
          },
          "metadata": {
            "tags": []
          },
          "execution_count": 7
        }
      ]
    },
    {
      "cell_type": "code",
      "metadata": {
        "id": "2yMnyUx64CUe",
        "colab": {
          "base_uri": "https://localhost:8080/"
        },
        "outputId": "c67ffd97-df9d-491c-86c5-e3e8f8abc901"
      },
      "source": [
        "efs1 = EFS(RandomForestRegressor(n_jobs=4),\n",
        "           min_features=1,\n",
        "           max_features=4,\n",
        "           scoring='r2',\n",
        "           print_progress=True,\n",
        "           cv=2)\n",
        "efs1 = efs1.fit(X_train, y_train)"
      ],
      "execution_count": 8,
      "outputs": [
        {
          "output_type": "stream",
          "text": [
            "Features: 4047/4047"
          ],
          "name": "stderr"
        }
      ]
    },
    {
      "cell_type": "code",
      "metadata": {
        "id": "PChgHKLZ592-",
        "colab": {
          "base_uri": "https://localhost:8080/"
        },
        "outputId": "cb40102d-470f-4f05-8d61-4bec847cf653"
      },
      "source": [
        "efs1.best_idx_"
      ],
      "execution_count": 9,
      "outputs": [
        {
          "output_type": "execute_result",
          "data": {
            "text/plain": [
              "(4, 7, 11, 12)"
            ]
          },
          "metadata": {
            "tags": []
          },
          "execution_count": 9
        }
      ]
    },
    {
      "cell_type": "code",
      "metadata": {
        "id": "VZOK2iG96BW6",
        "colab": {
          "base_uri": "https://localhost:8080/"
        },
        "outputId": "ba6fee07-1e87-4883-84d6-36132627dc3b"
      },
      "source": [
        "X_train.columns[list(efs1.best_idx_)]"
      ],
      "execution_count": 10,
      "outputs": [
        {
          "output_type": "execute_result",
          "data": {
            "text/plain": [
              "Index(['blades_angle(°)', 'motor_torque(N-m)', 'wind_direction(°)',\n",
              "       'resistance(ohm)'],\n",
              "      dtype='object')"
            ]
          },
          "metadata": {
            "tags": []
          },
          "execution_count": 10
        }
      ]
    }
  ]
}