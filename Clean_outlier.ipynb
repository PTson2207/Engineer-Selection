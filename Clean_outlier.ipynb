{
 "metadata": {
  "language_info": {
   "codemirror_mode": {
    "name": "ipython",
    "version": 3
   },
   "file_extension": ".py",
   "mimetype": "text/x-python",
   "name": "python",
   "nbconvert_exporter": "python",
   "pygments_lexer": "ipython3",
   "version": "3.7.6"
  },
  "orig_nbformat": 2,
  "kernelspec": {
   "name": "python376jvsc74a57bd0812c04e35dc2017d178d326aa5395980bc18abc67fe5fd6ae6b58e824e490792",
   "display_name": "Python 3.7.6 64-bit ('base': conda)"
  }
 },
 "nbformat": 4,
 "nbformat_minor": 2,
 "cells": [
  {
   "cell_type": "code",
   "execution_count": 1,
   "metadata": {},
   "outputs": [
    {
     "output_type": "stream",
     "name": "stderr",
     "text": [
      "C:\\Users\\Ut Luom\\anaconda3\\lib\\importlib\\_bootstrap.py:219: RuntimeWarning: numpy.ufunc size changed, may indicate binary incompatibility. Expected 192 from C header, got 216 from PyObject\n  return f(*args, **kwds)\n"
     ]
    }
   ],
   "source": [
    "import pandas as pd \n",
    "import numpy as np \n",
    "import matplotlib.pyplot as plt"
   ]
  },
  {
   "cell_type": "code",
   "execution_count": 17,
   "metadata": {},
   "outputs": [],
   "source": [
    "from Clean import outlier as ot"
   ]
  },
  {
   "cell_type": "code",
   "execution_count": 9,
   "metadata": {},
   "outputs": [
    {
     "output_type": "stream",
     "name": "stdout",
     "text": [
      "(891, 6)\n"
     ]
    }
   ],
   "source": [
    "df = pd.read_csv(\"https://raw.githubusercontent.com/Yimeng-Zhang/feature-engineering-and-feature-selection/master/data/titanic.csv\")\n",
    "data = df[['Pclass', 'Sex', 'Age', 'Fare', 'SibSp', 'Survived']]\n",
    "data.head()\n",
    "print(data.shape)"
   ]
  },
  {
   "source": [
    "# Detect random"
   ],
   "cell_type": "markdown",
   "metadata": {}
  },
  {
   "cell_type": "code",
   "execution_count": 10,
   "metadata": {},
   "outputs": [
    {
     "output_type": "stream",
     "name": "stdout",
     "text": [
      "Số lượng outlier: 19\nTỉ lệ outlier được phát hiện: 0.02132435465768799\nUpper bound: 300 \nLower bound: 5\n"
     ]
    }
   ],
   "source": [
    "index, para = ot.outlier_detect_arbitrary(data=data, col='Fare', uper_fence=300, lower_fence=5)\n",
    "print('Upper bound:', para[0], '\\nLower bound:', para[1])"
   ]
  },
  {
   "cell_type": "code",
   "execution_count": 11,
   "metadata": {},
   "outputs": [
    {
     "output_type": "execute_result",
     "data": {
      "text/plain": [
       "179      0.0000\n",
       "806      0.0000\n",
       "732      0.0000\n",
       "674      0.0000\n",
       "633      0.0000\n",
       "597      0.0000\n",
       "815      0.0000\n",
       "466      0.0000\n",
       "481      0.0000\n",
       "302      0.0000\n",
       "277      0.0000\n",
       "271      0.0000\n",
       "263      0.0000\n",
       "413      0.0000\n",
       "822      0.0000\n",
       "378      4.0125\n",
       "679    512.3292\n",
       "737    512.3292\n",
       "258    512.3292\n",
       "Name: Fare, dtype: float64"
      ]
     },
     "metadata": {},
     "execution_count": 11
    }
   ],
   "source": [
    "# kiểm tra 19 giá trị outlier đó\n",
    "data.loc[index, 'Fare'].sort_values()"
   ]
  },
  {
   "source": [
    "# IQR method"
   ],
   "cell_type": "markdown",
   "metadata": {}
  },
  {
   "cell_type": "code",
   "execution_count": 20,
   "metadata": {},
   "outputs": [
    {
     "output_type": "stream",
     "name": "stdout",
     "text": [
      "Số lượng outlier: 445\nTỉ lệ outlier được phát hiện: 0.4994388327721661\nUpper bound: 31.0 \nLower bound: 7.9104\n"
     ]
    }
   ],
   "source": [
    "index, para = ot.outlier_detect_IQR(data=data, col='Fare', threshold=0)\n",
    "print('Upper bound:', para[0], '\\nLower bound:', para[1])"
   ]
  },
  {
   "cell_type": "code",
   "execution_count": 21,
   "metadata": {},
   "outputs": [
    {
     "output_type": "execute_result",
     "data": {
      "text/plain": [
       "466    0.0\n",
       "263    0.0\n",
       "271    0.0\n",
       "277    0.0\n",
       "302    0.0\n",
       "Name: Fare, dtype: float64"
      ]
     },
     "metadata": {},
     "execution_count": 21
    }
   ],
   "source": [
    "data.loc[index, 'Fare'].sort_values().head()"
   ]
  },
  {
   "source": [
    "# Mean and Standard Deviation method"
   ],
   "cell_type": "markdown",
   "metadata": {}
  },
  {
   "cell_type": "code",
   "execution_count": 23,
   "metadata": {},
   "outputs": [
    {
     "output_type": "stream",
     "name": "stdout",
     "text": [
      "Số lượng outlier: 20\nTỉ lệ outlier được phát hiện: 0.02244668911335578\nUpper bound: 181.2844937601173 \nLower bound: -116.87607782296811\n"
     ]
    }
   ],
   "source": [
    "index, para = ot.outlier_detect_mean_std(data=data, col='Fare', threshold=3)\n",
    "print('Upper bound:',para[0], '\\nLower bound:', para[1])"
   ]
  },
  {
   "cell_type": "code",
   "execution_count": 24,
   "metadata": {},
   "outputs": [
    {
     "output_type": "execute_result",
     "data": {
      "text/plain": [
       "779    211.3375\n",
       "730    211.3375\n",
       "689    211.3375\n",
       "377    211.5000\n",
       "527    221.7792\n",
       "716    227.5250\n",
       "700    227.5250\n",
       "380    227.5250\n",
       "557    227.5250\n",
       "118    247.5208\n",
       "299    247.5208\n",
       "311    262.3750\n",
       "742    262.3750\n",
       "27     263.0000\n",
       "341    263.0000\n",
       "88     263.0000\n",
       "438    263.0000\n",
       "258    512.3292\n",
       "737    512.3292\n",
       "679    512.3292\n",
       "Name: Fare, dtype: float64"
      ]
     },
     "metadata": {},
     "execution_count": 24
    }
   ],
   "source": [
    "data.loc[index, 'Fare'].sort_values()"
   ]
  },
  {
   "source": [
    "# MAD: Median and Median Absolute Deviation method"
   ],
   "cell_type": "markdown",
   "metadata": {}
  },
  {
   "cell_type": "code",
   "execution_count": 26,
   "metadata": {},
   "outputs": [
    {
     "output_type": "stream",
     "name": "stdout",
     "text": [
      "Số lượng outlier: 160\nTỉ lệ outlier được phát hiện: 0.17957351290684623\n"
     ]
    },
    {
     "output_type": "error",
     "ename": "ValueError",
     "evalue": "too many values to unpack (expected 2)",
     "traceback": [
      "\u001b[1;31m---------------------------------------------------------------------------\u001b[0m",
      "\u001b[1;31mValueError\u001b[0m                                Traceback (most recent call last)",
      "\u001b[1;32m<ipython-input-26-7896dcdf1c2c>\u001b[0m in \u001b[0;36m<module>\u001b[1;34m\u001b[0m\n\u001b[1;32m----> 1\u001b[1;33m \u001b[0mindex\u001b[0m\u001b[1;33m,\u001b[0m \u001b[0mpara\u001b[0m \u001b[1;33m=\u001b[0m \u001b[0mot\u001b[0m\u001b[1;33m.\u001b[0m\u001b[0moutlier_detect_MAD\u001b[0m\u001b[1;33m(\u001b[0m\u001b[0mdata\u001b[0m\u001b[1;33m=\u001b[0m\u001b[0mdata\u001b[0m\u001b[1;33m,\u001b[0m \u001b[0mcol\u001b[0m\u001b[1;33m=\u001b[0m\u001b[1;34m'Fare'\u001b[0m\u001b[1;33m,\u001b[0m \u001b[0mthreshold\u001b[0m\u001b[1;33m=\u001b[0m\u001b[1;36m3.5\u001b[0m\u001b[1;33m)\u001b[0m\u001b[1;33m\u001b[0m\u001b[1;33m\u001b[0m\u001b[0m\n\u001b[0m",
      "\u001b[1;31mValueError\u001b[0m: too many values to unpack (expected 2)"
     ]
    }
   ],
   "source": [
    "index, para = ot.outlier_detect_MAD(data=data, col='Fare', threshold=3.5)"
   ]
  },
  {
   "cell_type": "code",
   "execution_count": 27,
   "metadata": {},
   "outputs": [
    {
     "output_type": "execute_result",
     "data": {
      "text/plain": [
       "     Pclass     Sex   Age      Fare  SibSp  Survived\n",
       "255       3  female  29.0   15.2458      0         1\n",
       "256       1  female   NaN   79.2000      0         1\n",
       "257       1  female  30.0   86.5000      0         1\n",
       "258       1  female  35.0  512.3292      0         1\n",
       "259       2  female  50.0   26.0000      0         1\n",
       "260       3    male   NaN    7.7500      0         0\n",
       "261       3    male   3.0   31.3875      4         1\n",
       "262       1    male  52.0   79.6500      1         0\n",
       "263       1    male  40.0    0.0000      0         0\n",
       "264       3  female   NaN    7.7500      0         0\n",
       "265       2    male  36.0   10.5000      0         0\n",
       "266       3    male  16.0   39.6875      4         0\n",
       "267       3    male  25.0    7.7750      1         1\n",
       "268       1  female  58.0  153.4625      0         1\n",
       "269       1  female  35.0  135.6333      0         1\n",
       "270       1    male   NaN   31.0000      0         0\n",
       "271       3    male  25.0    0.0000      0         1\n",
       "272       2  female  41.0   19.5000      0         1\n",
       "273       1    male  37.0   29.7000      0         0\n",
       "274       3  female   NaN    7.7500      0         1"
      ],
      "text/html": "<div>\n<style scoped>\n    .dataframe tbody tr th:only-of-type {\n        vertical-align: middle;\n    }\n\n    .dataframe tbody tr th {\n        vertical-align: top;\n    }\n\n    .dataframe thead th {\n        text-align: right;\n    }\n</style>\n<table border=\"1\" class=\"dataframe\">\n  <thead>\n    <tr style=\"text-align: right;\">\n      <th></th>\n      <th>Pclass</th>\n      <th>Sex</th>\n      <th>Age</th>\n      <th>Fare</th>\n      <th>SibSp</th>\n      <th>Survived</th>\n    </tr>\n  </thead>\n  <tbody>\n    <tr>\n      <th>255</th>\n      <td>3</td>\n      <td>female</td>\n      <td>29.0</td>\n      <td>15.2458</td>\n      <td>0</td>\n      <td>1</td>\n    </tr>\n    <tr>\n      <th>256</th>\n      <td>1</td>\n      <td>female</td>\n      <td>NaN</td>\n      <td>79.2000</td>\n      <td>0</td>\n      <td>1</td>\n    </tr>\n    <tr>\n      <th>257</th>\n      <td>1</td>\n      <td>female</td>\n      <td>30.0</td>\n      <td>86.5000</td>\n      <td>0</td>\n      <td>1</td>\n    </tr>\n    <tr>\n      <th>258</th>\n      <td>1</td>\n      <td>female</td>\n      <td>35.0</td>\n      <td>512.3292</td>\n      <td>0</td>\n      <td>1</td>\n    </tr>\n    <tr>\n      <th>259</th>\n      <td>2</td>\n      <td>female</td>\n      <td>50.0</td>\n      <td>26.0000</td>\n      <td>0</td>\n      <td>1</td>\n    </tr>\n    <tr>\n      <th>260</th>\n      <td>3</td>\n      <td>male</td>\n      <td>NaN</td>\n      <td>7.7500</td>\n      <td>0</td>\n      <td>0</td>\n    </tr>\n    <tr>\n      <th>261</th>\n      <td>3</td>\n      <td>male</td>\n      <td>3.0</td>\n      <td>31.3875</td>\n      <td>4</td>\n      <td>1</td>\n    </tr>\n    <tr>\n      <th>262</th>\n      <td>1</td>\n      <td>male</td>\n      <td>52.0</td>\n      <td>79.6500</td>\n      <td>1</td>\n      <td>0</td>\n    </tr>\n    <tr>\n      <th>263</th>\n      <td>1</td>\n      <td>male</td>\n      <td>40.0</td>\n      <td>0.0000</td>\n      <td>0</td>\n      <td>0</td>\n    </tr>\n    <tr>\n      <th>264</th>\n      <td>3</td>\n      <td>female</td>\n      <td>NaN</td>\n      <td>7.7500</td>\n      <td>0</td>\n      <td>0</td>\n    </tr>\n    <tr>\n      <th>265</th>\n      <td>2</td>\n      <td>male</td>\n      <td>36.0</td>\n      <td>10.5000</td>\n      <td>0</td>\n      <td>0</td>\n    </tr>\n    <tr>\n      <th>266</th>\n      <td>3</td>\n      <td>male</td>\n      <td>16.0</td>\n      <td>39.6875</td>\n      <td>4</td>\n      <td>0</td>\n    </tr>\n    <tr>\n      <th>267</th>\n      <td>3</td>\n      <td>male</td>\n      <td>25.0</td>\n      <td>7.7750</td>\n      <td>1</td>\n      <td>1</td>\n    </tr>\n    <tr>\n      <th>268</th>\n      <td>1</td>\n      <td>female</td>\n      <td>58.0</td>\n      <td>153.4625</td>\n      <td>0</td>\n      <td>1</td>\n    </tr>\n    <tr>\n      <th>269</th>\n      <td>1</td>\n      <td>female</td>\n      <td>35.0</td>\n      <td>135.6333</td>\n      <td>0</td>\n      <td>1</td>\n    </tr>\n    <tr>\n      <th>270</th>\n      <td>1</td>\n      <td>male</td>\n      <td>NaN</td>\n      <td>31.0000</td>\n      <td>0</td>\n      <td>0</td>\n    </tr>\n    <tr>\n      <th>271</th>\n      <td>3</td>\n      <td>male</td>\n      <td>25.0</td>\n      <td>0.0000</td>\n      <td>0</td>\n      <td>1</td>\n    </tr>\n    <tr>\n      <th>272</th>\n      <td>2</td>\n      <td>female</td>\n      <td>41.0</td>\n      <td>19.5000</td>\n      <td>0</td>\n      <td>1</td>\n    </tr>\n    <tr>\n      <th>273</th>\n      <td>1</td>\n      <td>male</td>\n      <td>37.0</td>\n      <td>29.7000</td>\n      <td>0</td>\n      <td>0</td>\n    </tr>\n    <tr>\n      <th>274</th>\n      <td>3</td>\n      <td>female</td>\n      <td>NaN</td>\n      <td>7.7500</td>\n      <td>0</td>\n      <td>1</td>\n    </tr>\n  </tbody>\n</table>\n</div>"
     },
     "metadata": {},
     "execution_count": 27
    }
   ],
   "source": [
    "data[255:275]"
   ]
  },
  {
   "source": [
    "258, 263, 271 là các giá trị outlier"
   ],
   "cell_type": "markdown",
   "metadata": {}
  },
  {
   "source": [
    "# Impute with radom value"
   ],
   "cell_type": "markdown",
   "metadata": {}
  },
  {
   "cell_type": "code",
   "execution_count": 31,
   "metadata": {},
   "outputs": [
    {
     "output_type": "stream",
     "name": "stdout",
     "text": [
      "Số lượng outlier: 19\nTỉ lệ outlier được phát hiện: 0.02132435465768799\nUpper bound: 300 \nLower bound: 5\n"
     ]
    }
   ],
   "source": [
    "index, para = ot.outlier_detect_arbitrary(data=data, col='Fare', uper_fence=300, lower_fence=5)\n",
    "print('Upper bound:', para[0], '\\nLower bound:', para[1])"
   ]
  },
  {
   "cell_type": "code",
   "execution_count": 32,
   "metadata": {},
   "outputs": [
    {
     "output_type": "execute_result",
     "data": {
      "text/plain": [
       "     Pclass     Sex   Age      Fare  SibSp  Survived\n",
       "255       3  female  29.0   15.2458      0         1\n",
       "256       1  female   NaN   79.2000      0         1\n",
       "257       1  female  30.0   86.5000      0         1\n",
       "258       1  female  35.0  512.3292      0         1\n",
       "259       2  female  50.0   26.0000      0         1\n",
       "260       3    male   NaN    7.7500      0         0\n",
       "261       3    male   3.0   31.3875      4         1\n",
       "262       1    male  52.0   79.6500      1         0\n",
       "263       1    male  40.0    0.0000      0         0\n",
       "264       3  female   NaN    7.7500      0         0\n",
       "265       2    male  36.0   10.5000      0         0\n",
       "266       3    male  16.0   39.6875      4         0\n",
       "267       3    male  25.0    7.7750      1         1\n",
       "268       1  female  58.0  153.4625      0         1\n",
       "269       1  female  35.0  135.6333      0         1\n",
       "270       1    male   NaN   31.0000      0         0\n",
       "271       3    male  25.0    0.0000      0         1\n",
       "272       2  female  41.0   19.5000      0         1\n",
       "273       1    male  37.0   29.7000      0         0\n",
       "274       3  female   NaN    7.7500      0         1"
      ],
      "text/html": "<div>\n<style scoped>\n    .dataframe tbody tr th:only-of-type {\n        vertical-align: middle;\n    }\n\n    .dataframe tbody tr th {\n        vertical-align: top;\n    }\n\n    .dataframe thead th {\n        text-align: right;\n    }\n</style>\n<table border=\"1\" class=\"dataframe\">\n  <thead>\n    <tr style=\"text-align: right;\">\n      <th></th>\n      <th>Pclass</th>\n      <th>Sex</th>\n      <th>Age</th>\n      <th>Fare</th>\n      <th>SibSp</th>\n      <th>Survived</th>\n    </tr>\n  </thead>\n  <tbody>\n    <tr>\n      <th>255</th>\n      <td>3</td>\n      <td>female</td>\n      <td>29.0</td>\n      <td>15.2458</td>\n      <td>0</td>\n      <td>1</td>\n    </tr>\n    <tr>\n      <th>256</th>\n      <td>1</td>\n      <td>female</td>\n      <td>NaN</td>\n      <td>79.2000</td>\n      <td>0</td>\n      <td>1</td>\n    </tr>\n    <tr>\n      <th>257</th>\n      <td>1</td>\n      <td>female</td>\n      <td>30.0</td>\n      <td>86.5000</td>\n      <td>0</td>\n      <td>1</td>\n    </tr>\n    <tr>\n      <th>258</th>\n      <td>1</td>\n      <td>female</td>\n      <td>35.0</td>\n      <td>512.3292</td>\n      <td>0</td>\n      <td>1</td>\n    </tr>\n    <tr>\n      <th>259</th>\n      <td>2</td>\n      <td>female</td>\n      <td>50.0</td>\n      <td>26.0000</td>\n      <td>0</td>\n      <td>1</td>\n    </tr>\n    <tr>\n      <th>260</th>\n      <td>3</td>\n      <td>male</td>\n      <td>NaN</td>\n      <td>7.7500</td>\n      <td>0</td>\n      <td>0</td>\n    </tr>\n    <tr>\n      <th>261</th>\n      <td>3</td>\n      <td>male</td>\n      <td>3.0</td>\n      <td>31.3875</td>\n      <td>4</td>\n      <td>1</td>\n    </tr>\n    <tr>\n      <th>262</th>\n      <td>1</td>\n      <td>male</td>\n      <td>52.0</td>\n      <td>79.6500</td>\n      <td>1</td>\n      <td>0</td>\n    </tr>\n    <tr>\n      <th>263</th>\n      <td>1</td>\n      <td>male</td>\n      <td>40.0</td>\n      <td>0.0000</td>\n      <td>0</td>\n      <td>0</td>\n    </tr>\n    <tr>\n      <th>264</th>\n      <td>3</td>\n      <td>female</td>\n      <td>NaN</td>\n      <td>7.7500</td>\n      <td>0</td>\n      <td>0</td>\n    </tr>\n    <tr>\n      <th>265</th>\n      <td>2</td>\n      <td>male</td>\n      <td>36.0</td>\n      <td>10.5000</td>\n      <td>0</td>\n      <td>0</td>\n    </tr>\n    <tr>\n      <th>266</th>\n      <td>3</td>\n      <td>male</td>\n      <td>16.0</td>\n      <td>39.6875</td>\n      <td>4</td>\n      <td>0</td>\n    </tr>\n    <tr>\n      <th>267</th>\n      <td>3</td>\n      <td>male</td>\n      <td>25.0</td>\n      <td>7.7750</td>\n      <td>1</td>\n      <td>1</td>\n    </tr>\n    <tr>\n      <th>268</th>\n      <td>1</td>\n      <td>female</td>\n      <td>58.0</td>\n      <td>153.4625</td>\n      <td>0</td>\n      <td>1</td>\n    </tr>\n    <tr>\n      <th>269</th>\n      <td>1</td>\n      <td>female</td>\n      <td>35.0</td>\n      <td>135.6333</td>\n      <td>0</td>\n      <td>1</td>\n    </tr>\n    <tr>\n      <th>270</th>\n      <td>1</td>\n      <td>male</td>\n      <td>NaN</td>\n      <td>31.0000</td>\n      <td>0</td>\n      <td>0</td>\n    </tr>\n    <tr>\n      <th>271</th>\n      <td>3</td>\n      <td>male</td>\n      <td>25.0</td>\n      <td>0.0000</td>\n      <td>0</td>\n      <td>1</td>\n    </tr>\n    <tr>\n      <th>272</th>\n      <td>2</td>\n      <td>female</td>\n      <td>41.0</td>\n      <td>19.5000</td>\n      <td>0</td>\n      <td>1</td>\n    </tr>\n    <tr>\n      <th>273</th>\n      <td>1</td>\n      <td>male</td>\n      <td>37.0</td>\n      <td>29.7000</td>\n      <td>0</td>\n      <td>0</td>\n    </tr>\n    <tr>\n      <th>274</th>\n      <td>3</td>\n      <td>female</td>\n      <td>NaN</td>\n      <td>7.7500</td>\n      <td>0</td>\n      <td>1</td>\n    </tr>\n  </tbody>\n</table>\n</div>"
     },
     "metadata": {},
     "execution_count": 32
    }
   ],
   "source": [
    "data[255:275]"
   ]
  },
  {
   "cell_type": "code",
   "execution_count": 33,
   "metadata": {},
   "outputs": [
    {
     "output_type": "execute_result",
     "data": {
      "text/plain": [
       "     Pclass     Sex   Age      Fare  SibSp  Survived\n",
       "255       3  female  29.0   15.2458      0         1\n",
       "256       1  female   NaN   79.2000      0         1\n",
       "257       1  female  30.0   86.5000      0         1\n",
       "258       1  female  35.0 -999.0000      0         1\n",
       "259       2  female  50.0   26.0000      0         1\n",
       "260       3    male   NaN    7.7500      0         0\n",
       "261       3    male   3.0   31.3875      4         1\n",
       "262       1    male  52.0   79.6500      1         0\n",
       "263       1    male  40.0 -999.0000      0         0\n",
       "264       3  female   NaN    7.7500      0         0\n",
       "265       2    male  36.0   10.5000      0         0\n",
       "266       3    male  16.0   39.6875      4         0\n",
       "267       3    male  25.0    7.7750      1         1\n",
       "268       1  female  58.0  153.4625      0         1\n",
       "269       1  female  35.0  135.6333      0         1\n",
       "270       1    male   NaN   31.0000      0         0\n",
       "271       3    male  25.0 -999.0000      0         1\n",
       "272       2  female  41.0   19.5000      0         1\n",
       "273       1    male  37.0   29.7000      0         0\n",
       "274       3  female   NaN    7.7500      0         1"
      ],
      "text/html": "<div>\n<style scoped>\n    .dataframe tbody tr th:only-of-type {\n        vertical-align: middle;\n    }\n\n    .dataframe tbody tr th {\n        vertical-align: top;\n    }\n\n    .dataframe thead th {\n        text-align: right;\n    }\n</style>\n<table border=\"1\" class=\"dataframe\">\n  <thead>\n    <tr style=\"text-align: right;\">\n      <th></th>\n      <th>Pclass</th>\n      <th>Sex</th>\n      <th>Age</th>\n      <th>Fare</th>\n      <th>SibSp</th>\n      <th>Survived</th>\n    </tr>\n  </thead>\n  <tbody>\n    <tr>\n      <th>255</th>\n      <td>3</td>\n      <td>female</td>\n      <td>29.0</td>\n      <td>15.2458</td>\n      <td>0</td>\n      <td>1</td>\n    </tr>\n    <tr>\n      <th>256</th>\n      <td>1</td>\n      <td>female</td>\n      <td>NaN</td>\n      <td>79.2000</td>\n      <td>0</td>\n      <td>1</td>\n    </tr>\n    <tr>\n      <th>257</th>\n      <td>1</td>\n      <td>female</td>\n      <td>30.0</td>\n      <td>86.5000</td>\n      <td>0</td>\n      <td>1</td>\n    </tr>\n    <tr>\n      <th>258</th>\n      <td>1</td>\n      <td>female</td>\n      <td>35.0</td>\n      <td>-999.0000</td>\n      <td>0</td>\n      <td>1</td>\n    </tr>\n    <tr>\n      <th>259</th>\n      <td>2</td>\n      <td>female</td>\n      <td>50.0</td>\n      <td>26.0000</td>\n      <td>0</td>\n      <td>1</td>\n    </tr>\n    <tr>\n      <th>260</th>\n      <td>3</td>\n      <td>male</td>\n      <td>NaN</td>\n      <td>7.7500</td>\n      <td>0</td>\n      <td>0</td>\n    </tr>\n    <tr>\n      <th>261</th>\n      <td>3</td>\n      <td>male</td>\n      <td>3.0</td>\n      <td>31.3875</td>\n      <td>4</td>\n      <td>1</td>\n    </tr>\n    <tr>\n      <th>262</th>\n      <td>1</td>\n      <td>male</td>\n      <td>52.0</td>\n      <td>79.6500</td>\n      <td>1</td>\n      <td>0</td>\n    </tr>\n    <tr>\n      <th>263</th>\n      <td>1</td>\n      <td>male</td>\n      <td>40.0</td>\n      <td>-999.0000</td>\n      <td>0</td>\n      <td>0</td>\n    </tr>\n    <tr>\n      <th>264</th>\n      <td>3</td>\n      <td>female</td>\n      <td>NaN</td>\n      <td>7.7500</td>\n      <td>0</td>\n      <td>0</td>\n    </tr>\n    <tr>\n      <th>265</th>\n      <td>2</td>\n      <td>male</td>\n      <td>36.0</td>\n      <td>10.5000</td>\n      <td>0</td>\n      <td>0</td>\n    </tr>\n    <tr>\n      <th>266</th>\n      <td>3</td>\n      <td>male</td>\n      <td>16.0</td>\n      <td>39.6875</td>\n      <td>4</td>\n      <td>0</td>\n    </tr>\n    <tr>\n      <th>267</th>\n      <td>3</td>\n      <td>male</td>\n      <td>25.0</td>\n      <td>7.7750</td>\n      <td>1</td>\n      <td>1</td>\n    </tr>\n    <tr>\n      <th>268</th>\n      <td>1</td>\n      <td>female</td>\n      <td>58.0</td>\n      <td>153.4625</td>\n      <td>0</td>\n      <td>1</td>\n    </tr>\n    <tr>\n      <th>269</th>\n      <td>1</td>\n      <td>female</td>\n      <td>35.0</td>\n      <td>135.6333</td>\n      <td>0</td>\n      <td>1</td>\n    </tr>\n    <tr>\n      <th>270</th>\n      <td>1</td>\n      <td>male</td>\n      <td>NaN</td>\n      <td>31.0000</td>\n      <td>0</td>\n      <td>0</td>\n    </tr>\n    <tr>\n      <th>271</th>\n      <td>3</td>\n      <td>male</td>\n      <td>25.0</td>\n      <td>-999.0000</td>\n      <td>0</td>\n      <td>1</td>\n    </tr>\n    <tr>\n      <th>272</th>\n      <td>2</td>\n      <td>female</td>\n      <td>41.0</td>\n      <td>19.5000</td>\n      <td>0</td>\n      <td>1</td>\n    </tr>\n    <tr>\n      <th>273</th>\n      <td>1</td>\n      <td>male</td>\n      <td>37.0</td>\n      <td>29.7000</td>\n      <td>0</td>\n      <td>0</td>\n    </tr>\n    <tr>\n      <th>274</th>\n      <td>3</td>\n      <td>female</td>\n      <td>NaN</td>\n      <td>7.7500</td>\n      <td>0</td>\n      <td>1</td>\n    </tr>\n  </tbody>\n</table>\n</div>"
     },
     "metadata": {},
     "execution_count": 33
    }
   ],
   "source": [
    "data2 = ot.impute_outlier_with_arbitrary(data=data, outlier_index=index, value=-999, col=['Fare'])\n",
    "data2[255:275]"
   ]
  },
  {
   "source": [
    "# Drop outlier"
   ],
   "cell_type": "markdown",
   "metadata": {}
  },
  {
   "cell_type": "code",
   "execution_count": 35,
   "metadata": {},
   "outputs": [
    {
     "output_type": "stream",
     "name": "stdout",
     "text": [
      "Số lượng outlier: 19\nTỉ lệ outlier được phát hiện: 0.02132435465768799\n"
     ]
    }
   ],
   "source": [
    "index, para = ot.outlier_detect_arbitrary(data, 'Fare', 300, 5)"
   ]
  },
  {
   "cell_type": "code",
   "execution_count": 36,
   "metadata": {},
   "outputs": [],
   "source": [
    "data3 =  ot.drop_outlier(data=data, outlier_index=index)"
   ]
  },
  {
   "source": [
    "# Impute use Median/Mean/Mode"
   ],
   "cell_type": "markdown",
   "metadata": {}
  },
  {
   "cell_type": "code",
   "execution_count": 41,
   "metadata": {},
   "outputs": [
    {
     "output_type": "stream",
     "name": "stdout",
     "text": [
      "Số lượng outlier: 19\nTỉ lệ outlier được phát hiện: 0.02132435465768799\n"
     ]
    }
   ],
   "source": [
    "index, para = ot.outlier_detect_arbitrary(data, 'Fare', 300, 5)"
   ]
  },
  {
   "cell_type": "code",
   "execution_count": 43,
   "metadata": {},
   "outputs": [
    {
     "output_type": "execute_result",
     "data": {
      "text/plain": [
       "     Pclass     Sex   Age        Fare  SibSp  Survived\n",
       "255       3  female  29.0   15.245800      0         1\n",
       "256       1  female   NaN   79.200000      0         1\n",
       "257       1  female  30.0   86.500000      0         1\n",
       "258       1  female  35.0   32.204208      0         1\n",
       "259       2  female  50.0   26.000000      0         1\n",
       "260       3    male   NaN    7.750000      0         0\n",
       "261       3    male   3.0   31.387500      4         1\n",
       "262       1    male  52.0   79.650000      1         0\n",
       "263       1    male  40.0   32.204208      0         0\n",
       "264       3  female   NaN    7.750000      0         0\n",
       "265       2    male  36.0   10.500000      0         0\n",
       "266       3    male  16.0   39.687500      4         0\n",
       "267       3    male  25.0    7.775000      1         1\n",
       "268       1  female  58.0  153.462500      0         1\n",
       "269       1  female  35.0  135.633300      0         1\n",
       "270       1    male   NaN   31.000000      0         0\n",
       "271       3    male  25.0   32.204208      0         1\n",
       "272       2  female  41.0   19.500000      0         1\n",
       "273       1    male  37.0   29.700000      0         0\n",
       "274       3  female   NaN    7.750000      0         1"
      ],
      "text/html": "<div>\n<style scoped>\n    .dataframe tbody tr th:only-of-type {\n        vertical-align: middle;\n    }\n\n    .dataframe tbody tr th {\n        vertical-align: top;\n    }\n\n    .dataframe thead th {\n        text-align: right;\n    }\n</style>\n<table border=\"1\" class=\"dataframe\">\n  <thead>\n    <tr style=\"text-align: right;\">\n      <th></th>\n      <th>Pclass</th>\n      <th>Sex</th>\n      <th>Age</th>\n      <th>Fare</th>\n      <th>SibSp</th>\n      <th>Survived</th>\n    </tr>\n  </thead>\n  <tbody>\n    <tr>\n      <th>255</th>\n      <td>3</td>\n      <td>female</td>\n      <td>29.0</td>\n      <td>15.245800</td>\n      <td>0</td>\n      <td>1</td>\n    </tr>\n    <tr>\n      <th>256</th>\n      <td>1</td>\n      <td>female</td>\n      <td>NaN</td>\n      <td>79.200000</td>\n      <td>0</td>\n      <td>1</td>\n    </tr>\n    <tr>\n      <th>257</th>\n      <td>1</td>\n      <td>female</td>\n      <td>30.0</td>\n      <td>86.500000</td>\n      <td>0</td>\n      <td>1</td>\n    </tr>\n    <tr>\n      <th>258</th>\n      <td>1</td>\n      <td>female</td>\n      <td>35.0</td>\n      <td>32.204208</td>\n      <td>0</td>\n      <td>1</td>\n    </tr>\n    <tr>\n      <th>259</th>\n      <td>2</td>\n      <td>female</td>\n      <td>50.0</td>\n      <td>26.000000</td>\n      <td>0</td>\n      <td>1</td>\n    </tr>\n    <tr>\n      <th>260</th>\n      <td>3</td>\n      <td>male</td>\n      <td>NaN</td>\n      <td>7.750000</td>\n      <td>0</td>\n      <td>0</td>\n    </tr>\n    <tr>\n      <th>261</th>\n      <td>3</td>\n      <td>male</td>\n      <td>3.0</td>\n      <td>31.387500</td>\n      <td>4</td>\n      <td>1</td>\n    </tr>\n    <tr>\n      <th>262</th>\n      <td>1</td>\n      <td>male</td>\n      <td>52.0</td>\n      <td>79.650000</td>\n      <td>1</td>\n      <td>0</td>\n    </tr>\n    <tr>\n      <th>263</th>\n      <td>1</td>\n      <td>male</td>\n      <td>40.0</td>\n      <td>32.204208</td>\n      <td>0</td>\n      <td>0</td>\n    </tr>\n    <tr>\n      <th>264</th>\n      <td>3</td>\n      <td>female</td>\n      <td>NaN</td>\n      <td>7.750000</td>\n      <td>0</td>\n      <td>0</td>\n    </tr>\n    <tr>\n      <th>265</th>\n      <td>2</td>\n      <td>male</td>\n      <td>36.0</td>\n      <td>10.500000</td>\n      <td>0</td>\n      <td>0</td>\n    </tr>\n    <tr>\n      <th>266</th>\n      <td>3</td>\n      <td>male</td>\n      <td>16.0</td>\n      <td>39.687500</td>\n      <td>4</td>\n      <td>0</td>\n    </tr>\n    <tr>\n      <th>267</th>\n      <td>3</td>\n      <td>male</td>\n      <td>25.0</td>\n      <td>7.775000</td>\n      <td>1</td>\n      <td>1</td>\n    </tr>\n    <tr>\n      <th>268</th>\n      <td>1</td>\n      <td>female</td>\n      <td>58.0</td>\n      <td>153.462500</td>\n      <td>0</td>\n      <td>1</td>\n    </tr>\n    <tr>\n      <th>269</th>\n      <td>1</td>\n      <td>female</td>\n      <td>35.0</td>\n      <td>135.633300</td>\n      <td>0</td>\n      <td>1</td>\n    </tr>\n    <tr>\n      <th>270</th>\n      <td>1</td>\n      <td>male</td>\n      <td>NaN</td>\n      <td>31.000000</td>\n      <td>0</td>\n      <td>0</td>\n    </tr>\n    <tr>\n      <th>271</th>\n      <td>3</td>\n      <td>male</td>\n      <td>25.0</td>\n      <td>32.204208</td>\n      <td>0</td>\n      <td>1</td>\n    </tr>\n    <tr>\n      <th>272</th>\n      <td>2</td>\n      <td>female</td>\n      <td>41.0</td>\n      <td>19.500000</td>\n      <td>0</td>\n      <td>1</td>\n    </tr>\n    <tr>\n      <th>273</th>\n      <td>1</td>\n      <td>male</td>\n      <td>37.0</td>\n      <td>29.700000</td>\n      <td>0</td>\n      <td>0</td>\n    </tr>\n    <tr>\n      <th>274</th>\n      <td>3</td>\n      <td>female</td>\n      <td>NaN</td>\n      <td>7.750000</td>\n      <td>0</td>\n      <td>1</td>\n    </tr>\n  </tbody>\n</table>\n</div>"
     },
     "metadata": {},
     "execution_count": 43
    }
   ],
   "source": [
    "data4 = ot.impute_outlier_with_avg(data=data, col='Fare', outlier_index=index, strategy='mean')\n",
    "data4[255:275]"
   ]
  }
 ]
}