{
  "nbformat": 4,
  "nbformat_minor": 0,
  "metadata": {
    "colab": {
      "name": "Pipeline_ML.ipynb",
      "provenance": [],
      "toc_visible": true,
      "mount_file_id": "1A8Ft3M5-ATmQNsxm0PiJ-tLqK2MRZbh2",
      "authorship_tag": "ABX9TyMhF0oR9gi8u0mOYlGWwDUK",
      "include_colab_link": true
    },
    "kernelspec": {
      "name": "python3",
      "display_name": "Python 3"
    },
    "language_info": {
      "name": "python"
    }
  },
  "cells": [
    {
      "cell_type": "markdown",
      "metadata": {
        "id": "view-in-github",
        "colab_type": "text"
      },
      "source": [
        "<a href=\"https://colab.research.google.com/github/PTson2207/Engineer-Selection/blob/main/Pipeline_ML.ipynb\" target=\"_parent\"><img src=\"https://colab.research.google.com/assets/colab-badge.svg\" alt=\"Open In Colab\"/></a>"
      ]
    },
    {
      "cell_type": "code",
      "metadata": {
        "id": "OVb-g9mNgTkv"
      },
      "source": [
        "import pandas as pd\n",
        "import numpy as np\n",
        "import seaborn as sns\n",
        "import matplotlib.pyplot as plt\n",
        "from sklearn.compose import ColumnTransformer\n",
        "from sklearn.naive_bayes import GaussianNB\n",
        "from sklearn.linear_model import LogisticRegression\n",
        "from sklearn.neighbors import KNeighborsClassifier\n",
        "from sklearn.svm import LinearSVC\n",
        "from sklearn.neural_network import MLPClassifier\n",
        "from sklearn.ensemble import GradientBoostingClassifier\n",
        "from sklearn.ensemble import RandomForestClassifier\n",
        "from sklearn.impute import KNNImputer, SimpleImputer\n",
        "from sklearn.metrics import accuracy_score\n",
        "from sklearn.model_selection import train_test_split\n",
        "from sklearn.pipeline import Pipeline\n",
        "from sklearn.model_selection import cross_val_score\n",
        "from sklearn.metrics import fbeta_score\n",
        "from sklearn.metrics import make_scorer\n",
        "from sklearn.model_selection import cross_val_score\n",
        "from sklearn.model_selection import RepeatedStratifiedKFold\n",
        "from sklearn.preprocessing import OneHotEncoder, MinMaxScaler"
      ],
      "execution_count": 1,
      "outputs": []
    },
    {
      "cell_type": "markdown",
      "metadata": {
        "id": "2tXSPQJChWpq"
      },
      "source": [
        "# About Data"
      ]
    },
    {
      "cell_type": "code",
      "metadata": {
        "colab": {
          "base_uri": "https://localhost:8080/",
          "height": 224
        },
        "id": "ti0mhLstglHS",
        "outputId": "a81069ab-d373-4636-ac2b-9113daa2249e"
      },
      "source": [
        "df = pd.read_csv(\"http://archive.ics.uci.edu/ml/machine-learning-databases/statlog/german/german.data\", \n",
        "                 header=None, names=['StaAcc', 'DuMon', 'CredHis', 'Purpose', 'CredAmt', 'SavAcc', \\\n",
        "                                     'PreEmpl', 'InsRt', 'PerSta', 'OthDebtor', 'PreRe', 'Property', \\\n",
        "                                     'Age', 'IntPla', 'Housing', 'ExstCredit', 'Job', 'NoMain', 'Phone', 'ForWorker', \"Response\"], \n",
        "                 index_col=None, sep=\" \")\n",
        "df.head()"
      ],
      "execution_count": 2,
      "outputs": [
        {
          "output_type": "execute_result",
          "data": {
            "text/html": [
              "<div>\n",
              "<style scoped>\n",
              "    .dataframe tbody tr th:only-of-type {\n",
              "        vertical-align: middle;\n",
              "    }\n",
              "\n",
              "    .dataframe tbody tr th {\n",
              "        vertical-align: top;\n",
              "    }\n",
              "\n",
              "    .dataframe thead th {\n",
              "        text-align: right;\n",
              "    }\n",
              "</style>\n",
              "<table border=\"1\" class=\"dataframe\">\n",
              "  <thead>\n",
              "    <tr style=\"text-align: right;\">\n",
              "      <th></th>\n",
              "      <th>StaAcc</th>\n",
              "      <th>DuMon</th>\n",
              "      <th>CredHis</th>\n",
              "      <th>Purpose</th>\n",
              "      <th>CredAmt</th>\n",
              "      <th>SavAcc</th>\n",
              "      <th>PreEmpl</th>\n",
              "      <th>InsRt</th>\n",
              "      <th>PerSta</th>\n",
              "      <th>OthDebtor</th>\n",
              "      <th>PreRe</th>\n",
              "      <th>Property</th>\n",
              "      <th>Age</th>\n",
              "      <th>IntPla</th>\n",
              "      <th>Housing</th>\n",
              "      <th>ExstCredit</th>\n",
              "      <th>Job</th>\n",
              "      <th>NoMain</th>\n",
              "      <th>Phone</th>\n",
              "      <th>ForWorker</th>\n",
              "      <th>Response</th>\n",
              "    </tr>\n",
              "  </thead>\n",
              "  <tbody>\n",
              "    <tr>\n",
              "      <th>0</th>\n",
              "      <td>A11</td>\n",
              "      <td>6</td>\n",
              "      <td>A34</td>\n",
              "      <td>A43</td>\n",
              "      <td>1169</td>\n",
              "      <td>A65</td>\n",
              "      <td>A75</td>\n",
              "      <td>4</td>\n",
              "      <td>A93</td>\n",
              "      <td>A101</td>\n",
              "      <td>4</td>\n",
              "      <td>A121</td>\n",
              "      <td>67</td>\n",
              "      <td>A143</td>\n",
              "      <td>A152</td>\n",
              "      <td>2</td>\n",
              "      <td>A173</td>\n",
              "      <td>1</td>\n",
              "      <td>A192</td>\n",
              "      <td>A201</td>\n",
              "      <td>1</td>\n",
              "    </tr>\n",
              "    <tr>\n",
              "      <th>1</th>\n",
              "      <td>A12</td>\n",
              "      <td>48</td>\n",
              "      <td>A32</td>\n",
              "      <td>A43</td>\n",
              "      <td>5951</td>\n",
              "      <td>A61</td>\n",
              "      <td>A73</td>\n",
              "      <td>2</td>\n",
              "      <td>A92</td>\n",
              "      <td>A101</td>\n",
              "      <td>2</td>\n",
              "      <td>A121</td>\n",
              "      <td>22</td>\n",
              "      <td>A143</td>\n",
              "      <td>A152</td>\n",
              "      <td>1</td>\n",
              "      <td>A173</td>\n",
              "      <td>1</td>\n",
              "      <td>A191</td>\n",
              "      <td>A201</td>\n",
              "      <td>2</td>\n",
              "    </tr>\n",
              "    <tr>\n",
              "      <th>2</th>\n",
              "      <td>A14</td>\n",
              "      <td>12</td>\n",
              "      <td>A34</td>\n",
              "      <td>A46</td>\n",
              "      <td>2096</td>\n",
              "      <td>A61</td>\n",
              "      <td>A74</td>\n",
              "      <td>2</td>\n",
              "      <td>A93</td>\n",
              "      <td>A101</td>\n",
              "      <td>3</td>\n",
              "      <td>A121</td>\n",
              "      <td>49</td>\n",
              "      <td>A143</td>\n",
              "      <td>A152</td>\n",
              "      <td>1</td>\n",
              "      <td>A172</td>\n",
              "      <td>2</td>\n",
              "      <td>A191</td>\n",
              "      <td>A201</td>\n",
              "      <td>1</td>\n",
              "    </tr>\n",
              "    <tr>\n",
              "      <th>3</th>\n",
              "      <td>A11</td>\n",
              "      <td>42</td>\n",
              "      <td>A32</td>\n",
              "      <td>A42</td>\n",
              "      <td>7882</td>\n",
              "      <td>A61</td>\n",
              "      <td>A74</td>\n",
              "      <td>2</td>\n",
              "      <td>A93</td>\n",
              "      <td>A103</td>\n",
              "      <td>4</td>\n",
              "      <td>A122</td>\n",
              "      <td>45</td>\n",
              "      <td>A143</td>\n",
              "      <td>A153</td>\n",
              "      <td>1</td>\n",
              "      <td>A173</td>\n",
              "      <td>2</td>\n",
              "      <td>A191</td>\n",
              "      <td>A201</td>\n",
              "      <td>1</td>\n",
              "    </tr>\n",
              "    <tr>\n",
              "      <th>4</th>\n",
              "      <td>A11</td>\n",
              "      <td>24</td>\n",
              "      <td>A33</td>\n",
              "      <td>A40</td>\n",
              "      <td>4870</td>\n",
              "      <td>A61</td>\n",
              "      <td>A73</td>\n",
              "      <td>3</td>\n",
              "      <td>A93</td>\n",
              "      <td>A101</td>\n",
              "      <td>4</td>\n",
              "      <td>A124</td>\n",
              "      <td>53</td>\n",
              "      <td>A143</td>\n",
              "      <td>A153</td>\n",
              "      <td>2</td>\n",
              "      <td>A173</td>\n",
              "      <td>2</td>\n",
              "      <td>A191</td>\n",
              "      <td>A201</td>\n",
              "      <td>2</td>\n",
              "    </tr>\n",
              "  </tbody>\n",
              "</table>\n",
              "</div>"
            ],
            "text/plain": [
              "  StaAcc  DuMon CredHis Purpose  ...  NoMain Phone ForWorker  Response\n",
              "0    A11      6     A34     A43  ...       1  A192      A201         1\n",
              "1    A12     48     A32     A43  ...       1  A191      A201         2\n",
              "2    A14     12     A34     A46  ...       2  A191      A201         1\n",
              "3    A11     42     A32     A42  ...       2  A191      A201         1\n",
              "4    A11     24     A33     A40  ...       2  A191      A201         2\n",
              "\n",
              "[5 rows x 21 columns]"
            ]
          },
          "metadata": {
            "tags": []
          },
          "execution_count": 2
        }
      ]
    },
    {
      "cell_type": "code",
      "metadata": {
        "colab": {
          "base_uri": "https://localhost:8080/"
        },
        "id": "I2Cf7j0KijYI",
        "outputId": "add1f5d3-de05-49db-9d63-83f6a45928ff"
      },
      "source": [
        "df.info()"
      ],
      "execution_count": 3,
      "outputs": [
        {
          "output_type": "stream",
          "text": [
            "<class 'pandas.core.frame.DataFrame'>\n",
            "RangeIndex: 1000 entries, 0 to 999\n",
            "Data columns (total 21 columns):\n",
            " #   Column      Non-Null Count  Dtype \n",
            "---  ------      --------------  ----- \n",
            " 0   StaAcc      1000 non-null   object\n",
            " 1   DuMon       1000 non-null   int64 \n",
            " 2   CredHis     1000 non-null   object\n",
            " 3   Purpose     1000 non-null   object\n",
            " 4   CredAmt     1000 non-null   int64 \n",
            " 5   SavAcc      1000 non-null   object\n",
            " 6   PreEmpl     1000 non-null   object\n",
            " 7   InsRt       1000 non-null   int64 \n",
            " 8   PerSta      1000 non-null   object\n",
            " 9   OthDebtor   1000 non-null   object\n",
            " 10  PreRe       1000 non-null   int64 \n",
            " 11  Property    1000 non-null   object\n",
            " 12  Age         1000 non-null   int64 \n",
            " 13  IntPla      1000 non-null   object\n",
            " 14  Housing     1000 non-null   object\n",
            " 15  ExstCredit  1000 non-null   int64 \n",
            " 16  Job         1000 non-null   object\n",
            " 17  NoMain      1000 non-null   int64 \n",
            " 18  Phone       1000 non-null   object\n",
            " 19  ForWorker   1000 non-null   object\n",
            " 20  Response    1000 non-null   int64 \n",
            "dtypes: int64(8), object(13)\n",
            "memory usage: 164.2+ KB\n"
          ],
          "name": "stdout"
        }
      ]
    },
    {
      "cell_type": "code",
      "metadata": {
        "colab": {
          "base_uri": "https://localhost:8080/",
          "height": 297
        },
        "id": "elMFut0fik9V",
        "outputId": "389ee61b-9e5c-44c5-97f9-3531ef8e2122"
      },
      "source": [
        "df.describe()"
      ],
      "execution_count": 4,
      "outputs": [
        {
          "output_type": "execute_result",
          "data": {
            "text/html": [
              "<div>\n",
              "<style scoped>\n",
              "    .dataframe tbody tr th:only-of-type {\n",
              "        vertical-align: middle;\n",
              "    }\n",
              "\n",
              "    .dataframe tbody tr th {\n",
              "        vertical-align: top;\n",
              "    }\n",
              "\n",
              "    .dataframe thead th {\n",
              "        text-align: right;\n",
              "    }\n",
              "</style>\n",
              "<table border=\"1\" class=\"dataframe\">\n",
              "  <thead>\n",
              "    <tr style=\"text-align: right;\">\n",
              "      <th></th>\n",
              "      <th>DuMon</th>\n",
              "      <th>CredAmt</th>\n",
              "      <th>InsRt</th>\n",
              "      <th>PreRe</th>\n",
              "      <th>Age</th>\n",
              "      <th>ExstCredit</th>\n",
              "      <th>NoMain</th>\n",
              "      <th>Response</th>\n",
              "    </tr>\n",
              "  </thead>\n",
              "  <tbody>\n",
              "    <tr>\n",
              "      <th>count</th>\n",
              "      <td>1000.000000</td>\n",
              "      <td>1000.000000</td>\n",
              "      <td>1000.000000</td>\n",
              "      <td>1000.000000</td>\n",
              "      <td>1000.000000</td>\n",
              "      <td>1000.000000</td>\n",
              "      <td>1000.000000</td>\n",
              "      <td>1000.000000</td>\n",
              "    </tr>\n",
              "    <tr>\n",
              "      <th>mean</th>\n",
              "      <td>20.903000</td>\n",
              "      <td>3271.258000</td>\n",
              "      <td>2.973000</td>\n",
              "      <td>2.845000</td>\n",
              "      <td>35.546000</td>\n",
              "      <td>1.407000</td>\n",
              "      <td>1.155000</td>\n",
              "      <td>1.300000</td>\n",
              "    </tr>\n",
              "    <tr>\n",
              "      <th>std</th>\n",
              "      <td>12.058814</td>\n",
              "      <td>2822.736876</td>\n",
              "      <td>1.118715</td>\n",
              "      <td>1.103718</td>\n",
              "      <td>11.375469</td>\n",
              "      <td>0.577654</td>\n",
              "      <td>0.362086</td>\n",
              "      <td>0.458487</td>\n",
              "    </tr>\n",
              "    <tr>\n",
              "      <th>min</th>\n",
              "      <td>4.000000</td>\n",
              "      <td>250.000000</td>\n",
              "      <td>1.000000</td>\n",
              "      <td>1.000000</td>\n",
              "      <td>19.000000</td>\n",
              "      <td>1.000000</td>\n",
              "      <td>1.000000</td>\n",
              "      <td>1.000000</td>\n",
              "    </tr>\n",
              "    <tr>\n",
              "      <th>25%</th>\n",
              "      <td>12.000000</td>\n",
              "      <td>1365.500000</td>\n",
              "      <td>2.000000</td>\n",
              "      <td>2.000000</td>\n",
              "      <td>27.000000</td>\n",
              "      <td>1.000000</td>\n",
              "      <td>1.000000</td>\n",
              "      <td>1.000000</td>\n",
              "    </tr>\n",
              "    <tr>\n",
              "      <th>50%</th>\n",
              "      <td>18.000000</td>\n",
              "      <td>2319.500000</td>\n",
              "      <td>3.000000</td>\n",
              "      <td>3.000000</td>\n",
              "      <td>33.000000</td>\n",
              "      <td>1.000000</td>\n",
              "      <td>1.000000</td>\n",
              "      <td>1.000000</td>\n",
              "    </tr>\n",
              "    <tr>\n",
              "      <th>75%</th>\n",
              "      <td>24.000000</td>\n",
              "      <td>3972.250000</td>\n",
              "      <td>4.000000</td>\n",
              "      <td>4.000000</td>\n",
              "      <td>42.000000</td>\n",
              "      <td>2.000000</td>\n",
              "      <td>1.000000</td>\n",
              "      <td>2.000000</td>\n",
              "    </tr>\n",
              "    <tr>\n",
              "      <th>max</th>\n",
              "      <td>72.000000</td>\n",
              "      <td>18424.000000</td>\n",
              "      <td>4.000000</td>\n",
              "      <td>4.000000</td>\n",
              "      <td>75.000000</td>\n",
              "      <td>4.000000</td>\n",
              "      <td>2.000000</td>\n",
              "      <td>2.000000</td>\n",
              "    </tr>\n",
              "  </tbody>\n",
              "</table>\n",
              "</div>"
            ],
            "text/plain": [
              "             DuMon       CredAmt  ...       NoMain     Response\n",
              "count  1000.000000   1000.000000  ...  1000.000000  1000.000000\n",
              "mean     20.903000   3271.258000  ...     1.155000     1.300000\n",
              "std      12.058814   2822.736876  ...     0.362086     0.458487\n",
              "min       4.000000    250.000000  ...     1.000000     1.000000\n",
              "25%      12.000000   1365.500000  ...     1.000000     1.000000\n",
              "50%      18.000000   2319.500000  ...     1.000000     1.000000\n",
              "75%      24.000000   3972.250000  ...     1.000000     2.000000\n",
              "max      72.000000  18424.000000  ...     2.000000     2.000000\n",
              "\n",
              "[8 rows x 8 columns]"
            ]
          },
          "metadata": {
            "tags": []
          },
          "execution_count": 4
        }
      ]
    },
    {
      "cell_type": "markdown",
      "metadata": {
        "id": "Xm_nmz05inag"
      },
      "source": [
        "    Kết quả thống kê mô tả sơ bộ trên các biến numeric cho thấy các biến khác biệt nhau về đơn vị lớn. \n",
        "    Trung bình thấp nhất là 1.155 và cao nhất lên tới 3271.258. Như vậy khả năng cao chúng ta sẽ cần phải chuẩn hoá các biến để \n",
        "    loại bỏ sự khác biệt về đơn vị trước khi xây dựng mô hình."
      ]
    },
    {
      "cell_type": "markdown",
      "metadata": {
        "id": "qgIrf12rjf0s"
      },
      "source": [
        "## Phân phối của các biến"
      ]
    },
    {
      "cell_type": "markdown",
      "metadata": {
        "id": "yxnQVimAjnwr"
      },
      "source": [
        "### Biến Liên Tục"
      ]
    },
    {
      "cell_type": "code",
      "metadata": {
        "colab": {
          "base_uri": "https://localhost:8080/",
          "height": 758
        },
        "id": "I7wrjArSi6NK",
        "outputId": "8be5f047-bf06-4e28-e3c5-d887ddd74d9f"
      },
      "source": [
        "import warnings\n",
        "warnings.simplefilter(action='ignore', category=FutureWarning)\n",
        "\n",
        "numeric_cols = df.select_dtypes(include=['float','int']).columns\n",
        "\n",
        "def _plot_numeric_classes(df, col, bins=10, hist=True, kde=True):\n",
        "    sns.distplot(df[col],\n",
        "                 bins = bins,\n",
        "                 hist = hist,\n",
        "                 kde = kde)\n",
        "\n",
        "def _distribution_numeric(df, numeric_cols, row=3, col=3, figsize=(20, 15), bins = 10):\n",
        "    '''\n",
        "    numeric_cols: list các tên cột\n",
        "    row: số lượng dòng trong lưới đồ thị\n",
        "    col: số lượng cột trong lưới đồ thị\n",
        "    figsize: kích thước biểu đồ\n",
        "    bins: số lượng bins phân chia trong biểu đồ distribution\n",
        "    '''\n",
        "    print('number of numeric field: ', len(numeric_cols))\n",
        "    assert row*(col-1) < len(numeric_cols)\n",
        "    plt.figure(figsize = figsize)\n",
        "    plt.subplots_adjust(left=None, bottom=None, right=None, top=None, wspace=0.2, hspace=0.5)\n",
        "    for i in range(1, len(numeric_cols)+1, 1):\n",
        "      try:\n",
        "        plt.subplot(row, col, i)\n",
        "        _plot_numeric_classes(df, numeric_cols[i-1], bins = bins)\n",
        "        plt.title(numeric_cols[i-1])\n",
        "      except:\n",
        "        print('Error {}'.format(numeric_cols[i-1]))\n",
        "        break\n",
        "\n",
        "_distribution_numeric(df, numeric_cols)"
      ],
      "execution_count": 5,
      "outputs": [
        {
          "output_type": "stream",
          "text": [
            "number of numeric field:  8\n"
          ],
          "name": "stdout"
        },
        {
          "output_type": "display_data",
          "data": {
            "image/png": "[encoded data removed]",
            "text/plain": [
              "<Figure size 1440x1080 with 8 Axes>"
            ]
          },
          "metadata": {
            "tags": [],
            "needs_background": "light"
          }
        }
      ]
    },
    {
      "cell_type": "markdown",
      "metadata": {
        "id": "cAj3Cen3kKwn"
      },
      "source": [
        "    Ta thấy môt số biến thực chất là biến thứ bậc, khi các giá trị chỉ rơi vào một tập giá trị nhất định. Chẳng hạn như\n",
        "    biến PreRe chỉ rơi vào các giá trị [1, 2, 3, 4]. Khi nhìn vào biểu đồ phân phối của các biến ta có thể nhận định được\n",
        "    đâu là miền các biến có độ tập trung cao và thấp?\n",
        "    --> Xác định được các biến có phù hợp với thực tế hay không?"
      ]
    },
    {
      "cell_type": "markdown",
      "metadata": {
        "id": "b7rGZJwsl5yw"
      },
      "source": [
        "### Biến Phân Loại"
      ]
    },
    {
      "cell_type": "code",
      "metadata": {
        "colab": {
          "base_uri": "https://localhost:8080/",
          "height": 560
        },
        "id": "_pktbIz0j7y9",
        "outputId": "4d189ff1-7523-4252-844d-2c9d8e7a49ba"
      },
      "source": [
        "category_cols = df.select_dtypes('O').columns\n",
        "def _plot_bar_classes(df, cols):\n",
        "    df[cols].value_counts().plot.bar()\n",
        "\n",
        "def _distribution_category(df, category_cols, row=1, col=2, figsize=(20, 5)):\n",
        "    print('Số lượng biến phân loại:', len(category_cols))\n",
        "    plt.figure(figsize=figsize)\n",
        "    plt.subplots_adjust(left=None, bottom=None, right=None, top=None, wspace=0.2, hspace=0.5)\n",
        "    for i in range(1, len(category_cols)+1, 1):\n",
        "        try:\n",
        "            plt.subplot(row, col, i)\n",
        "            _plot_bar_classes(df, category_cols[i-1])\n",
        "            plt.title(category_cols[i-1])\n",
        "        except:\n",
        "            break\n",
        "\n",
        "_distribution_category(df, category_cols, row=4, col=4, figsize=(30, 16))"
      ],
      "execution_count": 6,
      "outputs": [
        {
          "output_type": "stream",
          "text": [
            "Số lượng biến phân loại: 13\n"
          ],
          "name": "stdout"
        },
        {
          "output_type": "display_data",
          "data": {
            "image/png": "[encoded data removed]",
            "text/plain": [
              "<Figure size 2160x1152 with 13 Axes>"
            ]
          },
          "metadata": {
            "tags": [],
            "needs_background": "light"
          }
        }
      ]
    },
    {
      "cell_type": "markdown",
      "metadata": {
        "id": "f9W04nhMrIBk"
      },
      "source": [
        "    Có nhiều nhãn phân loại có số lượng quan sát rất ít. heo kinh nghiệm thì các nhãn thiểu số lại có thể là đặc trưng riêng của một nhãn đầu ra. \n",
        "    Vì thế chúng ta có thể khảo sát thêm tỷ lệ giữa GOOD/BAD cách biệt như thế nào ở những nhãn này. Kết quả đánh giá chúng có thể giúp ta đưa ra một\n",
        "    số kết luận hữu ích đối với phân loại nhã "
      ]
    },
    {
      "cell_type": "markdown",
      "metadata": {
        "id": "TQlY9LsMsPkG"
      },
      "source": [
        "# Chia Train & Test"
      ]
    },
    {
      "cell_type": "code",
      "metadata": {
        "colab": {
          "base_uri": "https://localhost:8080/"
        },
        "id": "Qd0jZ7sesSgC",
        "outputId": "853e1e3a-34b6-466b-94f4-f095f7e7e8ca"
      },
      "source": [
        "# Chia train/test theo tỷ lệ 80:20.\n",
        "df_train, df_test = train_test_split(df, test_size=0.2, stratify = df['Response'])\n",
        "X_train = df_train.copy()\n",
        "y_train = X_train.pop(\"Response\")\n",
        "\n",
        "X_test = df_test.copy()\n",
        "y_test = X_test.pop(\"Response\")\n",
        "print(X_train.shape, y_train.shape)\n",
        "print(X_test.shape, y_test.shape)"
      ],
      "execution_count": 7,
      "outputs": [
        {
          "output_type": "stream",
          "text": [
            "(800, 20) (800,)\n",
            "(200, 20) (200,)\n"
          ],
          "name": "stdout"
        }
      ]
    },
    {
      "cell_type": "markdown",
      "metadata": {
        "id": "hIKtrs67tj-z"
      },
      "source": [
        "# Pipeline Processing Data"
      ]
    },
    {
      "cell_type": "code",
      "metadata": {
        "id": "uT_Lp646tn_0"
      },
      "source": [
        "cat_names = list(X_train.select_dtypes(include=['O']).columns)\n",
        "num_names = list(X_train.select_dtypes(exclude=['O']).columns)"
      ],
      "execution_count": 8,
      "outputs": []
    },
    {
      "cell_type": "markdown",
      "metadata": {
        "id": "ynd9lrIYuSEa"
      },
      "source": [
        "## Pipeline xử lí cho biến phân loại"
      ]
    },
    {
      "cell_type": "code",
      "metadata": {
        "id": "grWvo0zbuOEC"
      },
      "source": [
        "cat_pl = Pipeline(\n",
        "    steps=[\n",
        "           ('imputer', SimpleImputer(strategy='most_frequent')), # Xử lí mising data bằng cách thay thế most frequency\n",
        "           ('onehot', OneHotEncoder()), # Encode các biến trong columns\n",
        "    ]\n",
        ")"
      ],
      "execution_count": 9,
      "outputs": []
    },
    {
      "cell_type": "markdown",
      "metadata": {
        "id": "t1SyaWECu7Fn"
      },
      "source": [
        "## Pipeline xử lí cho biến liên tục"
      ]
    },
    {
      "cell_type": "code",
      "metadata": {
        "id": "PGgKCi_-u6aJ"
      },
      "source": [
        "num_pl = Pipeline(\n",
        "    steps=[\n",
        "           ('imputer', KNNImputer(n_neighbors=7)),\n",
        "           ('scale', MinMaxScaler()), # Xử lí missing data \n",
        "    ]\n",
        ")"
      ],
      "execution_count": 10,
      "outputs": []
    },
    {
      "cell_type": "code",
      "metadata": {
        "id": "tSph4VWSvcwY"
      },
      "source": [
        "preprocessor = ColumnTransformer(\n",
        "    transformers=[\n",
        "                  ('num', num_pl, num_names), #áp dụng pipeline cho biến liên tục\n",
        "                  ('cat', cat_pl, cat_names), #áp dụng pipeline cho biến phân loại\n",
        "    ]\n",
        ")"
      ],
      "execution_count": 11,
      "outputs": []
    },
    {
      "cell_type": "markdown",
      "metadata": {
        "id": "XFyuJhM5wDDi"
      },
      "source": [
        "# PIpeline Hoàn chỉnh"
      ]
    },
    {
      "cell_type": "code",
      "metadata": {
        "id": "sKbdksFDwCth"
      },
      "source": [
        "completed_pl = Pipeline(\n",
        "    steps=[\n",
        "           ('preprocessor', preprocessor),\n",
        "           ('classifier', RandomForestClassifier()),\n",
        "    ]\n",
        ")"
      ],
      "execution_count": 12,
      "outputs": []
    },
    {
      "cell_type": "code",
      "metadata": {
        "colab": {
          "base_uri": "https://localhost:8080/"
        },
        "id": "HJ4ST6aOw0IG",
        "outputId": "7f4ca05b-c7cd-4d93-f4c3-63ca601f3bc7"
      },
      "source": [
        "# Training \n",
        "completed_pl.fit(X_train, y_train)"
      ],
      "execution_count": 13,
      "outputs": [
        {
          "output_type": "execute_result",
          "data": {
            "text/plain": [
              "Pipeline(memory=None,\n",
              "         steps=[('preprocessor',\n",
              "                 ColumnTransformer(n_jobs=None, remainder='drop',\n",
              "                                   sparse_threshold=0.3,\n",
              "                                   transformer_weights=None,\n",
              "                                   transformers=[('num',\n",
              "                                                  Pipeline(memory=None,\n",
              "                                                           steps=[('imputer',\n",
              "                                                                   KNNImputer(add_indicator=False,\n",
              "                                                                              copy=True,\n",
              "                                                                              metric='nan_euclidean',\n",
              "                                                                              missing_values=nan,\n",
              "                                                                              n_neighbors=7,\n",
              "                                                                              weights='uniform')),\n",
              "                                                                  ('scale',\n",
              "                                                                   MinMaxScaler(copy=True,\n",
              "                                                                                feat...\n",
              "                 RandomForestClassifier(bootstrap=True, ccp_alpha=0.0,\n",
              "                                        class_weight=None, criterion='gini',\n",
              "                                        max_depth=None, max_features='auto',\n",
              "                                        max_leaf_nodes=None, max_samples=None,\n",
              "                                        min_impurity_decrease=0.0,\n",
              "                                        min_impurity_split=None,\n",
              "                                        min_samples_leaf=1, min_samples_split=2,\n",
              "                                        min_weight_fraction_leaf=0.0,\n",
              "                                        n_estimators=100, n_jobs=None,\n",
              "                                        oob_score=False, random_state=None,\n",
              "                                        verbose=0, warm_start=False))],\n",
              "         verbose=False)"
            ]
          },
          "metadata": {
            "tags": []
          },
          "execution_count": 13
        }
      ]
    },
    {
      "cell_type": "code",
      "metadata": {
        "colab": {
          "base_uri": "https://localhost:8080/"
        },
        "id": "fePzfHphxFib",
        "outputId": "3088a51e-e503-49b7-e8c1-7b48074c4651"
      },
      "source": [
        "#accuracy\n",
        "y_train_pred = completed_pl.predict(X_train)\n",
        "print(\"Accuracy on train:\", accuracy_score(list(y_train),list(y_train_pred)))"
      ],
      "execution_count": 14,
      "outputs": [
        {
          "output_type": "stream",
          "text": [
            "Accuracy on train: 1.0\n"
          ],
          "name": "stdout"
        }
      ]
    },
    {
      "cell_type": "code",
      "metadata": {
        "colab": {
          "base_uri": "https://localhost:8080/"
        },
        "id": "gVgVhY_O9e4m",
        "outputId": "9fee0546-6b33-476e-af01-291ebffccdf7"
      },
      "source": [
        "y_pred = completed_pl.predict(X_test)\n",
        "print(\"Accuracy on test:\", accuracy_score(list(y_test), list(y_pred)))"
      ],
      "execution_count": 15,
      "outputs": [
        {
          "output_type": "stream",
          "text": [
            "Accuracy on test: 0.765\n"
          ],
          "name": "stdout"
        }
      ]
    },
    {
      "cell_type": "markdown",
      "metadata": {
        "id": "b9NHzlc99x1g"
      },
      "source": [
        "    Mô hình có độ chính xác trên tập train là 100% và trên tập test là 76% cho thất có hiện tượng overfitting.\n",
        "    Để khắc phục overfitting, ta có thể thực hiện cross validation"
      ]
    },
    {
      "cell_type": "markdown",
      "metadata": {
        "id": "aM0iQlKe_DSb"
      },
      "source": [
        "# Cross Validation"
      ]
    },
    {
      "cell_type": "code",
      "metadata": {
        "id": "esfqK2xC_GPc"
      },
      "source": [
        "from sklearn.metrics import fbeta_score, make_scorer\n",
        "from sklearn.model_selection import GridSearchCV\n",
        "def fbeta(y_true, y_pred):\n",
        "    return fbeta_score(y_true, y_pred, beta=np.sqrt(5))\n"
      ],
      "execution_count": 25,
      "outputs": []
    },
    {
      "cell_type": "markdown",
      "metadata": {
        "id": "fLOw_7MtHkt0"
      },
      "source": [
        "    Dữ liệu bị mất cần bằng thì dùng F1-score để đánh giá mô hình(xem chi tiết ở vở ghi chú)"
      ]
    },
    {
      "cell_type": "code",
      "metadata": {
        "colab": {
          "base_uri": "https://localhost:8080/"
        },
        "id": "mUyLQPvDCywv",
        "outputId": "b3779abe-7668-4278-a0f1-910cc4466b2f"
      },
      "source": [
        "cv = RepeatedStratifiedKFold(n_splits=10, n_repeats=3, random_state=1)\n",
        "# n_split: số lần chia dữ liệu\n",
        "# n_repeat là số lần lặp lại quá trình cross_validation\n",
        "# như vậy có tổng cộng n_splits x n_repeat = 30 lượt đánh giá dữ liệu\n",
        "# Xác định metrics cho mô hình\n",
        "metric = make_scorer(fbeta)\n",
        "# Đánh giá mô hình\n",
        "scores = cross_val_score(completed_pl, X_train, y_train, scoring=metric, cv=cv, n_jobs=-1)\n",
        "print('Mean Fbeta: {:.03f} {:.03f}'.format(np.mean(scores), np.std(scores)))"
      ],
      "execution_count": 17,
      "outputs": [
        {
          "output_type": "stream",
          "text": [
            "Mean Fbeta: 0.892 0.027\n"
          ],
          "name": "stdout"
        }
      ]
    },
    {
      "cell_type": "markdown",
      "metadata": {
        "id": "RmgreDe_IluU"
      },
      "source": [
        "# Đánh giá nhiều mô hình"
      ]
    },
    {
      "cell_type": "code",
      "metadata": {
        "id": "mcmBRPO5Ih9y"
      },
      "source": [
        "models =  [GaussianNB(), LogisticRegression(), KNeighborsClassifier(), MLPClassifier(), RandomForestClassifier()]\n",
        "\n",
        "cv = RepeatedStratifiedKFold(n_splits=10, n_repeats=3, random_state=1)\n",
        "\n",
        "all_scores = []\n",
        "for model in models:\n",
        "    completed_pl = Pipeline(\n",
        "        steps=[\n",
        "               (\"preprocessor\", preprocessor),\n",
        "               (\"classifier\", model),\n",
        "        ]\n",
        "    )\n",
        "    scores = cross_val_score(completed_pl, X_train, y_train, scoring=metric, cv=cv, n_jobs=-1)\n",
        "    all_scores.append(scores)"
      ],
      "execution_count": 18,
      "outputs": []
    },
    {
      "cell_type": "code",
      "metadata": {
        "colab": {
          "base_uri": "https://localhost:8080/",
          "height": 621
        },
        "id": "guDdlJZNVIWS",
        "outputId": "8dc303e3-ef8c-4af6-df49-6e1b3f8d29f4"
      },
      "source": [
        "model_names = ['GaussianNB', 'Logistic', 'KNN', 'MLP', 'RandomForest']\n",
        "\n",
        "# Draw bboxplot \n",
        "plt.figure(figsize=(16, 8))\n",
        "plt.boxplot(all_scores)\n",
        "plt.xlabel('Scale', fontsize=16)\n",
        "plt.ylabel('cm', fontsize=16)\n",
        "plt.xticks(np.arange(len(model_names))+1, model_names, rotation=45, fontsize=16)\n",
        "plt.title(\"Scores Metrics\", fontsize=18)"
      ],
      "execution_count": 19,
      "outputs": [
        {
          "output_type": "execute_result",
          "data": {
            "text/plain": [
              "Text(0.5, 1.0, 'Scores Metrics')"
            ]
          },
          "metadata": {
            "tags": []
          },
          "execution_count": 19
        },
        {
          "output_type": "display_data",
          "data": {
            "image/png": "[encoded data removed]",
            "text/plain": [
              "<Figure size 1152x576 with 1 Axes>"
            ]
          },
          "metadata": {
            "tags": [],
            "needs_background": "light"
          }
        }
      ]
    },
    {
      "cell_type": "markdown",
      "metadata": {
        "id": "a96O236bVmQ4"
      },
      "source": [
        "    Nhìn vào biểu đồ ta có thể thấy RandomForest là thuật toán có độ chính xác cao nhất khi score giao động trong khoảng từ 0.83 đến 0.95 \n",
        "    và trung bình đạt được khoảng 0.9 nên chúng ta sẽ lựa chọn lớp mô hình này để phát triển thành production.\n",
        "\n"
      ]
    },
    {
      "cell_type": "markdown",
      "metadata": {
        "id": "n7gFUIV-2K0I"
      },
      "source": [
        "# GridSearch"
      ]
    },
    {
      "cell_type": "code",
      "metadata": {
        "id": "6KnZF6Uo2RZS"
      },
      "source": [
        "from sklearn.base import BaseEstimator\n",
        "from sklearn.model_selection import GridSearchCV\n",
        "class ClassifierSwitcher(BaseEstimator):\n",
        "  def __init__(\n",
        "      self, \n",
        "      estimator = RandomForestClassifier(),\n",
        "  ):\n",
        "      \"\"\"\n",
        "      A Custom BaseEstimator that can switch between classifiers.\n",
        "      :param estimator: sklearn object - The classifier\n",
        "      \"\"\" \n",
        "      \n",
        "      self.estimator = estimator\n",
        "\n",
        "\n",
        "  def fit(self, X, y=None, **kwargs):\n",
        "      self.estimator.fit(X, y)\n",
        "      return self\n",
        "\n",
        "\n",
        "  def predict(self, X, y=None):\n",
        "      return self.estimator.predict(X)\n",
        "\n",
        "\n",
        "  def predict_proba(self, X):\n",
        "      return self.estimator.predict_proba(X)\n",
        "\n",
        "\n",
        "  def score(self, X, y):\n",
        "      return self.estimator.score(X, y)"
      ],
      "execution_count": 26,
      "outputs": []
    },
    {
      "cell_type": "code",
      "metadata": {
        "id": "hUlbR2Xs2ytA"
      },
      "source": [
        "pipeline = Pipeline(\n",
        "    steps=[(\"pre\", preprocessor), \n",
        "           (\"clf\", ClassifierSwitcher()),\n",
        "           ]\n",
        ")"
      ],
      "execution_count": 21,
      "outputs": []
    },
    {
      "cell_type": "code",
      "metadata": {
        "id": "XPXmCUxR3VQM"
      },
      "source": [
        "parameters = [\n",
        "    {\n",
        "        'clf__estimator': [LogisticRegression()], # SVM if hinge loss / logreg if log loss\n",
        "        'clf__estimator__penalty': ('l2', 'elasticnet', 'l1'),\n",
        "        'clf__estimator__max_iter': [50, 80],\n",
        "        'clf__estimator__tol': [1e-4]\n",
        "    },\n",
        "    {\n",
        "        'clf__estimator': [RandomForestClassifier()],\n",
        "        'clf__estimator__n_estimators': [50, 100],\n",
        "        'clf__estimator__max_depth': [5, 10],\n",
        "        'clf__estimator__criterion': ('gini', 'entropy')\n",
        "    },\n",
        "]"
      ],
      "execution_count": 22,
      "outputs": []
    },
    {
      "cell_type": "code",
      "metadata": {
        "colab": {
          "base_uri": "https://localhost:8080/"
        },
        "id": "WT-hdLbQ6sQH",
        "outputId": "2ae39d24-99ba-4d13-ca8d-9a00eb2d7460"
      },
      "source": [
        "metric = make_scorer(fbeta)\n",
        "gscv = GridSearchCV(pipeline, parameters, cv=5, # <--k=5, \n",
        "                    n_jobs=12, scoring=metric, return_train_score=True, \n",
        "                    error_score=0, verbose=3)\n",
        "gscv.fit(X_train, y_train)"
      ],
      "execution_count": 27,
      "outputs": [
        {
          "output_type": "stream",
          "text": [
            "Fitting 5 folds for each of 14 candidates, totalling 70 fits\n"
          ],
          "name": "stdout"
        },
        {
          "output_type": "stream",
          "text": [
            "[Parallel(n_jobs=12)]: Using backend LokyBackend with 12 concurrent workers.\n",
            "[Parallel(n_jobs=12)]: Done   8 tasks      | elapsed:    4.6s\n",
            "[Parallel(n_jobs=12)]: Done  70 out of  70 | elapsed:   14.9s finished\n"
          ],
          "name": "stderr"
        },
        {
          "output_type": "execute_result",
          "data": {
            "text/plain": [
              "GridSearchCV(cv=5, error_score=0,\n",
              "             estimator=Pipeline(memory=None,\n",
              "                                steps=[('pre',\n",
              "                                        ColumnTransformer(n_jobs=None,\n",
              "                                                          remainder='drop',\n",
              "                                                          sparse_threshold=0.3,\n",
              "                                                          transformer_weights=None,\n",
              "                                                          transformers=[('num',\n",
              "                                                                         Pipeline(memory=None,\n",
              "                                                                                  steps=[('imputer',\n",
              "                                                                                          KNNImputer(add_indicator=False,\n",
              "                                                                                                     copy=True,\n",
              "                                                                                                     metric='nan_euclidean',\n",
              "                                                                                                     missing_values=nan,\n",
              "                                                                                                     n_neighbors=7,\n",
              "                                                                                                     weights='uniform')),\n",
              "                                                                                         ('s...\n",
              "                                                                    min_samples_split=2,\n",
              "                                                                    min_weight_fraction_leaf=0.0,\n",
              "                                                                    n_estimators=100,\n",
              "                                                                    n_jobs=None,\n",
              "                                                                    oob_score=False,\n",
              "                                                                    random_state=None,\n",
              "                                                                    verbose=0,\n",
              "                                                                    warm_start=False)],\n",
              "                          'clf__estimator__criterion': ('gini', 'entropy'),\n",
              "                          'clf__estimator__max_depth': [5, 10],\n",
              "                          'clf__estimator__n_estimators': [50, 100]}],\n",
              "             pre_dispatch='2*n_jobs', refit=True, return_train_score=True,\n",
              "             scoring=make_scorer(fbeta), verbose=3)"
            ]
          },
          "metadata": {
            "tags": []
          },
          "execution_count": 27
        }
      ]
    },
    {
      "cell_type": "code",
      "metadata": {
        "colab": {
          "base_uri": "https://localhost:8080/"
        },
        "id": "E2HvB7297Ths",
        "outputId": "c1246092-633b-4e60-b6f8-3a2b690a35c0"
      },
      "source": [
        "# Mô hình tốt nhất\n",
        "gscv.best_estimator_"
      ],
      "execution_count": 28,
      "outputs": [
        {
          "output_type": "execute_result",
          "data": {
            "text/plain": [
              "Pipeline(memory=None,\n",
              "         steps=[('pre',\n",
              "                 ColumnTransformer(n_jobs=None, remainder='drop',\n",
              "                                   sparse_threshold=0.3,\n",
              "                                   transformer_weights=None,\n",
              "                                   transformers=[('num',\n",
              "                                                  Pipeline(memory=None,\n",
              "                                                           steps=[('imputer',\n",
              "                                                                   KNNImputer(add_indicator=False,\n",
              "                                                                              copy=True,\n",
              "                                                                              metric='nan_euclidean',\n",
              "                                                                              missing_values=nan,\n",
              "                                                                              n_neighbors=7,\n",
              "                                                                              weights='uniform')),\n",
              "                                                                  ('scale',\n",
              "                                                                   MinMaxScaler(copy=True,\n",
              "                                                                                feature_range...\n",
              "                 ClassifierSwitcher(estimator=RandomForestClassifier(bootstrap=True,\n",
              "                                                                     ccp_alpha=0.0,\n",
              "                                                                     class_weight=None,\n",
              "                                                                     criterion='entropy',\n",
              "                                                                     max_depth=5,\n",
              "                                                                     max_features='auto',\n",
              "                                                                     max_leaf_nodes=None,\n",
              "                                                                     max_samples=None,\n",
              "                                                                     min_impurity_decrease=0.0,\n",
              "                                                                     min_impurity_split=None,\n",
              "                                                                     min_samples_leaf=1,\n",
              "                                                                     min_samples_split=2,\n",
              "                                                                     min_weight_fraction_leaf=0.0,\n",
              "                                                                     n_estimators=100,\n",
              "                                                                     n_jobs=None,\n",
              "                                                                     oob_score=False,\n",
              "                                                                     random_state=None,\n",
              "                                                                     verbose=0,\n",
              "                                                                     warm_start=False)))],\n",
              "         verbose=False)"
            ]
          },
          "metadata": {
            "tags": []
          },
          "execution_count": 28
        }
      ]
    },
    {
      "cell_type": "code",
      "metadata": {
        "colab": {
          "base_uri": "https://localhost:8080/"
        },
        "id": "Hx2VPwQX7-e_",
        "outputId": "656f9d74-bed0-41bf-9509-b1df0e715665"
      },
      "source": [
        "# Tham số tốt nhất\n",
        "gscv.best_params_"
      ],
      "execution_count": 29,
      "outputs": [
        {
          "output_type": "execute_result",
          "data": {
            "text/plain": [
              "{'clf__estimator': RandomForestClassifier(bootstrap=True, ccp_alpha=0.0, class_weight=None,\n",
              "                        criterion='entropy', max_depth=5, max_features='auto',\n",
              "                        max_leaf_nodes=None, max_samples=None,\n",
              "                        min_impurity_decrease=0.0, min_impurity_split=None,\n",
              "                        min_samples_leaf=1, min_samples_split=2,\n",
              "                        min_weight_fraction_leaf=0.0, n_estimators=100,\n",
              "                        n_jobs=None, oob_score=False, random_state=None,\n",
              "                        verbose=0, warm_start=False),\n",
              " 'clf__estimator__criterion': 'entropy',\n",
              " 'clf__estimator__max_depth': 5,\n",
              " 'clf__estimator__n_estimators': 100}"
            ]
          },
          "metadata": {
            "tags": []
          },
          "execution_count": 29
        }
      ]
    },
    {
      "cell_type": "code",
      "metadata": {
        "colab": {
          "base_uri": "https://localhost:8080/"
        },
        "id": "Zi71XEsM8Exp",
        "outputId": "09171887-c0f8-4ef6-8c2f-53a92b3dbb95"
      },
      "source": [
        "# Điểm số cao nhất\n",
        "gscv.best_score_"
      ],
      "execution_count": 30,
      "outputs": [
        {
          "output_type": "execute_result",
          "data": {
            "text/plain": [
              "0.9209862347749537"
            ]
          },
          "metadata": {
            "tags": []
          },
          "execution_count": 30
        }
      ]
    }
  ]
}