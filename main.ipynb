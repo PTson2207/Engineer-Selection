{
 "metadata": {
  "language_info": {
   "codemirror_mode": {
    "name": "ipython",
    "version": 3
   },
   "file_extension": ".py",
   "mimetype": "text/x-python",
   "name": "python",
   "nbconvert_exporter": "python",
   "pygments_lexer": "ipython3",
   "version": "3.7.6"
  },
  "orig_nbformat": 2,
  "kernelspec": {
   "name": "python376jvsc74a57bd0812c04e35dc2017d178d326aa5395980bc18abc67fe5fd6ae6b58e824e490792",
   "display_name": "Python 3.7.6 64-bit ('base': conda)"
  }
 },
 "nbformat": 4,
 "nbformat_minor": 2,
 "cells": [
  {
   "source": [
    "# Project predict power in HackerEarth"
   ],
   "cell_type": "markdown",
   "metadata": {}
  },
  {
   "cell_type": "code",
   "execution_count": 13,
   "metadata": {},
   "outputs": [],
   "source": [
    "import pandas as pd \n",
    "import numpy as np \n",
    "import matplotlib.pyplot as plt \n",
    "from Clean import missing as ms"
   ]
  },
  {
   "cell_type": "code",
   "execution_count": 2,
   "metadata": {},
   "outputs": [],
   "source": [
    "train = pd.read_csv(\"Data/power-data/dataset/train.csv\", delimiter=',')\n",
    "test = pd.read_csv(\"Data/power-data/dataset/test.csv\")\n",
    "#train = pd.read_csv(\"Data/power-data/dataset/tran_fix.csv\", delimiter=';')"
   ]
  },
  {
   "cell_type": "code",
   "execution_count": 3,
   "metadata": {},
   "outputs": [
    {
     "output_type": "stream",
     "name": "stdout",
     "text": [
      "(28200, 22)\n(12086, 21)\n"
     ]
    }
   ],
   "source": [
    "print(train.shape)\n",
    "print(test.shape)"
   ]
  },
  {
   "source": [
    "# Data Processing"
   ],
   "cell_type": "markdown",
   "metadata": {}
  },
  {
   "cell_type": "code",
   "execution_count": 4,
   "metadata": {},
   "outputs": [],
   "source": [
    "c_train = train.copy(deep=True)\n",
    "c_test = test.copy(deep=True)\n",
    "\n",
    "#c_train['train'] = 1\n",
    "#c_test['train'] = 0\n",
    "#df = pd.concat([c_train, c_test], axis=0, sort=False)"
   ]
  },
  {
   "source": [
    "check missing data"
   ],
   "cell_type": "markdown",
   "metadata": {}
  },
  {
   "cell_type": "code",
   "execution_count": 5,
   "metadata": {},
   "outputs": [],
   "source": [
    "def missing_values(df):\n",
    "    mis_val = df.isnull().sum() #tổng các giá trị còn thiếu\n",
    "    mis_val_per = 100 * df.isnull().sum()/len(df) #Phần trăm các giá trị còn thiếu\n",
    "    mis_val_table = pd.concat([mis_val, mis_val_per], axis=1) #Tạo thành bảng để thể hiện 2 giá trị trên\n",
    "    mis_val_table_rename = mis_val_table.rename(\n",
    "    columns = {0: \"Missing\", 1 : \"Percent %\"})\n",
    "    #Sắp xếp bảng theo tỉ lệ phần trăm giảm dần\n",
    "    mis_val_table_rename = mis_val_table_rename[mis_val_table_rename.iloc[:, 1] != 0].sort_values(\"Percent %\", ascending=False).round(1)\n",
    "    print(\"Có tất cả \" + str(df.shape[1]) + \" cột.\\n\"\n",
    "          \"Trog đó có \" + str(mis_val_table_rename.shape[0]) + \" cột bị thiếu data\")\n",
    "    return mis_val_table_rename"
   ]
  },
  {
   "source": [
    "## Train"
   ],
   "cell_type": "markdown",
   "metadata": {}
  },
  {
   "cell_type": "code",
   "execution_count": 6,
   "metadata": {},
   "outputs": [
    {
     "output_type": "stream",
     "name": "stdout",
     "text": [
      "Có tất cả 22 cột.\nTrog đó có 18 cột bị thiếu data\n"
     ]
    },
    {
     "output_type": "execute_result",
     "data": {
      "text/plain": [
       "                                Missing  Percent %\n",
       "wind_direction(°)                  5103       18.1\n",
       "blade_length(m)                    5093       18.1\n",
       "atmospheric_temperature(°C)        3450       12.2\n",
       "atmospheric_pressure(Pascal)       2707        9.6\n",
       "windmill_body_temperature(°C)      2363        8.4\n",
       "turbine_status                     1759        6.2\n",
       "rotor_torque(N-m)                   572        2.0\n",
       "windmill_height(m)                  543        1.9\n",
       "cloud_level                         276        1.0\n",
       "wind_speed(m/s)                     273        1.0\n",
       "blades_angle(°)                     216        0.8\n",
       "windmill_generated_power(kW/h)      207        0.7\n",
       "motor_torque(N-m)                    24        0.1\n",
       "generator_temperature(°C)            12        0.0\n",
       "engine_temperature(°C)               12        0.0\n",
       "shaft_temperature(°C)                 2        0.0\n",
       "resistance(ohm)                       1        0.0\n",
       "gearbox_temperature(°C)               1        0.0"
      ],
      "text/html": "<div>\n<style scoped>\n    .dataframe tbody tr th:only-of-type {\n        vertical-align: middle;\n    }\n\n    .dataframe tbody tr th {\n        vertical-align: top;\n    }\n\n    .dataframe thead th {\n        text-align: right;\n    }\n</style>\n<table border=\"1\" class=\"dataframe\">\n  <thead>\n    <tr style=\"text-align: right;\">\n      <th></th>\n      <th>Missing</th>\n      <th>Percent %</th>\n    </tr>\n  </thead>\n  <tbody>\n    <tr>\n      <th>wind_direction(°)</th>\n      <td>5103</td>\n      <td>18.1</td>\n    </tr>\n    <tr>\n      <th>blade_length(m)</th>\n      <td>5093</td>\n      <td>18.1</td>\n    </tr>\n    <tr>\n      <th>atmospheric_temperature(°C)</th>\n      <td>3450</td>\n      <td>12.2</td>\n    </tr>\n    <tr>\n      <th>atmospheric_pressure(Pascal)</th>\n      <td>2707</td>\n      <td>9.6</td>\n    </tr>\n    <tr>\n      <th>windmill_body_temperature(°C)</th>\n      <td>2363</td>\n      <td>8.4</td>\n    </tr>\n    <tr>\n      <th>turbine_status</th>\n      <td>1759</td>\n      <td>6.2</td>\n    </tr>\n    <tr>\n      <th>rotor_torque(N-m)</th>\n      <td>572</td>\n      <td>2.0</td>\n    </tr>\n    <tr>\n      <th>windmill_height(m)</th>\n      <td>543</td>\n      <td>1.9</td>\n    </tr>\n    <tr>\n      <th>cloud_level</th>\n      <td>276</td>\n      <td>1.0</td>\n    </tr>\n    <tr>\n      <th>wind_speed(m/s)</th>\n      <td>273</td>\n      <td>1.0</td>\n    </tr>\n    <tr>\n      <th>blades_angle(°)</th>\n      <td>216</td>\n      <td>0.8</td>\n    </tr>\n    <tr>\n      <th>windmill_generated_power(kW/h)</th>\n      <td>207</td>\n      <td>0.7</td>\n    </tr>\n    <tr>\n      <th>motor_torque(N-m)</th>\n      <td>24</td>\n      <td>0.1</td>\n    </tr>\n    <tr>\n      <th>generator_temperature(°C)</th>\n      <td>12</td>\n      <td>0.0</td>\n    </tr>\n    <tr>\n      <th>engine_temperature(°C)</th>\n      <td>12</td>\n      <td>0.0</td>\n    </tr>\n    <tr>\n      <th>shaft_temperature(°C)</th>\n      <td>2</td>\n      <td>0.0</td>\n    </tr>\n    <tr>\n      <th>resistance(ohm)</th>\n      <td>1</td>\n      <td>0.0</td>\n    </tr>\n    <tr>\n      <th>gearbox_temperature(°C)</th>\n      <td>1</td>\n      <td>0.0</td>\n    </tr>\n  </tbody>\n</table>\n</div>"
     },
     "metadata": {},
     "execution_count": 6
    }
   ],
   "source": [
    "missing_values(c_train)"
   ]
  },
  {
   "cell_type": "code",
   "execution_count": 7,
   "metadata": {},
   "outputs": [],
   "source": [
    "# trong nhan label co thieu missing data nen loai bo no di\n",
    "c_train =  c_train.dropna(subset=['windmill_generated_power(kW/h)'])"
   ]
  },
  {
   "cell_type": "code",
   "execution_count": 8,
   "metadata": {},
   "outputs": [],
   "source": [
    "# Fill numeric data by values: 'mean'\n",
    "c_train = c_train.fillna(c_train.mean())"
   ]
  },
  {
   "cell_type": "code",
   "execution_count": 9,
   "metadata": {},
   "outputs": [
    {
     "output_type": "stream",
     "name": "stdout",
     "text": [
      "Có tất cả 22 cột.\nTrog đó có 2 cột bị thiếu data\n"
     ]
    },
    {
     "output_type": "execute_result",
     "data": {
      "text/plain": [
       "                Missing  Percent %\n",
       "turbine_status     1747        6.2\n",
       "cloud_level         272        1.0"
      ],
      "text/html": "<div>\n<style scoped>\n    .dataframe tbody tr th:only-of-type {\n        vertical-align: middle;\n    }\n\n    .dataframe tbody tr th {\n        vertical-align: top;\n    }\n\n    .dataframe thead th {\n        text-align: right;\n    }\n</style>\n<table border=\"1\" class=\"dataframe\">\n  <thead>\n    <tr style=\"text-align: right;\">\n      <th></th>\n      <th>Missing</th>\n      <th>Percent %</th>\n    </tr>\n  </thead>\n  <tbody>\n    <tr>\n      <th>turbine_status</th>\n      <td>1747</td>\n      <td>6.2</td>\n    </tr>\n    <tr>\n      <th>cloud_level</th>\n      <td>272</td>\n      <td>1.0</td>\n    </tr>\n  </tbody>\n</table>\n</div>"
     },
     "metadata": {},
     "execution_count": 9
    }
   ],
   "source": [
    "missing_values(c_train)"
   ]
  },
  {
   "cell_type": "code",
   "execution_count": 10,
   "metadata": {},
   "outputs": [],
   "source": [
    "numeric_data = c_train.select_dtypes(exclude='object')\n",
    "category_data = c_train.select_dtypes(include='object')"
   ]
  },
  {
   "cell_type": "code",
   "execution_count": 21,
   "metadata": {},
   "outputs": [
    {
     "output_type": "stream",
     "name": "stdout",
     "text": [
      "Có tất cả 18 cột.\nTrog đó có 0 cột bị thiếu data\n"
     ]
    },
    {
     "output_type": "execute_result",
     "data": {
      "text/plain": [
       "Empty DataFrame\n",
       "Columns: [Missing, Percent %]\n",
       "Index: []"
      ],
      "text/html": "<div>\n<style scoped>\n    .dataframe tbody tr th:only-of-type {\n        vertical-align: middle;\n    }\n\n    .dataframe tbody tr th {\n        vertical-align: top;\n    }\n\n    .dataframe thead th {\n        text-align: right;\n    }\n</style>\n<table border=\"1\" class=\"dataframe\">\n  <thead>\n    <tr style=\"text-align: right;\">\n      <th></th>\n      <th>Missing</th>\n      <th>Percent %</th>\n    </tr>\n  </thead>\n  <tbody>\n  </tbody>\n</table>\n</div>"
     },
     "metadata": {},
     "execution_count": 21
    }
   ],
   "source": [
    "missing_values(numeric_data)"
   ]
  },
  {
   "cell_type": "code",
   "execution_count": 12,
   "metadata": {},
   "outputs": [
    {
     "output_type": "stream",
     "name": "stdout",
     "text": [
      "Có tất cả 4 cột.\nTrog đó có 2 cột bị thiếu data\n"
     ]
    },
    {
     "output_type": "execute_result",
     "data": {
      "text/plain": [
       "                Missing  Percent %\n",
       "turbine_status     1747        6.2\n",
       "cloud_level         272        1.0"
      ],
      "text/html": "<div>\n<style scoped>\n    .dataframe tbody tr th:only-of-type {\n        vertical-align: middle;\n    }\n\n    .dataframe tbody tr th {\n        vertical-align: top;\n    }\n\n    .dataframe thead th {\n        text-align: right;\n    }\n</style>\n<table border=\"1\" class=\"dataframe\">\n  <thead>\n    <tr style=\"text-align: right;\">\n      <th></th>\n      <th>Missing</th>\n      <th>Percent %</th>\n    </tr>\n  </thead>\n  <tbody>\n    <tr>\n      <th>turbine_status</th>\n      <td>1747</td>\n      <td>6.2</td>\n    </tr>\n    <tr>\n      <th>cloud_level</th>\n      <td>272</td>\n      <td>1.0</td>\n    </tr>\n  </tbody>\n</table>\n</div>"
     },
     "metadata": {},
     "execution_count": 12
    }
   ],
   "source": [
    "# check missing in category data\n",
    "missing_values(category_data)"
   ]
  },
  {
   "cell_type": "code",
   "execution_count": 16,
   "metadata": {},
   "outputs": [],
   "source": [
    "category_data = ms.impute_NA_with_avg(data=category_data, strategy='mode', NA_col=[\"turbine_status\", \"cloud_level\"])"
   ]
  },
  {
   "cell_type": "code",
   "execution_count": 17,
   "metadata": {},
   "outputs": [
    {
     "output_type": "execute_result",
     "data": {
      "text/plain": [
       "  tracking_id             datetime turbine_status cloud_level  \\\n",
       "0    WM_33725  2019-08-04 14:33:20             BA      Medium   \n",
       "1      WM_698  2018-11-05 10:13:20             A2      Medium   \n",
       "2    WM_39146  2019-09-14 14:03:20            ABC      Medium   \n",
       "3     WM_6757  2018-12-25 15:33:20            ABC         NaN   \n",
       "4    WM_21521  2019-05-04 03:13:20            AAA      Medium   \n",
       "\n",
       "  turbine_status_impute_mode cloud_level_impute_mode  \n",
       "0                         BA                  Medium  \n",
       "1                         A2                  Medium  \n",
       "2                        ABC                  Medium  \n",
       "3                        ABC                     Low  \n",
       "4                        AAA                  Medium  "
      ],
      "text/html": "<div>\n<style scoped>\n    .dataframe tbody tr th:only-of-type {\n        vertical-align: middle;\n    }\n\n    .dataframe tbody tr th {\n        vertical-align: top;\n    }\n\n    .dataframe thead th {\n        text-align: right;\n    }\n</style>\n<table border=\"1\" class=\"dataframe\">\n  <thead>\n    <tr style=\"text-align: right;\">\n      <th></th>\n      <th>tracking_id</th>\n      <th>datetime</th>\n      <th>turbine_status</th>\n      <th>cloud_level</th>\n      <th>turbine_status_impute_mode</th>\n      <th>cloud_level_impute_mode</th>\n    </tr>\n  </thead>\n  <tbody>\n    <tr>\n      <th>0</th>\n      <td>WM_33725</td>\n      <td>2019-08-04 14:33:20</td>\n      <td>BA</td>\n      <td>Medium</td>\n      <td>BA</td>\n      <td>Medium</td>\n    </tr>\n    <tr>\n      <th>1</th>\n      <td>WM_698</td>\n      <td>2018-11-05 10:13:20</td>\n      <td>A2</td>\n      <td>Medium</td>\n      <td>A2</td>\n      <td>Medium</td>\n    </tr>\n    <tr>\n      <th>2</th>\n      <td>WM_39146</td>\n      <td>2019-09-14 14:03:20</td>\n      <td>ABC</td>\n      <td>Medium</td>\n      <td>ABC</td>\n      <td>Medium</td>\n    </tr>\n    <tr>\n      <th>3</th>\n      <td>WM_6757</td>\n      <td>2018-12-25 15:33:20</td>\n      <td>ABC</td>\n      <td>NaN</td>\n      <td>ABC</td>\n      <td>Low</td>\n    </tr>\n    <tr>\n      <th>4</th>\n      <td>WM_21521</td>\n      <td>2019-05-04 03:13:20</td>\n      <td>AAA</td>\n      <td>Medium</td>\n      <td>AAA</td>\n      <td>Medium</td>\n    </tr>\n  </tbody>\n</table>\n</div>"
     },
     "metadata": {},
     "execution_count": 17
    }
   ],
   "source": [
    "category_data.head()"
   ]
  },
  {
   "cell_type": "code",
   "execution_count": 18,
   "metadata": {},
   "outputs": [
    {
     "output_type": "execute_result",
     "data": {
      "text/plain": [
       "  tracking_id             datetime turbine_status_impute_mode  \\\n",
       "0    WM_33725  2019-08-04 14:33:20                         BA   \n",
       "1      WM_698  2018-11-05 10:13:20                         A2   \n",
       "2    WM_39146  2019-09-14 14:03:20                        ABC   \n",
       "3     WM_6757  2018-12-25 15:33:20                        ABC   \n",
       "4    WM_21521  2019-05-04 03:13:20                        AAA   \n",
       "\n",
       "  cloud_level_impute_mode  \n",
       "0                  Medium  \n",
       "1                  Medium  \n",
       "2                  Medium  \n",
       "3                     Low  \n",
       "4                  Medium  "
      ],
      "text/html": "<div>\n<style scoped>\n    .dataframe tbody tr th:only-of-type {\n        vertical-align: middle;\n    }\n\n    .dataframe tbody tr th {\n        vertical-align: top;\n    }\n\n    .dataframe thead th {\n        text-align: right;\n    }\n</style>\n<table border=\"1\" class=\"dataframe\">\n  <thead>\n    <tr style=\"text-align: right;\">\n      <th></th>\n      <th>tracking_id</th>\n      <th>datetime</th>\n      <th>turbine_status_impute_mode</th>\n      <th>cloud_level_impute_mode</th>\n    </tr>\n  </thead>\n  <tbody>\n    <tr>\n      <th>0</th>\n      <td>WM_33725</td>\n      <td>2019-08-04 14:33:20</td>\n      <td>BA</td>\n      <td>Medium</td>\n    </tr>\n    <tr>\n      <th>1</th>\n      <td>WM_698</td>\n      <td>2018-11-05 10:13:20</td>\n      <td>A2</td>\n      <td>Medium</td>\n    </tr>\n    <tr>\n      <th>2</th>\n      <td>WM_39146</td>\n      <td>2019-09-14 14:03:20</td>\n      <td>ABC</td>\n      <td>Medium</td>\n    </tr>\n    <tr>\n      <th>3</th>\n      <td>WM_6757</td>\n      <td>2018-12-25 15:33:20</td>\n      <td>ABC</td>\n      <td>Low</td>\n    </tr>\n    <tr>\n      <th>4</th>\n      <td>WM_21521</td>\n      <td>2019-05-04 03:13:20</td>\n      <td>AAA</td>\n      <td>Medium</td>\n    </tr>\n  </tbody>\n</table>\n</div>"
     },
     "metadata": {},
     "execution_count": 18
    }
   ],
   "source": [
    "category_data = category_data.dropna(axis=1)\n",
    "category_data.head()"
   ]
  },
  {
   "cell_type": "code",
   "execution_count": 22,
   "metadata": {},
   "outputs": [
    {
     "output_type": "execute_result",
     "data": {
      "text/plain": [
       "  tracking_id             datetime turbine_status_impute_mode  \\\n",
       "0    WM_33725  2019-08-04 14:33:20                         BA   \n",
       "1      WM_698  2018-11-05 10:13:20                         A2   \n",
       "2    WM_39146  2019-09-14 14:03:20                        ABC   \n",
       "3     WM_6757  2018-12-25 15:33:20                        ABC   \n",
       "4    WM_21521  2019-05-04 03:13:20                        AAA   \n",
       "\n",
       "  cloud_level_impute_mode  wind_speed(m/s)  atmospheric_temperature(°C)  \\\n",
       "0                  Medium        94.820023                   -99.000000   \n",
       "1                  Medium       241.832734                    27.764785   \n",
       "2                  Medium        95.484724                     0.371184   \n",
       "3                     Low       238.819424                   -99.000000   \n",
       "4                  Medium        10.722890                     0.371184   \n",
       "\n",
       "   shaft_temperature(°C)  blades_angle(°)  gearbox_temperature(°C)  \\\n",
       "0              41.723019        -0.903423                82.410573   \n",
       "1             -99.000000       -99.000000                44.104919   \n",
       "2              41.855473        12.652763                42.322098   \n",
       "3              45.443914        15.115323                44.759643   \n",
       "4              41.981183         1.715696               -17.616459   \n",
       "\n",
       "   engine_temperature(°C)  ...  atmospheric_pressure(Pascal)  \\\n",
       "0               42.523015  ...                 103402.961872   \n",
       "1               46.258870  ...                  17030.904078   \n",
       "2               42.878552  ...                  16125.927107   \n",
       "3               47.282101  ...                  18689.732336   \n",
       "4               43.469852  ...                 114468.169007   \n",
       "\n",
       "   area_temperature(°C)  windmill_body_temperature(°C)  wind_direction(°)  \\\n",
       "0             26.897875                      20.767246         239.836388   \n",
       "1             39.801469                      20.767246         337.944723   \n",
       "2             36.116065                      45.033197         227.850294   \n",
       "3             46.020045                      44.827154         492.081520   \n",
       "4             34.572941                     -99.000000         259.274601   \n",
       "\n",
       "   resistance(ohm)  rotor_torque(N-m)  blade_length(m)  blade_breadth(m)  \\\n",
       "0      2730.310605          42.084666         2.217542          0.314065   \n",
       "1      1780.207200         107.888643         4.210346          0.448494   \n",
       "2      1666.049900         -42.931459         2.719475          0.302321   \n",
       "3      1964.502895          42.744596         4.857385          0.367140   \n",
       "4      1177.516152          13.387289         2.248762          0.453374   \n",
       "\n",
       "   windmill_height(m)  windmill_generated_power(kW/h)  \n",
       "0           24.281689                        6.766521  \n",
       "1           27.262139                        5.966275  \n",
       "2           27.366127                        2.874342  \n",
       "3           24.287767                       14.851089  \n",
       "4           27.971650                        3.519074  \n",
       "\n",
       "[5 rows x 22 columns]"
      ],
      "text/html": "<div>\n<style scoped>\n    .dataframe tbody tr th:only-of-type {\n        vertical-align: middle;\n    }\n\n    .dataframe tbody tr th {\n        vertical-align: top;\n    }\n\n    .dataframe thead th {\n        text-align: right;\n    }\n</style>\n<table border=\"1\" class=\"dataframe\">\n  <thead>\n    <tr style=\"text-align: right;\">\n      <th></th>\n      <th>tracking_id</th>\n      <th>datetime</th>\n      <th>turbine_status_impute_mode</th>\n      <th>cloud_level_impute_mode</th>\n      <th>wind_speed(m/s)</th>\n      <th>atmospheric_temperature(°C)</th>\n      <th>shaft_temperature(°C)</th>\n      <th>blades_angle(°)</th>\n      <th>gearbox_temperature(°C)</th>\n      <th>engine_temperature(°C)</th>\n      <th>...</th>\n      <th>atmospheric_pressure(Pascal)</th>\n      <th>area_temperature(°C)</th>\n      <th>windmill_body_temperature(°C)</th>\n      <th>wind_direction(°)</th>\n      <th>resistance(ohm)</th>\n      <th>rotor_torque(N-m)</th>\n      <th>blade_length(m)</th>\n      <th>blade_breadth(m)</th>\n      <th>windmill_height(m)</th>\n      <th>windmill_generated_power(kW/h)</th>\n    </tr>\n  </thead>\n  <tbody>\n    <tr>\n      <th>0</th>\n      <td>WM_33725</td>\n      <td>2019-08-04 14:33:20</td>\n      <td>BA</td>\n      <td>Medium</td>\n      <td>94.820023</td>\n      <td>-99.000000</td>\n      <td>41.723019</td>\n      <td>-0.903423</td>\n      <td>82.410573</td>\n      <td>42.523015</td>\n      <td>...</td>\n      <td>103402.961872</td>\n      <td>26.897875</td>\n      <td>20.767246</td>\n      <td>239.836388</td>\n      <td>2730.310605</td>\n      <td>42.084666</td>\n      <td>2.217542</td>\n      <td>0.314065</td>\n      <td>24.281689</td>\n      <td>6.766521</td>\n    </tr>\n    <tr>\n      <th>1</th>\n      <td>WM_698</td>\n      <td>2018-11-05 10:13:20</td>\n      <td>A2</td>\n      <td>Medium</td>\n      <td>241.832734</td>\n      <td>27.764785</td>\n      <td>-99.000000</td>\n      <td>-99.000000</td>\n      <td>44.104919</td>\n      <td>46.258870</td>\n      <td>...</td>\n      <td>17030.904078</td>\n      <td>39.801469</td>\n      <td>20.767246</td>\n      <td>337.944723</td>\n      <td>1780.207200</td>\n      <td>107.888643</td>\n      <td>4.210346</td>\n      <td>0.448494</td>\n      <td>27.262139</td>\n      <td>5.966275</td>\n    </tr>\n    <tr>\n      <th>2</th>\n      <td>WM_39146</td>\n      <td>2019-09-14 14:03:20</td>\n      <td>ABC</td>\n      <td>Medium</td>\n      <td>95.484724</td>\n      <td>0.371184</td>\n      <td>41.855473</td>\n      <td>12.652763</td>\n      <td>42.322098</td>\n      <td>42.878552</td>\n      <td>...</td>\n      <td>16125.927107</td>\n      <td>36.116065</td>\n      <td>45.033197</td>\n      <td>227.850294</td>\n      <td>1666.049900</td>\n      <td>-42.931459</td>\n      <td>2.719475</td>\n      <td>0.302321</td>\n      <td>27.366127</td>\n      <td>2.874342</td>\n    </tr>\n    <tr>\n      <th>3</th>\n      <td>WM_6757</td>\n      <td>2018-12-25 15:33:20</td>\n      <td>ABC</td>\n      <td>Low</td>\n      <td>238.819424</td>\n      <td>-99.000000</td>\n      <td>45.443914</td>\n      <td>15.115323</td>\n      <td>44.759643</td>\n      <td>47.282101</td>\n      <td>...</td>\n      <td>18689.732336</td>\n      <td>46.020045</td>\n      <td>44.827154</td>\n      <td>492.081520</td>\n      <td>1964.502895</td>\n      <td>42.744596</td>\n      <td>4.857385</td>\n      <td>0.367140</td>\n      <td>24.287767</td>\n      <td>14.851089</td>\n    </tr>\n    <tr>\n      <th>4</th>\n      <td>WM_21521</td>\n      <td>2019-05-04 03:13:20</td>\n      <td>AAA</td>\n      <td>Medium</td>\n      <td>10.722890</td>\n      <td>0.371184</td>\n      <td>41.981183</td>\n      <td>1.715696</td>\n      <td>-17.616459</td>\n      <td>43.469852</td>\n      <td>...</td>\n      <td>114468.169007</td>\n      <td>34.572941</td>\n      <td>-99.000000</td>\n      <td>259.274601</td>\n      <td>1177.516152</td>\n      <td>13.387289</td>\n      <td>2.248762</td>\n      <td>0.453374</td>\n      <td>27.971650</td>\n      <td>3.519074</td>\n    </tr>\n  </tbody>\n</table>\n<p>5 rows × 22 columns</p>\n</div>"
     },
     "metadata": {},
     "execution_count": 22
    }
   ],
   "source": [
    "train_concat = pd.concat([category_data, numeric_data], axis=1, sort=False)\n",
    "train_concat.head()"
   ]
  },
  {
   "cell_type": "code",
   "execution_count": 23,
   "metadata": {},
   "outputs": [
    {
     "output_type": "stream",
     "name": "stdout",
     "text": [
      "Có tất cả 22 cột.\nTrog đó có 0 cột bị thiếu data\n"
     ]
    },
    {
     "output_type": "execute_result",
     "data": {
      "text/plain": [
       "Empty DataFrame\n",
       "Columns: [Missing, Percent %]\n",
       "Index: []"
      ],
      "text/html": "<div>\n<style scoped>\n    .dataframe tbody tr th:only-of-type {\n        vertical-align: middle;\n    }\n\n    .dataframe tbody tr th {\n        vertical-align: top;\n    }\n\n    .dataframe thead th {\n        text-align: right;\n    }\n</style>\n<table border=\"1\" class=\"dataframe\">\n  <thead>\n    <tr style=\"text-align: right;\">\n      <th></th>\n      <th>Missing</th>\n      <th>Percent %</th>\n    </tr>\n  </thead>\n  <tbody>\n  </tbody>\n</table>\n</div>"
     },
     "metadata": {},
     "execution_count": 23
    }
   ],
   "source": [
    "# check end missing\n",
    "missing_values(train_concat)"
   ]
  },
  {
   "source": [
    "## Test"
   ],
   "cell_type": "markdown",
   "metadata": {}
  },
  {
   "cell_type": "code",
   "execution_count": 24,
   "metadata": {},
   "outputs": [
    {
     "output_type": "stream",
     "name": "stdout",
     "text": [
      "Có tất cả 21 cột.\nTrog đó có 17 cột bị thiếu data\n"
     ]
    },
    {
     "output_type": "execute_result",
     "data": {
      "text/plain": [
       "                               Missing  Percent %\n",
       "wind_direction(°)                 2160       17.9\n",
       "blade_length(m)                   2114       17.5\n",
       "atmospheric_temperature(°C)       1427       11.8\n",
       "atmospheric_pressure(Pascal)      1151        9.5\n",
       "windmill_body_temperature(°C)      926        7.7\n",
       "turbine_status                     797        6.6\n",
       "rotor_torque(N-m)                  281        2.3\n",
       "windmill_height(m)                 255        2.1\n",
       "wind_speed(m/s)                    126        1.0\n",
       "cloud_level                        125        1.0\n",
       "blades_angle(°)                    106        0.9\n",
       "motor_torque(N-m)                   11        0.1\n",
       "generator_temperature(°C)            5        0.0\n",
       "engine_temperature(°C)               5        0.0\n",
       "area_temperature(°C)                 1        0.0\n",
       "gearbox_temperature(°C)              1        0.0\n",
       "shaft_temperature(°C)                1        0.0"
      ],
      "text/html": "<div>\n<style scoped>\n    .dataframe tbody tr th:only-of-type {\n        vertical-align: middle;\n    }\n\n    .dataframe tbody tr th {\n        vertical-align: top;\n    }\n\n    .dataframe thead th {\n        text-align: right;\n    }\n</style>\n<table border=\"1\" class=\"dataframe\">\n  <thead>\n    <tr style=\"text-align: right;\">\n      <th></th>\n      <th>Missing</th>\n      <th>Percent %</th>\n    </tr>\n  </thead>\n  <tbody>\n    <tr>\n      <th>wind_direction(°)</th>\n      <td>2160</td>\n      <td>17.9</td>\n    </tr>\n    <tr>\n      <th>blade_length(m)</th>\n      <td>2114</td>\n      <td>17.5</td>\n    </tr>\n    <tr>\n      <th>atmospheric_temperature(°C)</th>\n      <td>1427</td>\n      <td>11.8</td>\n    </tr>\n    <tr>\n      <th>atmospheric_pressure(Pascal)</th>\n      <td>1151</td>\n      <td>9.5</td>\n    </tr>\n    <tr>\n      <th>windmill_body_temperature(°C)</th>\n      <td>926</td>\n      <td>7.7</td>\n    </tr>\n    <tr>\n      <th>turbine_status</th>\n      <td>797</td>\n      <td>6.6</td>\n    </tr>\n    <tr>\n      <th>rotor_torque(N-m)</th>\n      <td>281</td>\n      <td>2.3</td>\n    </tr>\n    <tr>\n      <th>windmill_height(m)</th>\n      <td>255</td>\n      <td>2.1</td>\n    </tr>\n    <tr>\n      <th>wind_speed(m/s)</th>\n      <td>126</td>\n      <td>1.0</td>\n    </tr>\n    <tr>\n      <th>cloud_level</th>\n      <td>125</td>\n      <td>1.0</td>\n    </tr>\n    <tr>\n      <th>blades_angle(°)</th>\n      <td>106</td>\n      <td>0.9</td>\n    </tr>\n    <tr>\n      <th>motor_torque(N-m)</th>\n      <td>11</td>\n      <td>0.1</td>\n    </tr>\n    <tr>\n      <th>generator_temperature(°C)</th>\n      <td>5</td>\n      <td>0.0</td>\n    </tr>\n    <tr>\n      <th>engine_temperature(°C)</th>\n      <td>5</td>\n      <td>0.0</td>\n    </tr>\n    <tr>\n      <th>area_temperature(°C)</th>\n      <td>1</td>\n      <td>0.0</td>\n    </tr>\n    <tr>\n      <th>gearbox_temperature(°C)</th>\n      <td>1</td>\n      <td>0.0</td>\n    </tr>\n    <tr>\n      <th>shaft_temperature(°C)</th>\n      <td>1</td>\n      <td>0.0</td>\n    </tr>\n  </tbody>\n</table>\n</div>"
     },
     "metadata": {},
     "execution_count": 24
    }
   ],
   "source": [
    "missing_values(c_test)"
   ]
  },
  {
   "cell_type": "code",
   "execution_count": 25,
   "metadata": {},
   "outputs": [
    {
     "output_type": "stream",
     "name": "stdout",
     "text": [
      "Có tất cả 21 cột.\nTrog đó có 2 cột bị thiếu data\n"
     ]
    },
    {
     "output_type": "execute_result",
     "data": {
      "text/plain": [
       "                Missing  Percent %\n",
       "turbine_status      797        6.6\n",
       "cloud_level         125        1.0"
      ],
      "text/html": "<div>\n<style scoped>\n    .dataframe tbody tr th:only-of-type {\n        vertical-align: middle;\n    }\n\n    .dataframe tbody tr th {\n        vertical-align: top;\n    }\n\n    .dataframe thead th {\n        text-align: right;\n    }\n</style>\n<table border=\"1\" class=\"dataframe\">\n  <thead>\n    <tr style=\"text-align: right;\">\n      <th></th>\n      <th>Missing</th>\n      <th>Percent %</th>\n    </tr>\n  </thead>\n  <tbody>\n    <tr>\n      <th>turbine_status</th>\n      <td>797</td>\n      <td>6.6</td>\n    </tr>\n    <tr>\n      <th>cloud_level</th>\n      <td>125</td>\n      <td>1.0</td>\n    </tr>\n  </tbody>\n</table>\n</div>"
     },
     "metadata": {},
     "execution_count": 25
    }
   ],
   "source": [
    "c_test = c_test.fillna(c_test.mean())\n",
    "missing_values(c_test)"
   ]
  },
  {
   "cell_type": "code",
   "execution_count": 26,
   "metadata": {},
   "outputs": [],
   "source": [
    "numeric_data = c_test.select_dtypes(exclude='object')\n",
    "category_data = c_test.select_dtypes(include='object')"
   ]
  },
  {
   "cell_type": "code",
   "execution_count": 27,
   "metadata": {},
   "outputs": [
    {
     "output_type": "stream",
     "name": "stdout",
     "text": [
      "Có tất cả 4 cột.\nTrog đó có 2 cột bị thiếu data\n"
     ]
    },
    {
     "output_type": "execute_result",
     "data": {
      "text/plain": [
       "                Missing  Percent %\n",
       "turbine_status      797        6.6\n",
       "cloud_level         125        1.0"
      ],
      "text/html": "<div>\n<style scoped>\n    .dataframe tbody tr th:only-of-type {\n        vertical-align: middle;\n    }\n\n    .dataframe tbody tr th {\n        vertical-align: top;\n    }\n\n    .dataframe thead th {\n        text-align: right;\n    }\n</style>\n<table border=\"1\" class=\"dataframe\">\n  <thead>\n    <tr style=\"text-align: right;\">\n      <th></th>\n      <th>Missing</th>\n      <th>Percent %</th>\n    </tr>\n  </thead>\n  <tbody>\n    <tr>\n      <th>turbine_status</th>\n      <td>797</td>\n      <td>6.6</td>\n    </tr>\n    <tr>\n      <th>cloud_level</th>\n      <td>125</td>\n      <td>1.0</td>\n    </tr>\n  </tbody>\n</table>\n</div>"
     },
     "metadata": {},
     "execution_count": 27
    }
   ],
   "source": [
    "missing_values(category_data)"
   ]
  },
  {
   "cell_type": "code",
   "execution_count": 28,
   "metadata": {},
   "outputs": [],
   "source": [
    "category_data = ms.impute_NA_with_avg(data=category_data, strategy='mode', NA_col=[\"turbine_status\", \"cloud_level\"])"
   ]
  },
  {
   "cell_type": "code",
   "execution_count": 29,
   "metadata": {},
   "outputs": [
    {
     "output_type": "execute_result",
     "data": {
      "text/plain": [
       "  tracking_id             datetime turbine_status_impute_mode  \\\n",
       "0    WM_19817  2019-04-17 08:53:20                         BA   \n",
       "1    WM_18723  2019-03-30 07:43:20                          A   \n",
       "2    WM_34552  2019-08-10 11:33:20                         B2   \n",
       "3    WM_28570  2019-06-26 03:53:20                        BBB   \n",
       "4    WM_36934  2019-08-27 16:43:20                          A   \n",
       "\n",
       "  cloud_level_impute_mode  \n",
       "0                  Medium  \n",
       "1                  Medium  \n",
       "2                  Medium  \n",
       "3                     Low  \n",
       "4                     Low  "
      ],
      "text/html": "<div>\n<style scoped>\n    .dataframe tbody tr th:only-of-type {\n        vertical-align: middle;\n    }\n\n    .dataframe tbody tr th {\n        vertical-align: top;\n    }\n\n    .dataframe thead th {\n        text-align: right;\n    }\n</style>\n<table border=\"1\" class=\"dataframe\">\n  <thead>\n    <tr style=\"text-align: right;\">\n      <th></th>\n      <th>tracking_id</th>\n      <th>datetime</th>\n      <th>turbine_status_impute_mode</th>\n      <th>cloud_level_impute_mode</th>\n    </tr>\n  </thead>\n  <tbody>\n    <tr>\n      <th>0</th>\n      <td>WM_19817</td>\n      <td>2019-04-17 08:53:20</td>\n      <td>BA</td>\n      <td>Medium</td>\n    </tr>\n    <tr>\n      <th>1</th>\n      <td>WM_18723</td>\n      <td>2019-03-30 07:43:20</td>\n      <td>A</td>\n      <td>Medium</td>\n    </tr>\n    <tr>\n      <th>2</th>\n      <td>WM_34552</td>\n      <td>2019-08-10 11:33:20</td>\n      <td>B2</td>\n      <td>Medium</td>\n    </tr>\n    <tr>\n      <th>3</th>\n      <td>WM_28570</td>\n      <td>2019-06-26 03:53:20</td>\n      <td>BBB</td>\n      <td>Low</td>\n    </tr>\n    <tr>\n      <th>4</th>\n      <td>WM_36934</td>\n      <td>2019-08-27 16:43:20</td>\n      <td>A</td>\n      <td>Low</td>\n    </tr>\n  </tbody>\n</table>\n</div>"
     },
     "metadata": {},
     "execution_count": 29
    }
   ],
   "source": [
    "category_data = category_data.dropna(axis=1)\n",
    "category_data.head()"
   ]
  },
  {
   "cell_type": "code",
   "execution_count": 30,
   "metadata": {},
   "outputs": [
    {
     "output_type": "execute_result",
     "data": {
      "text/plain": [
       "  tracking_id             datetime turbine_status_impute_mode  \\\n",
       "0    WM_19817  2019-04-17 08:53:20                         BA   \n",
       "1    WM_18723  2019-03-30 07:43:20                          A   \n",
       "2    WM_34552  2019-08-10 11:33:20                         B2   \n",
       "3    WM_28570  2019-06-26 03:53:20                        BBB   \n",
       "4    WM_36934  2019-08-27 16:43:20                          A   \n",
       "\n",
       "  cloud_level_impute_mode  wind_speed(m/s)  atmospheric_temperature(°C)  \\\n",
       "0                  Medium        94.324266                    17.641186   \n",
       "1                  Medium        10.088870                    13.978119   \n",
       "2                  Medium       347.152090                    31.423035   \n",
       "3                     Low        24.471997                   -99.000000   \n",
       "4                     Low        96.997026                    33.281836   \n",
       "\n",
       "   shaft_temperature(°C)  blades_angle(°)  gearbox_temperature(°C)  \\\n",
       "0              89.714193        51.146788                40.460560   \n",
       "1              43.272846        46.516394                40.027788   \n",
       "2              41.076640        26.931602                43.109122   \n",
       "3              14.375078        66.513953                13.741253   \n",
       "4              41.405192         1.843112               121.572907   \n",
       "\n",
       "   engine_temperature(°C)  ...  generator_temperature(°C)  \\\n",
       "0               39.594734  ...                  66.830037   \n",
       "1               41.176860  ...                  37.284163   \n",
       "2               43.439556  ...                  70.010762   \n",
       "3               15.577472  ...                  41.445258   \n",
       "4               43.934587  ...                  68.007787   \n",
       "\n",
       "   atmospheric_pressure(Pascal)  area_temperature(°C)  \\\n",
       "0                  16681.044117             24.004812   \n",
       "1                  54283.324683             29.431813   \n",
       "2                 214812.836175             29.924235   \n",
       "3                  54283.324683             23.886434   \n",
       "4                  16833.546517             35.906889   \n",
       "\n",
       "   windmill_body_temperature(°C)  wind_direction(°)  resistance(ohm)  \\\n",
       "0                      43.756693         445.976992      1664.222023   \n",
       "1                      42.728174         499.595287      1165.111992   \n",
       "2                      43.256122         245.432231      1667.720491   \n",
       "3                      13.501595         308.376140      1329.744740   \n",
       "4                     -99.000000         442.425744       691.408996   \n",
       "\n",
       "   rotor_torque(N-m)  blade_length(m)  blade_breadth(m)  windmill_height(m)  \n",
       "0          21.912243         3.185837          0.403965           25.572431  \n",
       "1         -35.050093         3.016603          0.444755           24.371823  \n",
       "2          27.195302         2.611941          0.387368           27.654677  \n",
       "3          15.245757         2.866805          0.450478           24.189426  \n",
       "4          34.257024         3.549672          0.368355            4.885440  \n",
       "\n",
       "[5 rows x 21 columns]"
      ],
      "text/html": "<div>\n<style scoped>\n    .dataframe tbody tr th:only-of-type {\n        vertical-align: middle;\n    }\n\n    .dataframe tbody tr th {\n        vertical-align: top;\n    }\n\n    .dataframe thead th {\n        text-align: right;\n    }\n</style>\n<table border=\"1\" class=\"dataframe\">\n  <thead>\n    <tr style=\"text-align: right;\">\n      <th></th>\n      <th>tracking_id</th>\n      <th>datetime</th>\n      <th>turbine_status_impute_mode</th>\n      <th>cloud_level_impute_mode</th>\n      <th>wind_speed(m/s)</th>\n      <th>atmospheric_temperature(°C)</th>\n      <th>shaft_temperature(°C)</th>\n      <th>blades_angle(°)</th>\n      <th>gearbox_temperature(°C)</th>\n      <th>engine_temperature(°C)</th>\n      <th>...</th>\n      <th>generator_temperature(°C)</th>\n      <th>atmospheric_pressure(Pascal)</th>\n      <th>area_temperature(°C)</th>\n      <th>windmill_body_temperature(°C)</th>\n      <th>wind_direction(°)</th>\n      <th>resistance(ohm)</th>\n      <th>rotor_torque(N-m)</th>\n      <th>blade_length(m)</th>\n      <th>blade_breadth(m)</th>\n      <th>windmill_height(m)</th>\n    </tr>\n  </thead>\n  <tbody>\n    <tr>\n      <th>0</th>\n      <td>WM_19817</td>\n      <td>2019-04-17 08:53:20</td>\n      <td>BA</td>\n      <td>Medium</td>\n      <td>94.324266</td>\n      <td>17.641186</td>\n      <td>89.714193</td>\n      <td>51.146788</td>\n      <td>40.460560</td>\n      <td>39.594734</td>\n      <td>...</td>\n      <td>66.830037</td>\n      <td>16681.044117</td>\n      <td>24.004812</td>\n      <td>43.756693</td>\n      <td>445.976992</td>\n      <td>1664.222023</td>\n      <td>21.912243</td>\n      <td>3.185837</td>\n      <td>0.403965</td>\n      <td>25.572431</td>\n    </tr>\n    <tr>\n      <th>1</th>\n      <td>WM_18723</td>\n      <td>2019-03-30 07:43:20</td>\n      <td>A</td>\n      <td>Medium</td>\n      <td>10.088870</td>\n      <td>13.978119</td>\n      <td>43.272846</td>\n      <td>46.516394</td>\n      <td>40.027788</td>\n      <td>41.176860</td>\n      <td>...</td>\n      <td>37.284163</td>\n      <td>54283.324683</td>\n      <td>29.431813</td>\n      <td>42.728174</td>\n      <td>499.595287</td>\n      <td>1165.111992</td>\n      <td>-35.050093</td>\n      <td>3.016603</td>\n      <td>0.444755</td>\n      <td>24.371823</td>\n    </tr>\n    <tr>\n      <th>2</th>\n      <td>WM_34552</td>\n      <td>2019-08-10 11:33:20</td>\n      <td>B2</td>\n      <td>Medium</td>\n      <td>347.152090</td>\n      <td>31.423035</td>\n      <td>41.076640</td>\n      <td>26.931602</td>\n      <td>43.109122</td>\n      <td>43.439556</td>\n      <td>...</td>\n      <td>70.010762</td>\n      <td>214812.836175</td>\n      <td>29.924235</td>\n      <td>43.256122</td>\n      <td>245.432231</td>\n      <td>1667.720491</td>\n      <td>27.195302</td>\n      <td>2.611941</td>\n      <td>0.387368</td>\n      <td>27.654677</td>\n    </tr>\n    <tr>\n      <th>3</th>\n      <td>WM_28570</td>\n      <td>2019-06-26 03:53:20</td>\n      <td>BBB</td>\n      <td>Low</td>\n      <td>24.471997</td>\n      <td>-99.000000</td>\n      <td>14.375078</td>\n      <td>66.513953</td>\n      <td>13.741253</td>\n      <td>15.577472</td>\n      <td>...</td>\n      <td>41.445258</td>\n      <td>54283.324683</td>\n      <td>23.886434</td>\n      <td>13.501595</td>\n      <td>308.376140</td>\n      <td>1329.744740</td>\n      <td>15.245757</td>\n      <td>2.866805</td>\n      <td>0.450478</td>\n      <td>24.189426</td>\n    </tr>\n    <tr>\n      <th>4</th>\n      <td>WM_36934</td>\n      <td>2019-08-27 16:43:20</td>\n      <td>A</td>\n      <td>Low</td>\n      <td>96.997026</td>\n      <td>33.281836</td>\n      <td>41.405192</td>\n      <td>1.843112</td>\n      <td>121.572907</td>\n      <td>43.934587</td>\n      <td>...</td>\n      <td>68.007787</td>\n      <td>16833.546517</td>\n      <td>35.906889</td>\n      <td>-99.000000</td>\n      <td>442.425744</td>\n      <td>691.408996</td>\n      <td>34.257024</td>\n      <td>3.549672</td>\n      <td>0.368355</td>\n      <td>4.885440</td>\n    </tr>\n  </tbody>\n</table>\n<p>5 rows × 21 columns</p>\n</div>"
     },
     "metadata": {},
     "execution_count": 30
    }
   ],
   "source": [
    "test_concat = pd.concat([category_data, numeric_data], axis=1, sort=False)\n",
    "test_concat.head()"
   ]
  },
  {
   "source": [
    "## Data"
   ],
   "cell_type": "markdown",
   "metadata": {}
  },
  {
   "cell_type": "code",
   "execution_count": 40,
   "metadata": {},
   "outputs": [],
   "source": [
    "train_concat['train'] = 1\n",
    "test_concat['train'] = 0\n",
    "df = pd.concat([train_concat, test_concat], axis=0, sort=False)"
   ]
  },
  {
   "cell_type": "code",
   "execution_count": 41,
   "metadata": {},
   "outputs": [
    {
     "output_type": "execute_result",
     "data": {
      "text/plain": [
       "  tracking_id             datetime turbine_status_impute_mode  \\\n",
       "0    WM_33725  2019-08-04 14:33:20                         BA   \n",
       "1      WM_698  2018-11-05 10:13:20                         A2   \n",
       "2    WM_39146  2019-09-14 14:03:20                        ABC   \n",
       "3     WM_6757  2018-12-25 15:33:20                        ABC   \n",
       "4    WM_21521  2019-05-04 03:13:20                        AAA   \n",
       "\n",
       "  cloud_level_impute_mode  wind_speed(m/s)  atmospheric_temperature(°C)  \\\n",
       "0                  Medium        94.820023                   -99.000000   \n",
       "1                  Medium       241.832734                    27.764785   \n",
       "2                  Medium        95.484724                     0.371184   \n",
       "3                     Low       238.819424                   -99.000000   \n",
       "4                  Medium        10.722890                     0.371184   \n",
       "\n",
       "   shaft_temperature(°C)  blades_angle(°)  gearbox_temperature(°C)  \\\n",
       "0              41.723019        -0.903423                82.410573   \n",
       "1             -99.000000       -99.000000                44.104919   \n",
       "2              41.855473        12.652763                42.322098   \n",
       "3              45.443914        15.115323                44.759643   \n",
       "4              41.981183         1.715696               -17.616459   \n",
       "\n",
       "   engine_temperature(°C)  ...  area_temperature(°C)  \\\n",
       "0               42.523015  ...             26.897875   \n",
       "1               46.258870  ...             39.801469   \n",
       "2               42.878552  ...             36.116065   \n",
       "3               47.282101  ...             46.020045   \n",
       "4               43.469852  ...             34.572941   \n",
       "\n",
       "   windmill_body_temperature(°C)  wind_direction(°)  resistance(ohm)  \\\n",
       "0                      20.767246         239.836388      2730.310605   \n",
       "1                      20.767246         337.944723      1780.207200   \n",
       "2                      45.033197         227.850294      1666.049900   \n",
       "3                      44.827154         492.081520      1964.502895   \n",
       "4                     -99.000000         259.274601      1177.516152   \n",
       "\n",
       "   rotor_torque(N-m)  blade_length(m)  blade_breadth(m)  windmill_height(m)  \\\n",
       "0          42.084666         2.217542          0.314065           24.281689   \n",
       "1         107.888643         4.210346          0.448494           27.262139   \n",
       "2         -42.931459         2.719475          0.302321           27.366127   \n",
       "3          42.744596         4.857385          0.367140           24.287767   \n",
       "4          13.387289         2.248762          0.453374           27.971650   \n",
       "\n",
       "   windmill_generated_power(kW/h)  train  \n",
       "0                        6.766521      1  \n",
       "1                        5.966275      1  \n",
       "2                        2.874342      1  \n",
       "3                       14.851089      1  \n",
       "4                        3.519074      1  \n",
       "\n",
       "[5 rows x 23 columns]"
      ],
      "text/html": "<div>\n<style scoped>\n    .dataframe tbody tr th:only-of-type {\n        vertical-align: middle;\n    }\n\n    .dataframe tbody tr th {\n        vertical-align: top;\n    }\n\n    .dataframe thead th {\n        text-align: right;\n    }\n</style>\n<table border=\"1\" class=\"dataframe\">\n  <thead>\n    <tr style=\"text-align: right;\">\n      <th></th>\n      <th>tracking_id</th>\n      <th>datetime</th>\n      <th>turbine_status_impute_mode</th>\n      <th>cloud_level_impute_mode</th>\n      <th>wind_speed(m/s)</th>\n      <th>atmospheric_temperature(°C)</th>\n      <th>shaft_temperature(°C)</th>\n      <th>blades_angle(°)</th>\n      <th>gearbox_temperature(°C)</th>\n      <th>engine_temperature(°C)</th>\n      <th>...</th>\n      <th>area_temperature(°C)</th>\n      <th>windmill_body_temperature(°C)</th>\n      <th>wind_direction(°)</th>\n      <th>resistance(ohm)</th>\n      <th>rotor_torque(N-m)</th>\n      <th>blade_length(m)</th>\n      <th>blade_breadth(m)</th>\n      <th>windmill_height(m)</th>\n      <th>windmill_generated_power(kW/h)</th>\n      <th>train</th>\n    </tr>\n  </thead>\n  <tbody>\n    <tr>\n      <th>0</th>\n      <td>WM_33725</td>\n      <td>2019-08-04 14:33:20</td>\n      <td>BA</td>\n      <td>Medium</td>\n      <td>94.820023</td>\n      <td>-99.000000</td>\n      <td>41.723019</td>\n      <td>-0.903423</td>\n      <td>82.410573</td>\n      <td>42.523015</td>\n      <td>...</td>\n      <td>26.897875</td>\n      <td>20.767246</td>\n      <td>239.836388</td>\n      <td>2730.310605</td>\n      <td>42.084666</td>\n      <td>2.217542</td>\n      <td>0.314065</td>\n      <td>24.281689</td>\n      <td>6.766521</td>\n      <td>1</td>\n    </tr>\n    <tr>\n      <th>1</th>\n      <td>WM_698</td>\n      <td>2018-11-05 10:13:20</td>\n      <td>A2</td>\n      <td>Medium</td>\n      <td>241.832734</td>\n      <td>27.764785</td>\n      <td>-99.000000</td>\n      <td>-99.000000</td>\n      <td>44.104919</td>\n      <td>46.258870</td>\n      <td>...</td>\n      <td>39.801469</td>\n      <td>20.767246</td>\n      <td>337.944723</td>\n      <td>1780.207200</td>\n      <td>107.888643</td>\n      <td>4.210346</td>\n      <td>0.448494</td>\n      <td>27.262139</td>\n      <td>5.966275</td>\n      <td>1</td>\n    </tr>\n    <tr>\n      <th>2</th>\n      <td>WM_39146</td>\n      <td>2019-09-14 14:03:20</td>\n      <td>ABC</td>\n      <td>Medium</td>\n      <td>95.484724</td>\n      <td>0.371184</td>\n      <td>41.855473</td>\n      <td>12.652763</td>\n      <td>42.322098</td>\n      <td>42.878552</td>\n      <td>...</td>\n      <td>36.116065</td>\n      <td>45.033197</td>\n      <td>227.850294</td>\n      <td>1666.049900</td>\n      <td>-42.931459</td>\n      <td>2.719475</td>\n      <td>0.302321</td>\n      <td>27.366127</td>\n      <td>2.874342</td>\n      <td>1</td>\n    </tr>\n    <tr>\n      <th>3</th>\n      <td>WM_6757</td>\n      <td>2018-12-25 15:33:20</td>\n      <td>ABC</td>\n      <td>Low</td>\n      <td>238.819424</td>\n      <td>-99.000000</td>\n      <td>45.443914</td>\n      <td>15.115323</td>\n      <td>44.759643</td>\n      <td>47.282101</td>\n      <td>...</td>\n      <td>46.020045</td>\n      <td>44.827154</td>\n      <td>492.081520</td>\n      <td>1964.502895</td>\n      <td>42.744596</td>\n      <td>4.857385</td>\n      <td>0.367140</td>\n      <td>24.287767</td>\n      <td>14.851089</td>\n      <td>1</td>\n    </tr>\n    <tr>\n      <th>4</th>\n      <td>WM_21521</td>\n      <td>2019-05-04 03:13:20</td>\n      <td>AAA</td>\n      <td>Medium</td>\n      <td>10.722890</td>\n      <td>0.371184</td>\n      <td>41.981183</td>\n      <td>1.715696</td>\n      <td>-17.616459</td>\n      <td>43.469852</td>\n      <td>...</td>\n      <td>34.572941</td>\n      <td>-99.000000</td>\n      <td>259.274601</td>\n      <td>1177.516152</td>\n      <td>13.387289</td>\n      <td>2.248762</td>\n      <td>0.453374</td>\n      <td>27.971650</td>\n      <td>3.519074</td>\n      <td>1</td>\n    </tr>\n  </tbody>\n</table>\n<p>5 rows × 23 columns</p>\n</div>"
     },
     "metadata": {},
     "execution_count": 41
    }
   ],
   "source": [
    "df.head()"
   ]
  },
  {
   "cell_type": "code",
   "execution_count": 42,
   "metadata": {},
   "outputs": [
    {
     "output_type": "stream",
     "name": "stdout",
     "text": [
      "Có tất cả 23 cột.\nTrog đó có 1 cột bị thiếu data\n"
     ]
    },
    {
     "output_type": "execute_result",
     "data": {
      "text/plain": [
       "                                Missing  Percent %\n",
       "windmill_generated_power(kW/h)    12086       30.2"
      ],
      "text/html": "<div>\n<style scoped>\n    .dataframe tbody tr th:only-of-type {\n        vertical-align: middle;\n    }\n\n    .dataframe tbody tr th {\n        vertical-align: top;\n    }\n\n    .dataframe thead th {\n        text-align: right;\n    }\n</style>\n<table border=\"1\" class=\"dataframe\">\n  <thead>\n    <tr style=\"text-align: right;\">\n      <th></th>\n      <th>Missing</th>\n      <th>Percent %</th>\n    </tr>\n  </thead>\n  <tbody>\n    <tr>\n      <th>windmill_generated_power(kW/h)</th>\n      <td>12086</td>\n      <td>30.2</td>\n    </tr>\n  </tbody>\n</table>\n</div>"
     },
     "metadata": {},
     "execution_count": 42
    }
   ],
   "source": [
    "missing_values(df)"
   ]
  },
  {
   "source": [
    "----> Nice"
   ],
   "cell_type": "markdown",
   "metadata": {}
  },
  {
   "source": [
    "# Encode Data"
   ],
   "cell_type": "markdown",
   "metadata": {}
  },
  {
   "cell_type": "code",
   "execution_count": 50,
   "metadata": {},
   "outputs": [
    {
     "output_type": "stream",
     "name": "stdout",
     "text": [
      "<class 'pandas.core.frame.DataFrame'>\nInt64Index: 40079 entries, 0 to 12085\nData columns (total 23 columns):\n #   Column                          Non-Null Count  Dtype  \n---  ------                          --------------  -----  \n 0   tracking_id                     40079 non-null  object \n 1   datetime                        40079 non-null  object \n 2   turbine_status_impute_mode      40079 non-null  object \n 3   cloud_level_impute_mode         40079 non-null  object \n 4   wind_speed(m/s)                 40079 non-null  float64\n 5   atmospheric_temperature(°C)     40079 non-null  float64\n 6   shaft_temperature(°C)           40079 non-null  float64\n 7   blades_angle(°)                 40079 non-null  float64\n 8   gearbox_temperature(°C)         40079 non-null  float64\n 9   engine_temperature(°C)          40079 non-null  float64\n 10  motor_torque(N-m)               40079 non-null  float64\n 11  generator_temperature(°C)       40079 non-null  float64\n 12  atmospheric_pressure(Pascal)    40079 non-null  float64\n 13  area_temperature(°C)            40079 non-null  float64\n 14  windmill_body_temperature(°C)   40079 non-null  float64\n 15  wind_direction(°)               40079 non-null  float64\n 16  resistance(ohm)                 40079 non-null  float64\n 17  rotor_torque(N-m)               40079 non-null  float64\n 18  blade_length(m)                 40079 non-null  float64\n 19  blade_breadth(m)                40079 non-null  float64\n 20  windmill_height(m)              40079 non-null  float64\n 21  windmill_generated_power(kW/h)  27993 non-null  float64\n 22  train                           40079 non-null  int64  \ndtypes: float64(18), int64(1), object(4)\nmemory usage: 7.3+ MB\n"
     ]
    }
   ],
   "source": [
    "df.info()"
   ]
  },
  {
   "source": [
    "for 2 category feature: turbine_status_impute_mode & cloud_level_impute_mode"
   ],
   "cell_type": "markdown",
   "metadata": {}
  },
  {
   "cell_type": "code",
   "execution_count": 43,
   "metadata": {},
   "outputs": [
    {
     "output_type": "execute_result",
     "data": {
      "text/plain": [
       "Low              20153\n",
       "Medium           19491\n",
       "Extremely Low      435\n",
       "Name: cloud_level_impute_mode, dtype: int64"
      ]
     },
     "metadata": {},
     "execution_count": 43
    }
   ],
   "source": [
    "df.cloud_level_impute_mode.value_counts()"
   ]
  },
  {
   "cell_type": "code",
   "execution_count": 44,
   "metadata": {},
   "outputs": [
    {
     "output_type": "execute_result",
     "data": {
      "text/plain": [
       "Low       20153\n",
       "Medium    19926\n",
       "Name: cloud_level_impute_mode, dtype: int64"
      ]
     },
     "metadata": {},
     "execution_count": 44
    }
   ],
   "source": [
    "df['cloud_level_impute_mode'] = df.cloud_level_impute_mode.replace('Extremely Low', 'Medium')\n",
    "df.cloud_level_impute_mode.value_counts()"
   ]
  },
  {
   "cell_type": "code",
   "execution_count": 47,
   "metadata": {},
   "outputs": [
    {
     "output_type": "execute_result",
     "data": {
      "text/plain": [
       "BB     5345\n",
       "B2     2777\n",
       "A      2766\n",
       "BCB    2731\n",
       "AAA    2698\n",
       "D      2693\n",
       "AB     2659\n",
       "BA     2644\n",
       "ABC    2642\n",
       "A2     2636\n",
       "B      2633\n",
       "AC     2619\n",
       "BBB    2619\n",
       "BD     2617\n",
       "Name: turbine_status_impute_mode, dtype: int64"
      ]
     },
     "metadata": {},
     "execution_count": 47
    }
   ],
   "source": [
    "df.turbine_status_impute_mode.value_counts()"
   ]
  },
  {
   "source": [
    "## Ordinal-encoding"
   ],
   "cell_type": "markdown",
   "metadata": {}
  },
  {
   "source": [
    "thay thế các nhãn bằng một số thứ tự nếu thứ tự có ý nghĩa"
   ],
   "cell_type": "markdown",
   "metadata": {}
  },
  {
   "cell_type": "code",
   "execution_count": 48,
   "metadata": {},
   "outputs": [],
   "source": [
    "import category_encoders as ce\n",
    "from sklearn.model_selection import train_test_split"
   ]
  },
  {
   "cell_type": "code",
   "execution_count": 56,
   "metadata": {},
   "outputs": [],
   "source": [
    "df = df.drop(['tracking_id', 'datetime'], axis=1)"
   ]
  },
  {
   "cell_type": "code",
   "execution_count": 60,
   "metadata": {},
   "outputs": [],
   "source": [
    "X_train, X_test, y_train, y_test = train_test_split(df, df['windmill_generated_power(kW/h)'],test_size=0.2, random_state=0)"
   ]
  },
  {
   "cell_type": "code",
   "execution_count": 61,
   "metadata": {},
   "outputs": [
    {
     "output_type": "stream",
     "name": "stderr",
     "text": [
      "C:\\Users\\Ut Luom\\anaconda3\\lib\\site-packages\\category_encoders\\utils.py:21: FutureWarning: is_categorical is deprecated and will be removed in a future version.  Use is_categorical_dtype instead\n  elif pd.api.types.is_categorical(cols):\n"
     ]
    }
   ],
   "source": [
    "ord_enc = ce.OrdinalEncoder(cols=['cloud_level_impute_mode', 'turbine_status_impute_mode']).fit(X_train,y_train)"
   ]
  },
  {
   "cell_type": "code",
   "execution_count": 62,
   "metadata": {},
   "outputs": [],
   "source": [
    "df = ord_enc.transform(df)"
   ]
  },
  {
   "cell_type": "code",
   "execution_count": 63,
   "metadata": {},
   "outputs": [
    {
     "output_type": "execute_result",
     "data": {
      "text/plain": [
       "       turbine_status_impute_mode  cloud_level_impute_mode  wind_speed(m/s)  \\\n",
       "0                               2                        2        94.820023   \n",
       "1                               3                        2       241.832734   \n",
       "2                               1                        2        95.484724   \n",
       "3                               1                        1       238.819424   \n",
       "4                               6                        2        10.722890   \n",
       "...                           ...                      ...              ...   \n",
       "12081                           7                        2       -15.039400   \n",
       "12082                          13                        1        97.594116   \n",
       "12083                           2                        1        16.186805   \n",
       "12084                           8                        2        93.254033   \n",
       "12085                           3                        2        42.607485   \n",
       "\n",
       "       atmospheric_temperature(°C)  shaft_temperature(°C)  blades_angle(°)  \\\n",
       "0                       -99.000000              41.723019        -0.903423   \n",
       "1                        27.764785             -99.000000       -99.000000   \n",
       "2                         0.371184              41.855473        12.652763   \n",
       "3                       -99.000000              45.443914        15.115323   \n",
       "4                         0.371184              41.981183         1.715696   \n",
       "...                            ...                    ...              ...   \n",
       "12081                    18.517204              43.545409        -1.094038   \n",
       "12082                   -99.000000              44.747916         1.750553   \n",
       "12083                     8.109976              43.252012        -0.691090   \n",
       "12084                   -99.000000              43.841789        -1.171974   \n",
       "12085                    13.245828              43.480982         9.258178   \n",
       "\n",
       "       gearbox_temperature(°C)  engine_temperature(°C)  motor_torque(N-m)  \\\n",
       "0                    82.410573               42.523015        2563.124522   \n",
       "1                    44.104919               46.258870        2372.384119   \n",
       "2                    42.322098               42.878552        1657.169646   \n",
       "3                    44.759643               47.282101        2888.134079   \n",
       "4                   -17.616459               43.469852         781.695419   \n",
       "...                        ...                     ...                ...   \n",
       "12081                44.550547               44.486619        2424.370244   \n",
       "12082                43.308176               42.848779        2085.627252   \n",
       "12083               214.904165               41.177782         788.687177   \n",
       "12084                41.976913               42.039796        2079.855634   \n",
       "12085               132.587960               46.312684         969.733090   \n",
       "\n",
       "       generator_temperature(°C)  ...  area_temperature(°C)  \\\n",
       "0                      76.665560  ...             26.897875   \n",
       "1                      78.129803  ...             39.801469   \n",
       "2                      67.654469  ...             36.116065   \n",
       "3                      95.389974  ...             46.020045   \n",
       "4                      37.423065  ...             34.572941   \n",
       "...                          ...  ...                   ...   \n",
       "12081                  75.850209  ...             28.424722   \n",
       "12082                  73.091866  ...             50.615296   \n",
       "12083                  39.514258  ...             20.983939   \n",
       "12084                  71.482324  ...             29.114305   \n",
       "12085                  46.777642  ...             39.491015   \n",
       "\n",
       "       windmill_body_temperature(°C)  wind_direction(°)  resistance(ohm)  \\\n",
       "0                          20.767246         239.836388      2730.310605   \n",
       "1                          20.767246         337.944723      1780.207200   \n",
       "2                          45.033197         227.850294      1666.049900   \n",
       "3                          44.827154         492.081520      1964.502895   \n",
       "4                         -99.000000         259.274601      1177.516152   \n",
       "...                              ...                ...              ...   \n",
       "12081                      42.128526         509.795489      1798.141681   \n",
       "12082                      47.353528         345.705839      1680.245230   \n",
       "12083                      41.768478         205.569627      2343.165194   \n",
       "12084                      82.750271         260.578999      1732.883672   \n",
       "12085                      97.070812         308.376140       -99.000000   \n",
       "\n",
       "       rotor_torque(N-m)  blade_length(m)  blade_breadth(m)  \\\n",
       "0              42.084666         2.217542          0.314065   \n",
       "1             107.888643         4.210346          0.448494   \n",
       "2             -42.931459         2.719475          0.302321   \n",
       "3              42.744596         4.857385          0.367140   \n",
       "4              13.387289         2.248762          0.453374   \n",
       "...                  ...              ...               ...   \n",
       "12081         -14.365696         3.286975          0.407771   \n",
       "12082          -7.062661         2.201328          0.367823   \n",
       "12083          12.331790         3.728375          0.459887   \n",
       "12084          26.566581         2.247676          0.394680   \n",
       "12085          19.467561         2.201328          0.490893   \n",
       "\n",
       "       windmill_height(m)  windmill_generated_power(kW/h)  train  \n",
       "0               24.281689                        6.766521      1  \n",
       "1               27.262139                        5.966275      1  \n",
       "2               27.366127                        2.874342      1  \n",
       "3               24.287767                       14.851089      1  \n",
       "4               27.971650                        3.519074      1  \n",
       "...                   ...                             ...    ...  \n",
       "12081           20.888674                             NaN      0  \n",
       "12082           24.793606                             NaN      0  \n",
       "12083            5.653451                             NaN      0  \n",
       "12084           24.591364                             NaN      0  \n",
       "12085           21.665001                             NaN      0  \n",
       "\n",
       "[40079 rows x 21 columns]"
      ],
      "text/html": "<div>\n<style scoped>\n    .dataframe tbody tr th:only-of-type {\n        vertical-align: middle;\n    }\n\n    .dataframe tbody tr th {\n        vertical-align: top;\n    }\n\n    .dataframe thead th {\n        text-align: right;\n    }\n</style>\n<table border=\"1\" class=\"dataframe\">\n  <thead>\n    <tr style=\"text-align: right;\">\n      <th></th>\n      <th>turbine_status_impute_mode</th>\n      <th>cloud_level_impute_mode</th>\n      <th>wind_speed(m/s)</th>\n      <th>atmospheric_temperature(°C)</th>\n      <th>shaft_temperature(°C)</th>\n      <th>blades_angle(°)</th>\n      <th>gearbox_temperature(°C)</th>\n      <th>engine_temperature(°C)</th>\n      <th>motor_torque(N-m)</th>\n      <th>generator_temperature(°C)</th>\n      <th>...</th>\n      <th>area_temperature(°C)</th>\n      <th>windmill_body_temperature(°C)</th>\n      <th>wind_direction(°)</th>\n      <th>resistance(ohm)</th>\n      <th>rotor_torque(N-m)</th>\n      <th>blade_length(m)</th>\n      <th>blade_breadth(m)</th>\n      <th>windmill_height(m)</th>\n      <th>windmill_generated_power(kW/h)</th>\n      <th>train</th>\n    </tr>\n  </thead>\n  <tbody>\n    <tr>\n      <th>0</th>\n      <td>2</td>\n      <td>2</td>\n      <td>94.820023</td>\n      <td>-99.000000</td>\n      <td>41.723019</td>\n      <td>-0.903423</td>\n      <td>82.410573</td>\n      <td>42.523015</td>\n      <td>2563.124522</td>\n      <td>76.665560</td>\n      <td>...</td>\n      <td>26.897875</td>\n      <td>20.767246</td>\n      <td>239.836388</td>\n      <td>2730.310605</td>\n      <td>42.084666</td>\n      <td>2.217542</td>\n      <td>0.314065</td>\n      <td>24.281689</td>\n      <td>6.766521</td>\n      <td>1</td>\n    </tr>\n    <tr>\n      <th>1</th>\n      <td>3</td>\n      <td>2</td>\n      <td>241.832734</td>\n      <td>27.764785</td>\n      <td>-99.000000</td>\n      <td>-99.000000</td>\n      <td>44.104919</td>\n      <td>46.258870</td>\n      <td>2372.384119</td>\n      <td>78.129803</td>\n      <td>...</td>\n      <td>39.801469</td>\n      <td>20.767246</td>\n      <td>337.944723</td>\n      <td>1780.207200</td>\n      <td>107.888643</td>\n      <td>4.210346</td>\n      <td>0.448494</td>\n      <td>27.262139</td>\n      <td>5.966275</td>\n      <td>1</td>\n    </tr>\n    <tr>\n      <th>2</th>\n      <td>1</td>\n      <td>2</td>\n      <td>95.484724</td>\n      <td>0.371184</td>\n      <td>41.855473</td>\n      <td>12.652763</td>\n      <td>42.322098</td>\n      <td>42.878552</td>\n      <td>1657.169646</td>\n      <td>67.654469</td>\n      <td>...</td>\n      <td>36.116065</td>\n      <td>45.033197</td>\n      <td>227.850294</td>\n      <td>1666.049900</td>\n      <td>-42.931459</td>\n      <td>2.719475</td>\n      <td>0.302321</td>\n      <td>27.366127</td>\n      <td>2.874342</td>\n      <td>1</td>\n    </tr>\n    <tr>\n      <th>3</th>\n      <td>1</td>\n      <td>1</td>\n      <td>238.819424</td>\n      <td>-99.000000</td>\n      <td>45.443914</td>\n      <td>15.115323</td>\n      <td>44.759643</td>\n      <td>47.282101</td>\n      <td>2888.134079</td>\n      <td>95.389974</td>\n      <td>...</td>\n      <td>46.020045</td>\n      <td>44.827154</td>\n      <td>492.081520</td>\n      <td>1964.502895</td>\n      <td>42.744596</td>\n      <td>4.857385</td>\n      <td>0.367140</td>\n      <td>24.287767</td>\n      <td>14.851089</td>\n      <td>1</td>\n    </tr>\n    <tr>\n      <th>4</th>\n      <td>6</td>\n      <td>2</td>\n      <td>10.722890</td>\n      <td>0.371184</td>\n      <td>41.981183</td>\n      <td>1.715696</td>\n      <td>-17.616459</td>\n      <td>43.469852</td>\n      <td>781.695419</td>\n      <td>37.423065</td>\n      <td>...</td>\n      <td>34.572941</td>\n      <td>-99.000000</td>\n      <td>259.274601</td>\n      <td>1177.516152</td>\n      <td>13.387289</td>\n      <td>2.248762</td>\n      <td>0.453374</td>\n      <td>27.971650</td>\n      <td>3.519074</td>\n      <td>1</td>\n    </tr>\n    <tr>\n      <th>...</th>\n      <td>...</td>\n      <td>...</td>\n      <td>...</td>\n      <td>...</td>\n      <td>...</td>\n      <td>...</td>\n      <td>...</td>\n      <td>...</td>\n      <td>...</td>\n      <td>...</td>\n      <td>...</td>\n      <td>...</td>\n      <td>...</td>\n      <td>...</td>\n      <td>...</td>\n      <td>...</td>\n      <td>...</td>\n      <td>...</td>\n      <td>...</td>\n      <td>...</td>\n      <td>...</td>\n    </tr>\n    <tr>\n      <th>12081</th>\n      <td>7</td>\n      <td>2</td>\n      <td>-15.039400</td>\n      <td>18.517204</td>\n      <td>43.545409</td>\n      <td>-1.094038</td>\n      <td>44.550547</td>\n      <td>44.486619</td>\n      <td>2424.370244</td>\n      <td>75.850209</td>\n      <td>...</td>\n      <td>28.424722</td>\n      <td>42.128526</td>\n      <td>509.795489</td>\n      <td>1798.141681</td>\n      <td>-14.365696</td>\n      <td>3.286975</td>\n      <td>0.407771</td>\n      <td>20.888674</td>\n      <td>NaN</td>\n      <td>0</td>\n    </tr>\n    <tr>\n      <th>12082</th>\n      <td>13</td>\n      <td>1</td>\n      <td>97.594116</td>\n      <td>-99.000000</td>\n      <td>44.747916</td>\n      <td>1.750553</td>\n      <td>43.308176</td>\n      <td>42.848779</td>\n      <td>2085.627252</td>\n      <td>73.091866</td>\n      <td>...</td>\n      <td>50.615296</td>\n      <td>47.353528</td>\n      <td>345.705839</td>\n      <td>1680.245230</td>\n      <td>-7.062661</td>\n      <td>2.201328</td>\n      <td>0.367823</td>\n      <td>24.793606</td>\n      <td>NaN</td>\n      <td>0</td>\n    </tr>\n    <tr>\n      <th>12083</th>\n      <td>2</td>\n      <td>1</td>\n      <td>16.186805</td>\n      <td>8.109976</td>\n      <td>43.252012</td>\n      <td>-0.691090</td>\n      <td>214.904165</td>\n      <td>41.177782</td>\n      <td>788.687177</td>\n      <td>39.514258</td>\n      <td>...</td>\n      <td>20.983939</td>\n      <td>41.768478</td>\n      <td>205.569627</td>\n      <td>2343.165194</td>\n      <td>12.331790</td>\n      <td>3.728375</td>\n      <td>0.459887</td>\n      <td>5.653451</td>\n      <td>NaN</td>\n      <td>0</td>\n    </tr>\n    <tr>\n      <th>12084</th>\n      <td>8</td>\n      <td>2</td>\n      <td>93.254033</td>\n      <td>-99.000000</td>\n      <td>43.841789</td>\n      <td>-1.171974</td>\n      <td>41.976913</td>\n      <td>42.039796</td>\n      <td>2079.855634</td>\n      <td>71.482324</td>\n      <td>...</td>\n      <td>29.114305</td>\n      <td>82.750271</td>\n      <td>260.578999</td>\n      <td>1732.883672</td>\n      <td>26.566581</td>\n      <td>2.247676</td>\n      <td>0.394680</td>\n      <td>24.591364</td>\n      <td>NaN</td>\n      <td>0</td>\n    </tr>\n    <tr>\n      <th>12085</th>\n      <td>3</td>\n      <td>2</td>\n      <td>42.607485</td>\n      <td>13.245828</td>\n      <td>43.480982</td>\n      <td>9.258178</td>\n      <td>132.587960</td>\n      <td>46.312684</td>\n      <td>969.733090</td>\n      <td>46.777642</td>\n      <td>...</td>\n      <td>39.491015</td>\n      <td>97.070812</td>\n      <td>308.376140</td>\n      <td>-99.000000</td>\n      <td>19.467561</td>\n      <td>2.201328</td>\n      <td>0.490893</td>\n      <td>21.665001</td>\n      <td>NaN</td>\n      <td>0</td>\n    </tr>\n  </tbody>\n</table>\n<p>40079 rows × 21 columns</p>\n</div>"
     },
     "metadata": {},
     "execution_count": 63
    }
   ],
   "source": [
    "df"
   ]
  },
  {
   "cell_type": "code",
   "execution_count": 65,
   "metadata": {},
   "outputs": [
    {
     "output_type": "execute_result",
     "data": {
      "text/plain": [
       "1    20153\n",
       "2    19926\n",
       "Name: cloud_level_impute_mode, dtype: int64"
      ]
     },
     "metadata": {},
     "execution_count": 65
    }
   ],
   "source": [
    "df.cloud_level_impute_mode.value_counts()"
   ]
  },
  {
   "cell_type": "code",
   "execution_count": null,
   "metadata": {},
   "outputs": [],
   "source": []
  }
 ]
}